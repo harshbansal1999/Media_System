{
 "cells": [
  {
   "cell_type": "code",
   "execution_count": 1,
   "metadata": {},
   "outputs": [
    {
     "data": {
      "text/html": [
       "        <script type=\"text/javascript\">\n",
       "        window.PlotlyConfig = {MathJaxConfig: 'local'};\n",
       "        if (window.MathJax) {MathJax.Hub.Config({SVG: {font: \"STIX-Web\"}});}\n",
       "        if (typeof require !== 'undefined') {\n",
       "        require.undef(\"plotly\");\n",
       "        requirejs.config({\n",
       "            paths: {\n",
       "                'plotly': ['https://cdn.plot.ly/plotly-latest.min']\n",
       "            }\n",
       "        });\n",
       "        require(['plotly'], function(Plotly) {\n",
       "            window._Plotly = Plotly;\n",
       "        });\n",
       "        }\n",
       "        </script>\n",
       "        "
      ]
     },
     "metadata": {},
     "output_type": "display_data"
    }
   ],
   "source": [
    "import pandas as pd\n",
    "import numpy as np\n",
    "import seaborn as sns\n",
    "import matplotlib.pyplot as plt\n",
    "from plotly.offline import iplot, init_notebook_mode\n",
    "init_notebook_mode(connected = True)\n",
    "import plotly.graph_objs as go\n",
    "import pyrebase\n",
    "from collections import Counter\n",
    "%matplotlib inline\n",
    "sns.set()"
   ]
  },
  {
   "cell_type": "code",
   "execution_count": 2,
   "metadata": {},
   "outputs": [],
   "source": [
    "firebaseConfig = {'apiKey': \"xx\",\n",
    "                  'authDomain': \"x\",\n",
    "                  'projectId': x\",\n",
    "                  'storageBucket': \"x",\n",
    "                  'messagingSenderId': \"x\",\n",
    "                  'appId': \"x",\n",
    "                  'measurementId': \"x\",\n",
    "                  'databaseURL': \"x\"}\n",
    "\n",
    "firebase = pyrebase.initialize_app(firebaseConfig)\n",
    "db=firebase.database()"
   ]
  },
  {
   "cell_type": "code",
   "execution_count": 3,
   "metadata": {},
   "outputs": [],
   "source": [
    "def fetch_firebase(name,cols):\n",
    "    \n",
    "    data=db.child(name).get()\n",
    "    df=pd.DataFrame(columns=cols)\n",
    "    for per in data.each():\n",
    "        df.loc[len(df)]=list(per.val().values())\n",
    "    \n",
    "    return df"
   ]
  },
  {
   "cell_type": "markdown",
   "metadata": {},
   "source": [
    "# Search Data"
   ]
  },
  {
   "cell_type": "code",
   "execution_count": 4,
   "metadata": {},
   "outputs": [
    {
     "data": {
      "text/html": [
       "<div>\n",
       "<style scoped>\n",
       "    .dataframe tbody tr th:only-of-type {\n",
       "        vertical-align: middle;\n",
       "    }\n",
       "\n",
       "    .dataframe tbody tr th {\n",
       "        vertical-align: top;\n",
       "    }\n",
       "\n",
       "    .dataframe thead th {\n",
       "        text-align: right;\n",
       "    }\n",
       "</style>\n",
       "<table border=\"1\" class=\"dataframe\">\n",
       "  <thead>\n",
       "    <tr style=\"text-align: right;\">\n",
       "      <th></th>\n",
       "      <th>Input</th>\n",
       "      <th>Type</th>\n",
       "    </tr>\n",
       "  </thead>\n",
       "  <tbody>\n",
       "    <tr>\n",
       "      <th>0</th>\n",
       "      <td>Interstellar</td>\n",
       "      <td>Movie</td>\n",
       "    </tr>\n",
       "    <tr>\n",
       "      <th>1</th>\n",
       "      <td>Inception</td>\n",
       "      <td>Movie</td>\n",
       "    </tr>\n",
       "    <tr>\n",
       "      <th>2</th>\n",
       "      <td>Breaking Bad</td>\n",
       "      <td>Movie</td>\n",
       "    </tr>\n",
       "    <tr>\n",
       "      <th>3</th>\n",
       "      <td>Bradd Pitt</td>\n",
       "      <td>Star</td>\n",
       "    </tr>\n",
       "    <tr>\n",
       "      <th>4</th>\n",
       "      <td>tom cruise</td>\n",
       "      <td>Star</td>\n",
       "    </tr>\n",
       "  </tbody>\n",
       "</table>\n",
       "</div>"
      ],
      "text/plain": [
       "          Input   Type\n",
       "0  Interstellar  Movie\n",
       "1     Inception  Movie\n",
       "2  Breaking Bad  Movie\n",
       "3    Bradd Pitt   Star\n",
       "4    tom cruise   Star"
      ]
     },
     "execution_count": 4,
     "metadata": {},
     "output_type": "execute_result"
    }
   ],
   "source": [
    "df=fetch_firebase(\"Search_Data\",['ID','IMDB Link','Input','Type'])\n",
    "df=df.loc[:,['Input','Type']]\n",
    "df.head()"
   ]
  },
  {
   "cell_type": "code",
   "execution_count": 5,
   "metadata": {},
   "outputs": [
    {
     "data": {
      "application/vnd.plotly.v1+json": {
       "config": {
        "linkText": "Export to plot.ly",
        "plotlyServerURL": "https://plot.ly",
        "showLink": false
       },
       "data": [
        {
         "labels": [
          "Movie",
          "Star"
         ],
         "type": "pie",
         "values": [
          5,
          3
         ]
        }
       ],
       "layout": {
        "hovermode": "closest",
        "template": {
         "data": {
          "bar": [
           {
            "error_x": {
             "color": "#2a3f5f"
            },
            "error_y": {
             "color": "#2a3f5f"
            },
            "marker": {
             "line": {
              "color": "#E5ECF6",
              "width": 0.5
             }
            },
            "type": "bar"
           }
          ],
          "barpolar": [
           {
            "marker": {
             "line": {
              "color": "#E5ECF6",
              "width": 0.5
             }
            },
            "type": "barpolar"
           }
          ],
          "carpet": [
           {
            "aaxis": {
             "endlinecolor": "#2a3f5f",
             "gridcolor": "white",
             "linecolor": "white",
             "minorgridcolor": "white",
             "startlinecolor": "#2a3f5f"
            },
            "baxis": {
             "endlinecolor": "#2a3f5f",
             "gridcolor": "white",
             "linecolor": "white",
             "minorgridcolor": "white",
             "startlinecolor": "#2a3f5f"
            },
            "type": "carpet"
           }
          ],
          "choropleth": [
           {
            "colorbar": {
             "outlinewidth": 0,
             "ticks": ""
            },
            "type": "choropleth"
           }
          ],
          "contour": [
           {
            "colorbar": {
             "outlinewidth": 0,
             "ticks": ""
            },
            "colorscale": [
             [
              0,
              "#0d0887"
             ],
             [
              0.1111111111111111,
              "#46039f"
             ],
             [
              0.2222222222222222,
              "#7201a8"
             ],
             [
              0.3333333333333333,
              "#9c179e"
             ],
             [
              0.4444444444444444,
              "#bd3786"
             ],
             [
              0.5555555555555556,
              "#d8576b"
             ],
             [
              0.6666666666666666,
              "#ed7953"
             ],
             [
              0.7777777777777778,
              "#fb9f3a"
             ],
             [
              0.8888888888888888,
              "#fdca26"
             ],
             [
              1,
              "#f0f921"
             ]
            ],
            "type": "contour"
           }
          ],
          "contourcarpet": [
           {
            "colorbar": {
             "outlinewidth": 0,
             "ticks": ""
            },
            "type": "contourcarpet"
           }
          ],
          "heatmap": [
           {
            "colorbar": {
             "outlinewidth": 0,
             "ticks": ""
            },
            "colorscale": [
             [
              0,
              "#0d0887"
             ],
             [
              0.1111111111111111,
              "#46039f"
             ],
             [
              0.2222222222222222,
              "#7201a8"
             ],
             [
              0.3333333333333333,
              "#9c179e"
             ],
             [
              0.4444444444444444,
              "#bd3786"
             ],
             [
              0.5555555555555556,
              "#d8576b"
             ],
             [
              0.6666666666666666,
              "#ed7953"
             ],
             [
              0.7777777777777778,
              "#fb9f3a"
             ],
             [
              0.8888888888888888,
              "#fdca26"
             ],
             [
              1,
              "#f0f921"
             ]
            ],
            "type": "heatmap"
           }
          ],
          "heatmapgl": [
           {
            "colorbar": {
             "outlinewidth": 0,
             "ticks": ""
            },
            "colorscale": [
             [
              0,
              "#0d0887"
             ],
             [
              0.1111111111111111,
              "#46039f"
             ],
             [
              0.2222222222222222,
              "#7201a8"
             ],
             [
              0.3333333333333333,
              "#9c179e"
             ],
             [
              0.4444444444444444,
              "#bd3786"
             ],
             [
              0.5555555555555556,
              "#d8576b"
             ],
             [
              0.6666666666666666,
              "#ed7953"
             ],
             [
              0.7777777777777778,
              "#fb9f3a"
             ],
             [
              0.8888888888888888,
              "#fdca26"
             ],
             [
              1,
              "#f0f921"
             ]
            ],
            "type": "heatmapgl"
           }
          ],
          "histogram": [
           {
            "marker": {
             "colorbar": {
              "outlinewidth": 0,
              "ticks": ""
             }
            },
            "type": "histogram"
           }
          ],
          "histogram2d": [
           {
            "colorbar": {
             "outlinewidth": 0,
             "ticks": ""
            },
            "colorscale": [
             [
              0,
              "#0d0887"
             ],
             [
              0.1111111111111111,
              "#46039f"
             ],
             [
              0.2222222222222222,
              "#7201a8"
             ],
             [
              0.3333333333333333,
              "#9c179e"
             ],
             [
              0.4444444444444444,
              "#bd3786"
             ],
             [
              0.5555555555555556,
              "#d8576b"
             ],
             [
              0.6666666666666666,
              "#ed7953"
             ],
             [
              0.7777777777777778,
              "#fb9f3a"
             ],
             [
              0.8888888888888888,
              "#fdca26"
             ],
             [
              1,
              "#f0f921"
             ]
            ],
            "type": "histogram2d"
           }
          ],
          "histogram2dcontour": [
           {
            "colorbar": {
             "outlinewidth": 0,
             "ticks": ""
            },
            "colorscale": [
             [
              0,
              "#0d0887"
             ],
             [
              0.1111111111111111,
              "#46039f"
             ],
             [
              0.2222222222222222,
              "#7201a8"
             ],
             [
              0.3333333333333333,
              "#9c179e"
             ],
             [
              0.4444444444444444,
              "#bd3786"
             ],
             [
              0.5555555555555556,
              "#d8576b"
             ],
             [
              0.6666666666666666,
              "#ed7953"
             ],
             [
              0.7777777777777778,
              "#fb9f3a"
             ],
             [
              0.8888888888888888,
              "#fdca26"
             ],
             [
              1,
              "#f0f921"
             ]
            ],
            "type": "histogram2dcontour"
           }
          ],
          "mesh3d": [
           {
            "colorbar": {
             "outlinewidth": 0,
             "ticks": ""
            },
            "type": "mesh3d"
           }
          ],
          "parcoords": [
           {
            "line": {
             "colorbar": {
              "outlinewidth": 0,
              "ticks": ""
             }
            },
            "type": "parcoords"
           }
          ],
          "pie": [
           {
            "automargin": true,
            "type": "pie"
           }
          ],
          "scatter": [
           {
            "marker": {
             "colorbar": {
              "outlinewidth": 0,
              "ticks": ""
             }
            },
            "type": "scatter"
           }
          ],
          "scatter3d": [
           {
            "line": {
             "colorbar": {
              "outlinewidth": 0,
              "ticks": ""
             }
            },
            "marker": {
             "colorbar": {
              "outlinewidth": 0,
              "ticks": ""
             }
            },
            "type": "scatter3d"
           }
          ],
          "scattercarpet": [
           {
            "marker": {
             "colorbar": {
              "outlinewidth": 0,
              "ticks": ""
             }
            },
            "type": "scattercarpet"
           }
          ],
          "scattergeo": [
           {
            "marker": {
             "colorbar": {
              "outlinewidth": 0,
              "ticks": ""
             }
            },
            "type": "scattergeo"
           }
          ],
          "scattergl": [
           {
            "marker": {
             "colorbar": {
              "outlinewidth": 0,
              "ticks": ""
             }
            },
            "type": "scattergl"
           }
          ],
          "scattermapbox": [
           {
            "marker": {
             "colorbar": {
              "outlinewidth": 0,
              "ticks": ""
             }
            },
            "type": "scattermapbox"
           }
          ],
          "scatterpolar": [
           {
            "marker": {
             "colorbar": {
              "outlinewidth": 0,
              "ticks": ""
             }
            },
            "type": "scatterpolar"
           }
          ],
          "scatterpolargl": [
           {
            "marker": {
             "colorbar": {
              "outlinewidth": 0,
              "ticks": ""
             }
            },
            "type": "scatterpolargl"
           }
          ],
          "scatterternary": [
           {
            "marker": {
             "colorbar": {
              "outlinewidth": 0,
              "ticks": ""
             }
            },
            "type": "scatterternary"
           }
          ],
          "surface": [
           {
            "colorbar": {
             "outlinewidth": 0,
             "ticks": ""
            },
            "colorscale": [
             [
              0,
              "#0d0887"
             ],
             [
              0.1111111111111111,
              "#46039f"
             ],
             [
              0.2222222222222222,
              "#7201a8"
             ],
             [
              0.3333333333333333,
              "#9c179e"
             ],
             [
              0.4444444444444444,
              "#bd3786"
             ],
             [
              0.5555555555555556,
              "#d8576b"
             ],
             [
              0.6666666666666666,
              "#ed7953"
             ],
             [
              0.7777777777777778,
              "#fb9f3a"
             ],
             [
              0.8888888888888888,
              "#fdca26"
             ],
             [
              1,
              "#f0f921"
             ]
            ],
            "type": "surface"
           }
          ],
          "table": [
           {
            "cells": {
             "fill": {
              "color": "#EBF0F8"
             },
             "line": {
              "color": "white"
             }
            },
            "header": {
             "fill": {
              "color": "#C8D4E3"
             },
             "line": {
              "color": "white"
             }
            },
            "type": "table"
           }
          ]
         },
         "layout": {
          "annotationdefaults": {
           "arrowcolor": "#2a3f5f",
           "arrowhead": 0,
           "arrowwidth": 1
          },
          "coloraxis": {
           "colorbar": {
            "outlinewidth": 0,
            "ticks": ""
           }
          },
          "colorscale": {
           "diverging": [
            [
             0,
             "#8e0152"
            ],
            [
             0.1,
             "#c51b7d"
            ],
            [
             0.2,
             "#de77ae"
            ],
            [
             0.3,
             "#f1b6da"
            ],
            [
             0.4,
             "#fde0ef"
            ],
            [
             0.5,
             "#f7f7f7"
            ],
            [
             0.6,
             "#e6f5d0"
            ],
            [
             0.7,
             "#b8e186"
            ],
            [
             0.8,
             "#7fbc41"
            ],
            [
             0.9,
             "#4d9221"
            ],
            [
             1,
             "#276419"
            ]
           ],
           "sequential": [
            [
             0,
             "#0d0887"
            ],
            [
             0.1111111111111111,
             "#46039f"
            ],
            [
             0.2222222222222222,
             "#7201a8"
            ],
            [
             0.3333333333333333,
             "#9c179e"
            ],
            [
             0.4444444444444444,
             "#bd3786"
            ],
            [
             0.5555555555555556,
             "#d8576b"
            ],
            [
             0.6666666666666666,
             "#ed7953"
            ],
            [
             0.7777777777777778,
             "#fb9f3a"
            ],
            [
             0.8888888888888888,
             "#fdca26"
            ],
            [
             1,
             "#f0f921"
            ]
           ],
           "sequentialminus": [
            [
             0,
             "#0d0887"
            ],
            [
             0.1111111111111111,
             "#46039f"
            ],
            [
             0.2222222222222222,
             "#7201a8"
            ],
            [
             0.3333333333333333,
             "#9c179e"
            ],
            [
             0.4444444444444444,
             "#bd3786"
            ],
            [
             0.5555555555555556,
             "#d8576b"
            ],
            [
             0.6666666666666666,
             "#ed7953"
            ],
            [
             0.7777777777777778,
             "#fb9f3a"
            ],
            [
             0.8888888888888888,
             "#fdca26"
            ],
            [
             1,
             "#f0f921"
            ]
           ]
          },
          "colorway": [
           "#636efa",
           "#EF553B",
           "#00cc96",
           "#ab63fa",
           "#FFA15A",
           "#19d3f3",
           "#FF6692",
           "#B6E880",
           "#FF97FF",
           "#FECB52"
          ],
          "font": {
           "color": "#2a3f5f"
          },
          "geo": {
           "bgcolor": "white",
           "lakecolor": "white",
           "landcolor": "#E5ECF6",
           "showlakes": true,
           "showland": true,
           "subunitcolor": "white"
          },
          "hoverlabel": {
           "align": "left"
          },
          "hovermode": "closest",
          "mapbox": {
           "style": "light"
          },
          "paper_bgcolor": "white",
          "plot_bgcolor": "#E5ECF6",
          "polar": {
           "angularaxis": {
            "gridcolor": "white",
            "linecolor": "white",
            "ticks": ""
           },
           "bgcolor": "#E5ECF6",
           "radialaxis": {
            "gridcolor": "white",
            "linecolor": "white",
            "ticks": ""
           }
          },
          "scene": {
           "xaxis": {
            "backgroundcolor": "#E5ECF6",
            "gridcolor": "white",
            "gridwidth": 2,
            "linecolor": "white",
            "showbackground": true,
            "ticks": "",
            "zerolinecolor": "white"
           },
           "yaxis": {
            "backgroundcolor": "#E5ECF6",
            "gridcolor": "white",
            "gridwidth": 2,
            "linecolor": "white",
            "showbackground": true,
            "ticks": "",
            "zerolinecolor": "white"
           },
           "zaxis": {
            "backgroundcolor": "#E5ECF6",
            "gridcolor": "white",
            "gridwidth": 2,
            "linecolor": "white",
            "showbackground": true,
            "ticks": "",
            "zerolinecolor": "white"
           }
          },
          "shapedefaults": {
           "line": {
            "color": "#2a3f5f"
           }
          },
          "ternary": {
           "aaxis": {
            "gridcolor": "white",
            "linecolor": "white",
            "ticks": ""
           },
           "baxis": {
            "gridcolor": "white",
            "linecolor": "white",
            "ticks": ""
           },
           "bgcolor": "#E5ECF6",
           "caxis": {
            "gridcolor": "white",
            "linecolor": "white",
            "ticks": ""
           }
          },
          "title": {
           "x": 0.05
          },
          "xaxis": {
           "automargin": true,
           "gridcolor": "white",
           "linecolor": "white",
           "ticks": "",
           "title": {
            "standoff": 15
           },
           "zerolinecolor": "white",
           "zerolinewidth": 2
          },
          "yaxis": {
           "automargin": true,
           "gridcolor": "white",
           "linecolor": "white",
           "ticks": "",
           "title": {
            "standoff": 15
           },
           "zerolinecolor": "white",
           "zerolinewidth": 2
          }
         }
        },
        "title": {
         "text": "Type Of Input"
        }
       }
      },
      "text/html": [
       "<div>                            <div id=\"0313be1f-f258-4e7a-a65e-7668905d43cf\" class=\"plotly-graph-div\" style=\"height:525px; width:100%;\"></div>            <script type=\"text/javascript\">                require([\"plotly\"], function(Plotly) {                    window.PLOTLYENV=window.PLOTLYENV || {};                                    if (document.getElementById(\"0313be1f-f258-4e7a-a65e-7668905d43cf\")) {                    Plotly.newPlot(                        \"0313be1f-f258-4e7a-a65e-7668905d43cf\",                        [{\"labels\": [\"Movie\", \"Star\"], \"type\": \"pie\", \"values\": [5, 3]}],                        {\"hovermode\": \"closest\", \"template\": {\"data\": {\"bar\": [{\"error_x\": {\"color\": \"#2a3f5f\"}, \"error_y\": {\"color\": \"#2a3f5f\"}, \"marker\": {\"line\": {\"color\": \"#E5ECF6\", \"width\": 0.5}}, \"type\": \"bar\"}], \"barpolar\": [{\"marker\": {\"line\": {\"color\": \"#E5ECF6\", \"width\": 0.5}}, \"type\": \"barpolar\"}], \"carpet\": [{\"aaxis\": {\"endlinecolor\": \"#2a3f5f\", \"gridcolor\": \"white\", \"linecolor\": \"white\", \"minorgridcolor\": \"white\", \"startlinecolor\": \"#2a3f5f\"}, \"baxis\": {\"endlinecolor\": \"#2a3f5f\", \"gridcolor\": \"white\", \"linecolor\": \"white\", \"minorgridcolor\": \"white\", \"startlinecolor\": \"#2a3f5f\"}, \"type\": \"carpet\"}], \"choropleth\": [{\"colorbar\": {\"outlinewidth\": 0, \"ticks\": \"\"}, \"type\": \"choropleth\"}], \"contour\": [{\"colorbar\": {\"outlinewidth\": 0, \"ticks\": \"\"}, \"colorscale\": [[0.0, \"#0d0887\"], [0.1111111111111111, \"#46039f\"], [0.2222222222222222, \"#7201a8\"], [0.3333333333333333, \"#9c179e\"], [0.4444444444444444, \"#bd3786\"], [0.5555555555555556, \"#d8576b\"], [0.6666666666666666, \"#ed7953\"], [0.7777777777777778, \"#fb9f3a\"], [0.8888888888888888, \"#fdca26\"], [1.0, \"#f0f921\"]], \"type\": \"contour\"}], \"contourcarpet\": [{\"colorbar\": {\"outlinewidth\": 0, \"ticks\": \"\"}, \"type\": \"contourcarpet\"}], \"heatmap\": [{\"colorbar\": {\"outlinewidth\": 0, \"ticks\": \"\"}, \"colorscale\": [[0.0, \"#0d0887\"], [0.1111111111111111, \"#46039f\"], [0.2222222222222222, \"#7201a8\"], [0.3333333333333333, \"#9c179e\"], [0.4444444444444444, \"#bd3786\"], [0.5555555555555556, \"#d8576b\"], [0.6666666666666666, \"#ed7953\"], [0.7777777777777778, \"#fb9f3a\"], [0.8888888888888888, \"#fdca26\"], [1.0, \"#f0f921\"]], \"type\": \"heatmap\"}], \"heatmapgl\": [{\"colorbar\": {\"outlinewidth\": 0, \"ticks\": \"\"}, \"colorscale\": [[0.0, \"#0d0887\"], [0.1111111111111111, \"#46039f\"], [0.2222222222222222, \"#7201a8\"], [0.3333333333333333, \"#9c179e\"], [0.4444444444444444, \"#bd3786\"], [0.5555555555555556, \"#d8576b\"], [0.6666666666666666, \"#ed7953\"], [0.7777777777777778, \"#fb9f3a\"], [0.8888888888888888, \"#fdca26\"], [1.0, \"#f0f921\"]], \"type\": \"heatmapgl\"}], \"histogram\": [{\"marker\": {\"colorbar\": {\"outlinewidth\": 0, \"ticks\": \"\"}}, \"type\": \"histogram\"}], \"histogram2d\": [{\"colorbar\": {\"outlinewidth\": 0, \"ticks\": \"\"}, \"colorscale\": [[0.0, \"#0d0887\"], [0.1111111111111111, \"#46039f\"], [0.2222222222222222, \"#7201a8\"], [0.3333333333333333, \"#9c179e\"], [0.4444444444444444, \"#bd3786\"], [0.5555555555555556, \"#d8576b\"], [0.6666666666666666, \"#ed7953\"], [0.7777777777777778, \"#fb9f3a\"], [0.8888888888888888, \"#fdca26\"], [1.0, \"#f0f921\"]], \"type\": \"histogram2d\"}], \"histogram2dcontour\": [{\"colorbar\": {\"outlinewidth\": 0, \"ticks\": \"\"}, \"colorscale\": [[0.0, \"#0d0887\"], [0.1111111111111111, \"#46039f\"], [0.2222222222222222, \"#7201a8\"], [0.3333333333333333, \"#9c179e\"], [0.4444444444444444, \"#bd3786\"], [0.5555555555555556, \"#d8576b\"], [0.6666666666666666, \"#ed7953\"], [0.7777777777777778, \"#fb9f3a\"], [0.8888888888888888, \"#fdca26\"], [1.0, \"#f0f921\"]], \"type\": \"histogram2dcontour\"}], \"mesh3d\": [{\"colorbar\": {\"outlinewidth\": 0, \"ticks\": \"\"}, \"type\": \"mesh3d\"}], \"parcoords\": [{\"line\": {\"colorbar\": {\"outlinewidth\": 0, \"ticks\": \"\"}}, \"type\": \"parcoords\"}], \"pie\": [{\"automargin\": true, \"type\": \"pie\"}], \"scatter\": [{\"marker\": {\"colorbar\": {\"outlinewidth\": 0, \"ticks\": \"\"}}, \"type\": \"scatter\"}], \"scatter3d\": [{\"line\": {\"colorbar\": {\"outlinewidth\": 0, \"ticks\": \"\"}}, \"marker\": {\"colorbar\": {\"outlinewidth\": 0, \"ticks\": \"\"}}, \"type\": \"scatter3d\"}], \"scattercarpet\": [{\"marker\": {\"colorbar\": {\"outlinewidth\": 0, \"ticks\": \"\"}}, \"type\": \"scattercarpet\"}], \"scattergeo\": [{\"marker\": {\"colorbar\": {\"outlinewidth\": 0, \"ticks\": \"\"}}, \"type\": \"scattergeo\"}], \"scattergl\": [{\"marker\": {\"colorbar\": {\"outlinewidth\": 0, \"ticks\": \"\"}}, \"type\": \"scattergl\"}], \"scattermapbox\": [{\"marker\": {\"colorbar\": {\"outlinewidth\": 0, \"ticks\": \"\"}}, \"type\": \"scattermapbox\"}], \"scatterpolar\": [{\"marker\": {\"colorbar\": {\"outlinewidth\": 0, \"ticks\": \"\"}}, \"type\": \"scatterpolar\"}], \"scatterpolargl\": [{\"marker\": {\"colorbar\": {\"outlinewidth\": 0, \"ticks\": \"\"}}, \"type\": \"scatterpolargl\"}], \"scatterternary\": [{\"marker\": {\"colorbar\": {\"outlinewidth\": 0, \"ticks\": \"\"}}, \"type\": \"scatterternary\"}], \"surface\": [{\"colorbar\": {\"outlinewidth\": 0, \"ticks\": \"\"}, \"colorscale\": [[0.0, \"#0d0887\"], [0.1111111111111111, \"#46039f\"], [0.2222222222222222, \"#7201a8\"], [0.3333333333333333, \"#9c179e\"], [0.4444444444444444, \"#bd3786\"], [0.5555555555555556, \"#d8576b\"], [0.6666666666666666, \"#ed7953\"], [0.7777777777777778, \"#fb9f3a\"], [0.8888888888888888, \"#fdca26\"], [1.0, \"#f0f921\"]], \"type\": \"surface\"}], \"table\": [{\"cells\": {\"fill\": {\"color\": \"#EBF0F8\"}, \"line\": {\"color\": \"white\"}}, \"header\": {\"fill\": {\"color\": \"#C8D4E3\"}, \"line\": {\"color\": \"white\"}}, \"type\": \"table\"}]}, \"layout\": {\"annotationdefaults\": {\"arrowcolor\": \"#2a3f5f\", \"arrowhead\": 0, \"arrowwidth\": 1}, \"coloraxis\": {\"colorbar\": {\"outlinewidth\": 0, \"ticks\": \"\"}}, \"colorscale\": {\"diverging\": [[0, \"#8e0152\"], [0.1, \"#c51b7d\"], [0.2, \"#de77ae\"], [0.3, \"#f1b6da\"], [0.4, \"#fde0ef\"], [0.5, \"#f7f7f7\"], [0.6, \"#e6f5d0\"], [0.7, \"#b8e186\"], [0.8, \"#7fbc41\"], [0.9, \"#4d9221\"], [1, \"#276419\"]], \"sequential\": [[0.0, \"#0d0887\"], [0.1111111111111111, \"#46039f\"], [0.2222222222222222, \"#7201a8\"], [0.3333333333333333, \"#9c179e\"], [0.4444444444444444, \"#bd3786\"], [0.5555555555555556, \"#d8576b\"], [0.6666666666666666, \"#ed7953\"], [0.7777777777777778, \"#fb9f3a\"], [0.8888888888888888, \"#fdca26\"], [1.0, \"#f0f921\"]], \"sequentialminus\": [[0.0, \"#0d0887\"], [0.1111111111111111, \"#46039f\"], [0.2222222222222222, \"#7201a8\"], [0.3333333333333333, \"#9c179e\"], [0.4444444444444444, \"#bd3786\"], [0.5555555555555556, \"#d8576b\"], [0.6666666666666666, \"#ed7953\"], [0.7777777777777778, \"#fb9f3a\"], [0.8888888888888888, \"#fdca26\"], [1.0, \"#f0f921\"]]}, \"colorway\": [\"#636efa\", \"#EF553B\", \"#00cc96\", \"#ab63fa\", \"#FFA15A\", \"#19d3f3\", \"#FF6692\", \"#B6E880\", \"#FF97FF\", \"#FECB52\"], \"font\": {\"color\": \"#2a3f5f\"}, \"geo\": {\"bgcolor\": \"white\", \"lakecolor\": \"white\", \"landcolor\": \"#E5ECF6\", \"showlakes\": true, \"showland\": true, \"subunitcolor\": \"white\"}, \"hoverlabel\": {\"align\": \"left\"}, \"hovermode\": \"closest\", \"mapbox\": {\"style\": \"light\"}, \"paper_bgcolor\": \"white\", \"plot_bgcolor\": \"#E5ECF6\", \"polar\": {\"angularaxis\": {\"gridcolor\": \"white\", \"linecolor\": \"white\", \"ticks\": \"\"}, \"bgcolor\": \"#E5ECF6\", \"radialaxis\": {\"gridcolor\": \"white\", \"linecolor\": \"white\", \"ticks\": \"\"}}, \"scene\": {\"xaxis\": {\"backgroundcolor\": \"#E5ECF6\", \"gridcolor\": \"white\", \"gridwidth\": 2, \"linecolor\": \"white\", \"showbackground\": true, \"ticks\": \"\", \"zerolinecolor\": \"white\"}, \"yaxis\": {\"backgroundcolor\": \"#E5ECF6\", \"gridcolor\": \"white\", \"gridwidth\": 2, \"linecolor\": \"white\", \"showbackground\": true, \"ticks\": \"\", \"zerolinecolor\": \"white\"}, \"zaxis\": {\"backgroundcolor\": \"#E5ECF6\", \"gridcolor\": \"white\", \"gridwidth\": 2, \"linecolor\": \"white\", \"showbackground\": true, \"ticks\": \"\", \"zerolinecolor\": \"white\"}}, \"shapedefaults\": {\"line\": {\"color\": \"#2a3f5f\"}}, \"ternary\": {\"aaxis\": {\"gridcolor\": \"white\", \"linecolor\": \"white\", \"ticks\": \"\"}, \"baxis\": {\"gridcolor\": \"white\", \"linecolor\": \"white\", \"ticks\": \"\"}, \"bgcolor\": \"#E5ECF6\", \"caxis\": {\"gridcolor\": \"white\", \"linecolor\": \"white\", \"ticks\": \"\"}}, \"title\": {\"x\": 0.05}, \"xaxis\": {\"automargin\": true, \"gridcolor\": \"white\", \"linecolor\": \"white\", \"ticks\": \"\", \"title\": {\"standoff\": 15}, \"zerolinecolor\": \"white\", \"zerolinewidth\": 2}, \"yaxis\": {\"automargin\": true, \"gridcolor\": \"white\", \"linecolor\": \"white\", \"ticks\": \"\", \"title\": {\"standoff\": 15}, \"zerolinecolor\": \"white\", \"zerolinewidth\": 2}}}, \"title\": {\"text\": \"Type Of Input\"}},                        {\"responsive\": true}                    ).then(function(){\n",
       "                            \n",
       "var gd = document.getElementById('0313be1f-f258-4e7a-a65e-7668905d43cf');\n",
       "var x = new MutationObserver(function (mutations, observer) {{\n",
       "        var display = window.getComputedStyle(gd).display;\n",
       "        if (!display || display === 'none') {{\n",
       "            console.log([gd, 'removed!']);\n",
       "            Plotly.purge(gd);\n",
       "            observer.disconnect();\n",
       "        }}\n",
       "}});\n",
       "\n",
       "// Listen for the removal of the full notebook cells\n",
       "var notebookContainer = gd.closest('#notebook-container');\n",
       "if (notebookContainer) {{\n",
       "    x.observe(notebookContainer, {childList: true});\n",
       "}}\n",
       "\n",
       "// Listen for the clearing of the current output cell\n",
       "var outputEl = gd.closest('.output');\n",
       "if (outputEl) {{\n",
       "    x.observe(outputEl, {childList: true});\n",
       "}}\n",
       "\n",
       "                        })                };                });            </script>        </div>"
      ]
     },
     "metadata": {},
     "output_type": "display_data"
    }
   ],
   "source": [
    "x=df['Type'].value_counts()\n",
    "x=x[x>1]\n",
    "data=[go.Pie(\n",
    "        labels=list(x.index),\n",
    "        values=list(x.values))]\n",
    "\n",
    "layout=go.Layout(\n",
    "title='Type Of Input',\n",
    "hovermode='closest'\n",
    ")\n",
    "\n",
    "fig = go.Figure(data=data,layout=layout)\n",
    "iplot(fig)"
   ]
  },
  {
   "cell_type": "code",
   "execution_count": 6,
   "metadata": {},
   "outputs": [
    {
     "data": {
      "application/vnd.plotly.v1+json": {
       "config": {
        "linkText": "Export to plot.ly",
        "plotlyServerURL": "https://plot.ly",
        "showLink": false
       },
       "data": [
        {
         "name": "Inputs",
         "type": "bar",
         "x": [
          "black clover",
          "akshay kumar",
          "tom cruise",
          "the prestige",
          "Interstellar",
          "Breaking Bad",
          "Bradd Pitt",
          "Inception"
         ],
         "y": [
          1,
          1,
          1,
          1,
          1,
          1,
          1,
          1
         ]
        }
       ],
       "layout": {
        "hovermode": "closest",
        "template": {
         "data": {
          "bar": [
           {
            "error_x": {
             "color": "#2a3f5f"
            },
            "error_y": {
             "color": "#2a3f5f"
            },
            "marker": {
             "line": {
              "color": "#E5ECF6",
              "width": 0.5
             }
            },
            "type": "bar"
           }
          ],
          "barpolar": [
           {
            "marker": {
             "line": {
              "color": "#E5ECF6",
              "width": 0.5
             }
            },
            "type": "barpolar"
           }
          ],
          "carpet": [
           {
            "aaxis": {
             "endlinecolor": "#2a3f5f",
             "gridcolor": "white",
             "linecolor": "white",
             "minorgridcolor": "white",
             "startlinecolor": "#2a3f5f"
            },
            "baxis": {
             "endlinecolor": "#2a3f5f",
             "gridcolor": "white",
             "linecolor": "white",
             "minorgridcolor": "white",
             "startlinecolor": "#2a3f5f"
            },
            "type": "carpet"
           }
          ],
          "choropleth": [
           {
            "colorbar": {
             "outlinewidth": 0,
             "ticks": ""
            },
            "type": "choropleth"
           }
          ],
          "contour": [
           {
            "colorbar": {
             "outlinewidth": 0,
             "ticks": ""
            },
            "colorscale": [
             [
              0,
              "#0d0887"
             ],
             [
              0.1111111111111111,
              "#46039f"
             ],
             [
              0.2222222222222222,
              "#7201a8"
             ],
             [
              0.3333333333333333,
              "#9c179e"
             ],
             [
              0.4444444444444444,
              "#bd3786"
             ],
             [
              0.5555555555555556,
              "#d8576b"
             ],
             [
              0.6666666666666666,
              "#ed7953"
             ],
             [
              0.7777777777777778,
              "#fb9f3a"
             ],
             [
              0.8888888888888888,
              "#fdca26"
             ],
             [
              1,
              "#f0f921"
             ]
            ],
            "type": "contour"
           }
          ],
          "contourcarpet": [
           {
            "colorbar": {
             "outlinewidth": 0,
             "ticks": ""
            },
            "type": "contourcarpet"
           }
          ],
          "heatmap": [
           {
            "colorbar": {
             "outlinewidth": 0,
             "ticks": ""
            },
            "colorscale": [
             [
              0,
              "#0d0887"
             ],
             [
              0.1111111111111111,
              "#46039f"
             ],
             [
              0.2222222222222222,
              "#7201a8"
             ],
             [
              0.3333333333333333,
              "#9c179e"
             ],
             [
              0.4444444444444444,
              "#bd3786"
             ],
             [
              0.5555555555555556,
              "#d8576b"
             ],
             [
              0.6666666666666666,
              "#ed7953"
             ],
             [
              0.7777777777777778,
              "#fb9f3a"
             ],
             [
              0.8888888888888888,
              "#fdca26"
             ],
             [
              1,
              "#f0f921"
             ]
            ],
            "type": "heatmap"
           }
          ],
          "heatmapgl": [
           {
            "colorbar": {
             "outlinewidth": 0,
             "ticks": ""
            },
            "colorscale": [
             [
              0,
              "#0d0887"
             ],
             [
              0.1111111111111111,
              "#46039f"
             ],
             [
              0.2222222222222222,
              "#7201a8"
             ],
             [
              0.3333333333333333,
              "#9c179e"
             ],
             [
              0.4444444444444444,
              "#bd3786"
             ],
             [
              0.5555555555555556,
              "#d8576b"
             ],
             [
              0.6666666666666666,
              "#ed7953"
             ],
             [
              0.7777777777777778,
              "#fb9f3a"
             ],
             [
              0.8888888888888888,
              "#fdca26"
             ],
             [
              1,
              "#f0f921"
             ]
            ],
            "type": "heatmapgl"
           }
          ],
          "histogram": [
           {
            "marker": {
             "colorbar": {
              "outlinewidth": 0,
              "ticks": ""
             }
            },
            "type": "histogram"
           }
          ],
          "histogram2d": [
           {
            "colorbar": {
             "outlinewidth": 0,
             "ticks": ""
            },
            "colorscale": [
             [
              0,
              "#0d0887"
             ],
             [
              0.1111111111111111,
              "#46039f"
             ],
             [
              0.2222222222222222,
              "#7201a8"
             ],
             [
              0.3333333333333333,
              "#9c179e"
             ],
             [
              0.4444444444444444,
              "#bd3786"
             ],
             [
              0.5555555555555556,
              "#d8576b"
             ],
             [
              0.6666666666666666,
              "#ed7953"
             ],
             [
              0.7777777777777778,
              "#fb9f3a"
             ],
             [
              0.8888888888888888,
              "#fdca26"
             ],
             [
              1,
              "#f0f921"
             ]
            ],
            "type": "histogram2d"
           }
          ],
          "histogram2dcontour": [
           {
            "colorbar": {
             "outlinewidth": 0,
             "ticks": ""
            },
            "colorscale": [
             [
              0,
              "#0d0887"
             ],
             [
              0.1111111111111111,
              "#46039f"
             ],
             [
              0.2222222222222222,
              "#7201a8"
             ],
             [
              0.3333333333333333,
              "#9c179e"
             ],
             [
              0.4444444444444444,
              "#bd3786"
             ],
             [
              0.5555555555555556,
              "#d8576b"
             ],
             [
              0.6666666666666666,
              "#ed7953"
             ],
             [
              0.7777777777777778,
              "#fb9f3a"
             ],
             [
              0.8888888888888888,
              "#fdca26"
             ],
             [
              1,
              "#f0f921"
             ]
            ],
            "type": "histogram2dcontour"
           }
          ],
          "mesh3d": [
           {
            "colorbar": {
             "outlinewidth": 0,
             "ticks": ""
            },
            "type": "mesh3d"
           }
          ],
          "parcoords": [
           {
            "line": {
             "colorbar": {
              "outlinewidth": 0,
              "ticks": ""
             }
            },
            "type": "parcoords"
           }
          ],
          "pie": [
           {
            "automargin": true,
            "type": "pie"
           }
          ],
          "scatter": [
           {
            "marker": {
             "colorbar": {
              "outlinewidth": 0,
              "ticks": ""
             }
            },
            "type": "scatter"
           }
          ],
          "scatter3d": [
           {
            "line": {
             "colorbar": {
              "outlinewidth": 0,
              "ticks": ""
             }
            },
            "marker": {
             "colorbar": {
              "outlinewidth": 0,
              "ticks": ""
             }
            },
            "type": "scatter3d"
           }
          ],
          "scattercarpet": [
           {
            "marker": {
             "colorbar": {
              "outlinewidth": 0,
              "ticks": ""
             }
            },
            "type": "scattercarpet"
           }
          ],
          "scattergeo": [
           {
            "marker": {
             "colorbar": {
              "outlinewidth": 0,
              "ticks": ""
             }
            },
            "type": "scattergeo"
           }
          ],
          "scattergl": [
           {
            "marker": {
             "colorbar": {
              "outlinewidth": 0,
              "ticks": ""
             }
            },
            "type": "scattergl"
           }
          ],
          "scattermapbox": [
           {
            "marker": {
             "colorbar": {
              "outlinewidth": 0,
              "ticks": ""
             }
            },
            "type": "scattermapbox"
           }
          ],
          "scatterpolar": [
           {
            "marker": {
             "colorbar": {
              "outlinewidth": 0,
              "ticks": ""
             }
            },
            "type": "scatterpolar"
           }
          ],
          "scatterpolargl": [
           {
            "marker": {
             "colorbar": {
              "outlinewidth": 0,
              "ticks": ""
             }
            },
            "type": "scatterpolargl"
           }
          ],
          "scatterternary": [
           {
            "marker": {
             "colorbar": {
              "outlinewidth": 0,
              "ticks": ""
             }
            },
            "type": "scatterternary"
           }
          ],
          "surface": [
           {
            "colorbar": {
             "outlinewidth": 0,
             "ticks": ""
            },
            "colorscale": [
             [
              0,
              "#0d0887"
             ],
             [
              0.1111111111111111,
              "#46039f"
             ],
             [
              0.2222222222222222,
              "#7201a8"
             ],
             [
              0.3333333333333333,
              "#9c179e"
             ],
             [
              0.4444444444444444,
              "#bd3786"
             ],
             [
              0.5555555555555556,
              "#d8576b"
             ],
             [
              0.6666666666666666,
              "#ed7953"
             ],
             [
              0.7777777777777778,
              "#fb9f3a"
             ],
             [
              0.8888888888888888,
              "#fdca26"
             ],
             [
              1,
              "#f0f921"
             ]
            ],
            "type": "surface"
           }
          ],
          "table": [
           {
            "cells": {
             "fill": {
              "color": "#EBF0F8"
             },
             "line": {
              "color": "white"
             }
            },
            "header": {
             "fill": {
              "color": "#C8D4E3"
             },
             "line": {
              "color": "white"
             }
            },
            "type": "table"
           }
          ]
         },
         "layout": {
          "annotationdefaults": {
           "arrowcolor": "#2a3f5f",
           "arrowhead": 0,
           "arrowwidth": 1
          },
          "coloraxis": {
           "colorbar": {
            "outlinewidth": 0,
            "ticks": ""
           }
          },
          "colorscale": {
           "diverging": [
            [
             0,
             "#8e0152"
            ],
            [
             0.1,
             "#c51b7d"
            ],
            [
             0.2,
             "#de77ae"
            ],
            [
             0.3,
             "#f1b6da"
            ],
            [
             0.4,
             "#fde0ef"
            ],
            [
             0.5,
             "#f7f7f7"
            ],
            [
             0.6,
             "#e6f5d0"
            ],
            [
             0.7,
             "#b8e186"
            ],
            [
             0.8,
             "#7fbc41"
            ],
            [
             0.9,
             "#4d9221"
            ],
            [
             1,
             "#276419"
            ]
           ],
           "sequential": [
            [
             0,
             "#0d0887"
            ],
            [
             0.1111111111111111,
             "#46039f"
            ],
            [
             0.2222222222222222,
             "#7201a8"
            ],
            [
             0.3333333333333333,
             "#9c179e"
            ],
            [
             0.4444444444444444,
             "#bd3786"
            ],
            [
             0.5555555555555556,
             "#d8576b"
            ],
            [
             0.6666666666666666,
             "#ed7953"
            ],
            [
             0.7777777777777778,
             "#fb9f3a"
            ],
            [
             0.8888888888888888,
             "#fdca26"
            ],
            [
             1,
             "#f0f921"
            ]
           ],
           "sequentialminus": [
            [
             0,
             "#0d0887"
            ],
            [
             0.1111111111111111,
             "#46039f"
            ],
            [
             0.2222222222222222,
             "#7201a8"
            ],
            [
             0.3333333333333333,
             "#9c179e"
            ],
            [
             0.4444444444444444,
             "#bd3786"
            ],
            [
             0.5555555555555556,
             "#d8576b"
            ],
            [
             0.6666666666666666,
             "#ed7953"
            ],
            [
             0.7777777777777778,
             "#fb9f3a"
            ],
            [
             0.8888888888888888,
             "#fdca26"
            ],
            [
             1,
             "#f0f921"
            ]
           ]
          },
          "colorway": [
           "#636efa",
           "#EF553B",
           "#00cc96",
           "#ab63fa",
           "#FFA15A",
           "#19d3f3",
           "#FF6692",
           "#B6E880",
           "#FF97FF",
           "#FECB52"
          ],
          "font": {
           "color": "#2a3f5f"
          },
          "geo": {
           "bgcolor": "white",
           "lakecolor": "white",
           "landcolor": "#E5ECF6",
           "showlakes": true,
           "showland": true,
           "subunitcolor": "white"
          },
          "hoverlabel": {
           "align": "left"
          },
          "hovermode": "closest",
          "mapbox": {
           "style": "light"
          },
          "paper_bgcolor": "white",
          "plot_bgcolor": "#E5ECF6",
          "polar": {
           "angularaxis": {
            "gridcolor": "white",
            "linecolor": "white",
            "ticks": ""
           },
           "bgcolor": "#E5ECF6",
           "radialaxis": {
            "gridcolor": "white",
            "linecolor": "white",
            "ticks": ""
           }
          },
          "scene": {
           "xaxis": {
            "backgroundcolor": "#E5ECF6",
            "gridcolor": "white",
            "gridwidth": 2,
            "linecolor": "white",
            "showbackground": true,
            "ticks": "",
            "zerolinecolor": "white"
           },
           "yaxis": {
            "backgroundcolor": "#E5ECF6",
            "gridcolor": "white",
            "gridwidth": 2,
            "linecolor": "white",
            "showbackground": true,
            "ticks": "",
            "zerolinecolor": "white"
           },
           "zaxis": {
            "backgroundcolor": "#E5ECF6",
            "gridcolor": "white",
            "gridwidth": 2,
            "linecolor": "white",
            "showbackground": true,
            "ticks": "",
            "zerolinecolor": "white"
           }
          },
          "shapedefaults": {
           "line": {
            "color": "#2a3f5f"
           }
          },
          "ternary": {
           "aaxis": {
            "gridcolor": "white",
            "linecolor": "white",
            "ticks": ""
           },
           "baxis": {
            "gridcolor": "white",
            "linecolor": "white",
            "ticks": ""
           },
           "bgcolor": "#E5ECF6",
           "caxis": {
            "gridcolor": "white",
            "linecolor": "white",
            "ticks": ""
           }
          },
          "title": {
           "x": 0.05
          },
          "xaxis": {
           "automargin": true,
           "gridcolor": "white",
           "linecolor": "white",
           "ticks": "",
           "title": {
            "standoff": 15
           },
           "zerolinecolor": "white",
           "zerolinewidth": 2
          },
          "yaxis": {
           "automargin": true,
           "gridcolor": "white",
           "linecolor": "white",
           "ticks": "",
           "title": {
            "standoff": 15
           },
           "zerolinecolor": "white",
           "zerolinewidth": 2
          }
         }
        },
        "title": {
         "text": "Searches"
        },
        "xaxis": {
         "title": {
          "text": "Input"
         }
        },
        "yaxis": {
         "title": {
          "text": "Count"
         }
        }
       }
      },
      "text/html": [
       "<div>                            <div id=\"a5bd498e-efe4-49f5-a435-500443fd4d07\" class=\"plotly-graph-div\" style=\"height:525px; width:100%;\"></div>            <script type=\"text/javascript\">                require([\"plotly\"], function(Plotly) {                    window.PLOTLYENV=window.PLOTLYENV || {};                                    if (document.getElementById(\"a5bd498e-efe4-49f5-a435-500443fd4d07\")) {                    Plotly.newPlot(                        \"a5bd498e-efe4-49f5-a435-500443fd4d07\",                        [{\"name\": \"Inputs\", \"type\": \"bar\", \"x\": [\"black clover\", \"akshay kumar\", \"tom cruise\", \"the prestige\", \"Interstellar\", \"Breaking Bad\", \"Bradd Pitt\", \"Inception\"], \"y\": [1, 1, 1, 1, 1, 1, 1, 1]}],                        {\"hovermode\": \"closest\", \"template\": {\"data\": {\"bar\": [{\"error_x\": {\"color\": \"#2a3f5f\"}, \"error_y\": {\"color\": \"#2a3f5f\"}, \"marker\": {\"line\": {\"color\": \"#E5ECF6\", \"width\": 0.5}}, \"type\": \"bar\"}], \"barpolar\": [{\"marker\": {\"line\": {\"color\": \"#E5ECF6\", \"width\": 0.5}}, \"type\": \"barpolar\"}], \"carpet\": [{\"aaxis\": {\"endlinecolor\": \"#2a3f5f\", \"gridcolor\": \"white\", \"linecolor\": \"white\", \"minorgridcolor\": \"white\", \"startlinecolor\": \"#2a3f5f\"}, \"baxis\": {\"endlinecolor\": \"#2a3f5f\", \"gridcolor\": \"white\", \"linecolor\": \"white\", \"minorgridcolor\": \"white\", \"startlinecolor\": \"#2a3f5f\"}, \"type\": \"carpet\"}], \"choropleth\": [{\"colorbar\": {\"outlinewidth\": 0, \"ticks\": \"\"}, \"type\": \"choropleth\"}], \"contour\": [{\"colorbar\": {\"outlinewidth\": 0, \"ticks\": \"\"}, \"colorscale\": [[0.0, \"#0d0887\"], [0.1111111111111111, \"#46039f\"], [0.2222222222222222, \"#7201a8\"], [0.3333333333333333, \"#9c179e\"], [0.4444444444444444, \"#bd3786\"], [0.5555555555555556, \"#d8576b\"], [0.6666666666666666, \"#ed7953\"], [0.7777777777777778, \"#fb9f3a\"], [0.8888888888888888, \"#fdca26\"], [1.0, \"#f0f921\"]], \"type\": \"contour\"}], \"contourcarpet\": [{\"colorbar\": {\"outlinewidth\": 0, \"ticks\": \"\"}, \"type\": \"contourcarpet\"}], \"heatmap\": [{\"colorbar\": {\"outlinewidth\": 0, \"ticks\": \"\"}, \"colorscale\": [[0.0, \"#0d0887\"], [0.1111111111111111, \"#46039f\"], [0.2222222222222222, \"#7201a8\"], [0.3333333333333333, \"#9c179e\"], [0.4444444444444444, \"#bd3786\"], [0.5555555555555556, \"#d8576b\"], [0.6666666666666666, \"#ed7953\"], [0.7777777777777778, \"#fb9f3a\"], [0.8888888888888888, \"#fdca26\"], [1.0, \"#f0f921\"]], \"type\": \"heatmap\"}], \"heatmapgl\": [{\"colorbar\": {\"outlinewidth\": 0, \"ticks\": \"\"}, \"colorscale\": [[0.0, \"#0d0887\"], [0.1111111111111111, \"#46039f\"], [0.2222222222222222, \"#7201a8\"], [0.3333333333333333, \"#9c179e\"], [0.4444444444444444, \"#bd3786\"], [0.5555555555555556, \"#d8576b\"], [0.6666666666666666, \"#ed7953\"], [0.7777777777777778, \"#fb9f3a\"], [0.8888888888888888, \"#fdca26\"], [1.0, \"#f0f921\"]], \"type\": \"heatmapgl\"}], \"histogram\": [{\"marker\": {\"colorbar\": {\"outlinewidth\": 0, \"ticks\": \"\"}}, \"type\": \"histogram\"}], \"histogram2d\": [{\"colorbar\": {\"outlinewidth\": 0, \"ticks\": \"\"}, \"colorscale\": [[0.0, \"#0d0887\"], [0.1111111111111111, \"#46039f\"], [0.2222222222222222, \"#7201a8\"], [0.3333333333333333, \"#9c179e\"], [0.4444444444444444, \"#bd3786\"], [0.5555555555555556, \"#d8576b\"], [0.6666666666666666, \"#ed7953\"], [0.7777777777777778, \"#fb9f3a\"], [0.8888888888888888, \"#fdca26\"], [1.0, \"#f0f921\"]], \"type\": \"histogram2d\"}], \"histogram2dcontour\": [{\"colorbar\": {\"outlinewidth\": 0, \"ticks\": \"\"}, \"colorscale\": [[0.0, \"#0d0887\"], [0.1111111111111111, \"#46039f\"], [0.2222222222222222, \"#7201a8\"], [0.3333333333333333, \"#9c179e\"], [0.4444444444444444, \"#bd3786\"], [0.5555555555555556, \"#d8576b\"], [0.6666666666666666, \"#ed7953\"], [0.7777777777777778, \"#fb9f3a\"], [0.8888888888888888, \"#fdca26\"], [1.0, \"#f0f921\"]], \"type\": \"histogram2dcontour\"}], \"mesh3d\": [{\"colorbar\": {\"outlinewidth\": 0, \"ticks\": \"\"}, \"type\": \"mesh3d\"}], \"parcoords\": [{\"line\": {\"colorbar\": {\"outlinewidth\": 0, \"ticks\": \"\"}}, \"type\": \"parcoords\"}], \"pie\": [{\"automargin\": true, \"type\": \"pie\"}], \"scatter\": [{\"marker\": {\"colorbar\": {\"outlinewidth\": 0, \"ticks\": \"\"}}, \"type\": \"scatter\"}], \"scatter3d\": [{\"line\": {\"colorbar\": {\"outlinewidth\": 0, \"ticks\": \"\"}}, \"marker\": {\"colorbar\": {\"outlinewidth\": 0, \"ticks\": \"\"}}, \"type\": \"scatter3d\"}], \"scattercarpet\": [{\"marker\": {\"colorbar\": {\"outlinewidth\": 0, \"ticks\": \"\"}}, \"type\": \"scattercarpet\"}], \"scattergeo\": [{\"marker\": {\"colorbar\": {\"outlinewidth\": 0, \"ticks\": \"\"}}, \"type\": \"scattergeo\"}], \"scattergl\": [{\"marker\": {\"colorbar\": {\"outlinewidth\": 0, \"ticks\": \"\"}}, \"type\": \"scattergl\"}], \"scattermapbox\": [{\"marker\": {\"colorbar\": {\"outlinewidth\": 0, \"ticks\": \"\"}}, \"type\": \"scattermapbox\"}], \"scatterpolar\": [{\"marker\": {\"colorbar\": {\"outlinewidth\": 0, \"ticks\": \"\"}}, \"type\": \"scatterpolar\"}], \"scatterpolargl\": [{\"marker\": {\"colorbar\": {\"outlinewidth\": 0, \"ticks\": \"\"}}, \"type\": \"scatterpolargl\"}], \"scatterternary\": [{\"marker\": {\"colorbar\": {\"outlinewidth\": 0, \"ticks\": \"\"}}, \"type\": \"scatterternary\"}], \"surface\": [{\"colorbar\": {\"outlinewidth\": 0, \"ticks\": \"\"}, \"colorscale\": [[0.0, \"#0d0887\"], [0.1111111111111111, \"#46039f\"], [0.2222222222222222, \"#7201a8\"], [0.3333333333333333, \"#9c179e\"], [0.4444444444444444, \"#bd3786\"], [0.5555555555555556, \"#d8576b\"], [0.6666666666666666, \"#ed7953\"], [0.7777777777777778, \"#fb9f3a\"], [0.8888888888888888, \"#fdca26\"], [1.0, \"#f0f921\"]], \"type\": \"surface\"}], \"table\": [{\"cells\": {\"fill\": {\"color\": \"#EBF0F8\"}, \"line\": {\"color\": \"white\"}}, \"header\": {\"fill\": {\"color\": \"#C8D4E3\"}, \"line\": {\"color\": \"white\"}}, \"type\": \"table\"}]}, \"layout\": {\"annotationdefaults\": {\"arrowcolor\": \"#2a3f5f\", \"arrowhead\": 0, \"arrowwidth\": 1}, \"coloraxis\": {\"colorbar\": {\"outlinewidth\": 0, \"ticks\": \"\"}}, \"colorscale\": {\"diverging\": [[0, \"#8e0152\"], [0.1, \"#c51b7d\"], [0.2, \"#de77ae\"], [0.3, \"#f1b6da\"], [0.4, \"#fde0ef\"], [0.5, \"#f7f7f7\"], [0.6, \"#e6f5d0\"], [0.7, \"#b8e186\"], [0.8, \"#7fbc41\"], [0.9, \"#4d9221\"], [1, \"#276419\"]], \"sequential\": [[0.0, \"#0d0887\"], [0.1111111111111111, \"#46039f\"], [0.2222222222222222, \"#7201a8\"], [0.3333333333333333, \"#9c179e\"], [0.4444444444444444, \"#bd3786\"], [0.5555555555555556, \"#d8576b\"], [0.6666666666666666, \"#ed7953\"], [0.7777777777777778, \"#fb9f3a\"], [0.8888888888888888, \"#fdca26\"], [1.0, \"#f0f921\"]], \"sequentialminus\": [[0.0, \"#0d0887\"], [0.1111111111111111, \"#46039f\"], [0.2222222222222222, \"#7201a8\"], [0.3333333333333333, \"#9c179e\"], [0.4444444444444444, \"#bd3786\"], [0.5555555555555556, \"#d8576b\"], [0.6666666666666666, \"#ed7953\"], [0.7777777777777778, \"#fb9f3a\"], [0.8888888888888888, \"#fdca26\"], [1.0, \"#f0f921\"]]}, \"colorway\": [\"#636efa\", \"#EF553B\", \"#00cc96\", \"#ab63fa\", \"#FFA15A\", \"#19d3f3\", \"#FF6692\", \"#B6E880\", \"#FF97FF\", \"#FECB52\"], \"font\": {\"color\": \"#2a3f5f\"}, \"geo\": {\"bgcolor\": \"white\", \"lakecolor\": \"white\", \"landcolor\": \"#E5ECF6\", \"showlakes\": true, \"showland\": true, \"subunitcolor\": \"white\"}, \"hoverlabel\": {\"align\": \"left\"}, \"hovermode\": \"closest\", \"mapbox\": {\"style\": \"light\"}, \"paper_bgcolor\": \"white\", \"plot_bgcolor\": \"#E5ECF6\", \"polar\": {\"angularaxis\": {\"gridcolor\": \"white\", \"linecolor\": \"white\", \"ticks\": \"\"}, \"bgcolor\": \"#E5ECF6\", \"radialaxis\": {\"gridcolor\": \"white\", \"linecolor\": \"white\", \"ticks\": \"\"}}, \"scene\": {\"xaxis\": {\"backgroundcolor\": \"#E5ECF6\", \"gridcolor\": \"white\", \"gridwidth\": 2, \"linecolor\": \"white\", \"showbackground\": true, \"ticks\": \"\", \"zerolinecolor\": \"white\"}, \"yaxis\": {\"backgroundcolor\": \"#E5ECF6\", \"gridcolor\": \"white\", \"gridwidth\": 2, \"linecolor\": \"white\", \"showbackground\": true, \"ticks\": \"\", \"zerolinecolor\": \"white\"}, \"zaxis\": {\"backgroundcolor\": \"#E5ECF6\", \"gridcolor\": \"white\", \"gridwidth\": 2, \"linecolor\": \"white\", \"showbackground\": true, \"ticks\": \"\", \"zerolinecolor\": \"white\"}}, \"shapedefaults\": {\"line\": {\"color\": \"#2a3f5f\"}}, \"ternary\": {\"aaxis\": {\"gridcolor\": \"white\", \"linecolor\": \"white\", \"ticks\": \"\"}, \"baxis\": {\"gridcolor\": \"white\", \"linecolor\": \"white\", \"ticks\": \"\"}, \"bgcolor\": \"#E5ECF6\", \"caxis\": {\"gridcolor\": \"white\", \"linecolor\": \"white\", \"ticks\": \"\"}}, \"title\": {\"x\": 0.05}, \"xaxis\": {\"automargin\": true, \"gridcolor\": \"white\", \"linecolor\": \"white\", \"ticks\": \"\", \"title\": {\"standoff\": 15}, \"zerolinecolor\": \"white\", \"zerolinewidth\": 2}, \"yaxis\": {\"automargin\": true, \"gridcolor\": \"white\", \"linecolor\": \"white\", \"ticks\": \"\", \"title\": {\"standoff\": 15}, \"zerolinecolor\": \"white\", \"zerolinewidth\": 2}}}, \"title\": {\"text\": \"Searches\"}, \"xaxis\": {\"title\": {\"text\": \"Input\"}}, \"yaxis\": {\"title\": {\"text\": \"Count\"}}},                        {\"responsive\": true}                    ).then(function(){\n",
       "                            \n",
       "var gd = document.getElementById('a5bd498e-efe4-49f5-a435-500443fd4d07');\n",
       "var x = new MutationObserver(function (mutations, observer) {{\n",
       "        var display = window.getComputedStyle(gd).display;\n",
       "        if (!display || display === 'none') {{\n",
       "            console.log([gd, 'removed!']);\n",
       "            Plotly.purge(gd);\n",
       "            observer.disconnect();\n",
       "        }}\n",
       "}});\n",
       "\n",
       "// Listen for the removal of the full notebook cells\n",
       "var notebookContainer = gd.closest('#notebook-container');\n",
       "if (notebookContainer) {{\n",
       "    x.observe(notebookContainer, {childList: true});\n",
       "}}\n",
       "\n",
       "// Listen for the clearing of the current output cell\n",
       "var outputEl = gd.closest('.output');\n",
       "if (outputEl) {{\n",
       "    x.observe(outputEl, {childList: true});\n",
       "}}\n",
       "\n",
       "                        })                };                });            </script>        </div>"
      ]
     },
     "metadata": {},
     "output_type": "display_data"
    }
   ],
   "source": [
    "x=df['Input'].value_counts()\n",
    "\n",
    "data=go.Bar(\n",
    "    x=x.index,\n",
    "    y=x.values,\n",
    "    name='Inputs')\n",
    "\n",
    "\n",
    "\n",
    "layout=go.Layout(\n",
    "title='Searches',\n",
    "xaxis=dict(title='Input'),\n",
    "yaxis=dict(title='Count'),\n",
    "hovermode='closest'\n",
    "\n",
    ")\n",
    "figure=go.Figure(data=data,layout=layout)\n",
    "iplot(figure)"
   ]
  },
  {
   "cell_type": "markdown",
   "metadata": {},
   "source": [
    "# Scrapped Data"
   ]
  },
  {
   "cell_type": "code",
   "execution_count": 61,
   "metadata": {},
   "outputs": [
    {
     "data": {
      "text/html": [
       "<div>\n",
       "<style scoped>\n",
       "    .dataframe tbody tr th:only-of-type {\n",
       "        vertical-align: middle;\n",
       "    }\n",
       "\n",
       "    .dataframe tbody tr th {\n",
       "        vertical-align: top;\n",
       "    }\n",
       "\n",
       "    .dataframe thead th {\n",
       "        text-align: right;\n",
       "    }\n",
       "</style>\n",
       "<table border=\"1\" class=\"dataframe\">\n",
       "  <thead>\n",
       "    <tr style=\"text-align: right;\">\n",
       "      <th></th>\n",
       "      <th>Directors, Writers, Main Lead</th>\n",
       "      <th>Genres</th>\n",
       "      <th>Length</th>\n",
       "      <th>Name</th>\n",
       "      <th>Ratings</th>\n",
       "      <th>Release</th>\n",
       "      <th>Reviews Count</th>\n",
       "      <th>Sentiment</th>\n",
       "      <th>Storyline</th>\n",
       "      <th>Type</th>\n",
       "    </tr>\n",
       "  </thead>\n",
       "  <tbody>\n",
       "    <tr>\n",
       "      <th>0</th>\n",
       "      <td>[K.V.R. Mahendra, K.V.R. Mahendra, Joy Badlani]</td>\n",
       "      <td>[Drama, Romance]</td>\n",
       "      <td>Unknown</td>\n",
       "      <td>Dorasani</td>\n",
       "      <td>5.8 based on 137 user ratings</td>\n",
       "      <td>12 July 2019 (India)</td>\n",
       "      <td>Unknown</td>\n",
       "      <td>Unknown</td>\n",
       "      <td>Dorasani explores the periodic tale of love be...</td>\n",
       "      <td>Series</td>\n",
       "    </tr>\n",
       "    <tr>\n",
       "      <th>1</th>\n",
       "      <td>[Justin Bare, Justin Bare, Harry Benson]</td>\n",
       "      <td>[Documentary]</td>\n",
       "      <td>Unknown</td>\n",
       "      <td>Harry Benson: Shoot First</td>\n",
       "      <td>7.3 based on 378 user ratings</td>\n",
       "      <td>9 December 2016 (USA)</td>\n",
       "      <td>1</td>\n",
       "      <td>Positive</td>\n",
       "      <td>What we know today about many famous musicians...</td>\n",
       "      <td>Movie</td>\n",
       "    </tr>\n",
       "    <tr>\n",
       "      <th>2</th>\n",
       "      <td>[Dan Milano, Ricardo Hurtado]</td>\n",
       "      <td>[Animation, Action, Adventure, Comedy, Family,...</td>\n",
       "      <td>Unknown</td>\n",
       "      <td>Glitch Techs</td>\n",
       "      <td>7.9 based on 637 user ratings</td>\n",
       "      <td>21 February 2020 (USA)</td>\n",
       "      <td>26</td>\n",
       "      <td>Positive</td>\n",
       "      <td>Game-world monsters are wreaking real-world ha...</td>\n",
       "      <td>Series</td>\n",
       "    </tr>\n",
       "    <tr>\n",
       "      <th>3</th>\n",
       "      <td>[Richard Hickey]</td>\n",
       "      <td>[Animation, Family, Musical]</td>\n",
       "      <td>Unknown</td>\n",
       "      <td>Go Buster by Little Baby Bum</td>\n",
       "      <td>Unknown</td>\n",
       "      <td>22 March 2019 (UK)</td>\n",
       "      <td>Unknown</td>\n",
       "      <td>Unknown</td>\n",
       "      <td>In this video, Buster the bus gets up to all s...</td>\n",
       "      <td>Unknown</td>\n",
       "    </tr>\n",
       "    <tr>\n",
       "      <th>4</th>\n",
       "      <td>[Ike Barinholtz, Ike Barinholtz, Ike Barinholtz]</td>\n",
       "      <td>[Comedy, Thriller]</td>\n",
       "      <td>Unknown</td>\n",
       "      <td>The Oath</td>\n",
       "      <td>5.5 based on 4,181 user ratings</td>\n",
       "      <td>19 October 2018 (Canada)</td>\n",
       "      <td>119</td>\n",
       "      <td>Positive</td>\n",
       "      <td>Chris (Ike Barinholtz) and Kai (Tiffany Haddis...</td>\n",
       "      <td>Series</td>\n",
       "    </tr>\n",
       "  </tbody>\n",
       "</table>\n",
       "</div>"
      ],
      "text/plain": [
       "                      Directors, Writers, Main Lead  \\\n",
       "0   [K.V.R. Mahendra, K.V.R. Mahendra, Joy Badlani]   \n",
       "1          [Justin Bare, Justin Bare, Harry Benson]   \n",
       "2                     [Dan Milano, Ricardo Hurtado]   \n",
       "3                                  [Richard Hickey]   \n",
       "4  [Ike Barinholtz, Ike Barinholtz, Ike Barinholtz]   \n",
       "\n",
       "                                              Genres   Length  \\\n",
       "0                                   [Drama, Romance]  Unknown   \n",
       "1                                      [Documentary]  Unknown   \n",
       "2  [Animation, Action, Adventure, Comedy, Family,...  Unknown   \n",
       "3                       [Animation, Family, Musical]  Unknown   \n",
       "4                                 [Comedy, Thriller]  Unknown   \n",
       "\n",
       "                           Name                          Ratings  \\\n",
       "0                      Dorasani    5.8 based on 137 user ratings   \n",
       "1     Harry Benson: Shoot First    7.3 based on 378 user ratings   \n",
       "2                  Glitch Techs    7.9 based on 637 user ratings   \n",
       "3  Go Buster by Little Baby Bum                          Unknown   \n",
       "4                      The Oath  5.5 based on 4,181 user ratings   \n",
       "\n",
       "                    Release Reviews Count Sentiment  \\\n",
       "0      12 July 2019 (India)       Unknown   Unknown   \n",
       "1     9 December 2016 (USA)             1  Positive   \n",
       "2    21 February 2020 (USA)            26  Positive   \n",
       "3        22 March 2019 (UK)       Unknown   Unknown   \n",
       "4  19 October 2018 (Canada)           119  Positive   \n",
       "\n",
       "                                           Storyline     Type  \n",
       "0  Dorasani explores the periodic tale of love be...   Series  \n",
       "1  What we know today about many famous musicians...    Movie  \n",
       "2  Game-world monsters are wreaking real-world ha...   Series  \n",
       "3  In this video, Buster the bus gets up to all s...  Unknown  \n",
       "4  Chris (Ike Barinholtz) and Kai (Tiffany Haddis...   Series  "
      ]
     },
     "execution_count": 61,
     "metadata": {},
     "output_type": "execute_result"
    }
   ],
   "source": [
    "df=fetch_firebase(\"Scrapped_Data\",['Directors, Writers, Main Lead','Genres','Length','Name',\n",
    "                                                    'Ratings','Release','Reviews Count','Sentiment','Storyline','Type'])\n",
    "df.head()"
   ]
  },
  {
   "cell_type": "code",
   "execution_count": 62,
   "metadata": {},
   "outputs": [
    {
     "name": "stderr",
     "output_type": "stream",
     "text": [
      "<ipython-input-62-ca76f0ff13b7>:7: SettingWithCopyWarning:\n",
      "\n",
      "\n",
      "A value is trying to be set on a copy of a slice from a DataFrame\n",
      "\n",
      "See the caveats in the documentation: https://pandas.pydata.org/pandas-docs/stable/user_guide/indexing.html#returning-a-view-versus-a-copy\n",
      "\n",
      "<ipython-input-62-ca76f0ff13b7>:10: SettingWithCopyWarning:\n",
      "\n",
      "\n",
      "A value is trying to be set on a copy of a slice from a DataFrame\n",
      "\n",
      "See the caveats in the documentation: https://pandas.pydata.org/pandas-docs/stable/user_guide/indexing.html#returning-a-view-versus-a-copy\n",
      "\n"
     ]
    }
   ],
   "source": [
    "df['Rating Count']=0\n",
    "for i in range(len(df)):\n",
    "    x=df['Ratings'][i]\n",
    "    \n",
    "    if(x!='Unknown'):\n",
    "        y=int(x.split('on')[1].strip().split(' ')[0].replace(',',''))\n",
    "        df['Rating Count'][i]=y\n",
    "        \n",
    "        z=float(x.split(' ')[0].strip().replace(',',''))\n",
    "        df['Ratings'][i]=z"
   ]
  },
  {
   "cell_type": "code",
   "execution_count": 63,
   "metadata": {},
   "outputs": [],
   "source": [
    "df['Reviews Count']=df['Reviews Count'].apply(lambda x:x.replace(',',''))\n",
    "df['Reviews Count']=df['Reviews Count'].apply(lambda x:int(x) if x!='Unknown' else x)"
   ]
  },
  {
   "cell_type": "code",
   "execution_count": 64,
   "metadata": {},
   "outputs": [
    {
     "data": {
      "text/html": [
       "<div>\n",
       "<style scoped>\n",
       "    .dataframe tbody tr th:only-of-type {\n",
       "        vertical-align: middle;\n",
       "    }\n",
       "\n",
       "    .dataframe tbody tr th {\n",
       "        vertical-align: top;\n",
       "    }\n",
       "\n",
       "    .dataframe thead th {\n",
       "        text-align: right;\n",
       "    }\n",
       "</style>\n",
       "<table border=\"1\" class=\"dataframe\">\n",
       "  <thead>\n",
       "    <tr style=\"text-align: right;\">\n",
       "      <th></th>\n",
       "      <th>Directors, Writers, Main Lead</th>\n",
       "      <th>Genres</th>\n",
       "      <th>Length</th>\n",
       "      <th>Name</th>\n",
       "      <th>Ratings</th>\n",
       "      <th>Release</th>\n",
       "      <th>Reviews Count</th>\n",
       "      <th>Sentiment</th>\n",
       "      <th>Storyline</th>\n",
       "      <th>Type</th>\n",
       "      <th>Rating Count</th>\n",
       "    </tr>\n",
       "  </thead>\n",
       "  <tbody>\n",
       "    <tr>\n",
       "      <th>0</th>\n",
       "      <td>[K.V.R. Mahendra, K.V.R. Mahendra, Joy Badlani]</td>\n",
       "      <td>[Drama, Romance]</td>\n",
       "      <td>Unknown</td>\n",
       "      <td>Dorasani</td>\n",
       "      <td>5.8</td>\n",
       "      <td>12 July 2019 (India)</td>\n",
       "      <td>Unknown</td>\n",
       "      <td>Unknown</td>\n",
       "      <td>Dorasani explores the periodic tale of love be...</td>\n",
       "      <td>Series</td>\n",
       "      <td>137</td>\n",
       "    </tr>\n",
       "    <tr>\n",
       "      <th>1</th>\n",
       "      <td>[Justin Bare, Justin Bare, Harry Benson]</td>\n",
       "      <td>[Documentary]</td>\n",
       "      <td>Unknown</td>\n",
       "      <td>Harry Benson: Shoot First</td>\n",
       "      <td>7.3</td>\n",
       "      <td>9 December 2016 (USA)</td>\n",
       "      <td>1</td>\n",
       "      <td>Positive</td>\n",
       "      <td>What we know today about many famous musicians...</td>\n",
       "      <td>Movie</td>\n",
       "      <td>378</td>\n",
       "    </tr>\n",
       "    <tr>\n",
       "      <th>2</th>\n",
       "      <td>[Dan Milano, Ricardo Hurtado]</td>\n",
       "      <td>[Animation, Action, Adventure, Comedy, Family,...</td>\n",
       "      <td>Unknown</td>\n",
       "      <td>Glitch Techs</td>\n",
       "      <td>7.9</td>\n",
       "      <td>21 February 2020 (USA)</td>\n",
       "      <td>26</td>\n",
       "      <td>Positive</td>\n",
       "      <td>Game-world monsters are wreaking real-world ha...</td>\n",
       "      <td>Series</td>\n",
       "      <td>637</td>\n",
       "    </tr>\n",
       "    <tr>\n",
       "      <th>3</th>\n",
       "      <td>[Richard Hickey]</td>\n",
       "      <td>[Animation, Family, Musical]</td>\n",
       "      <td>Unknown</td>\n",
       "      <td>Go Buster by Little Baby Bum</td>\n",
       "      <td>Unknown</td>\n",
       "      <td>22 March 2019 (UK)</td>\n",
       "      <td>Unknown</td>\n",
       "      <td>Unknown</td>\n",
       "      <td>In this video, Buster the bus gets up to all s...</td>\n",
       "      <td>Unknown</td>\n",
       "      <td>0</td>\n",
       "    </tr>\n",
       "    <tr>\n",
       "      <th>4</th>\n",
       "      <td>[Ike Barinholtz, Ike Barinholtz, Ike Barinholtz]</td>\n",
       "      <td>[Comedy, Thriller]</td>\n",
       "      <td>Unknown</td>\n",
       "      <td>The Oath</td>\n",
       "      <td>5.5</td>\n",
       "      <td>19 October 2018 (Canada)</td>\n",
       "      <td>119</td>\n",
       "      <td>Positive</td>\n",
       "      <td>Chris (Ike Barinholtz) and Kai (Tiffany Haddis...</td>\n",
       "      <td>Series</td>\n",
       "      <td>4181</td>\n",
       "    </tr>\n",
       "  </tbody>\n",
       "</table>\n",
       "</div>"
      ],
      "text/plain": [
       "                      Directors, Writers, Main Lead  \\\n",
       "0   [K.V.R. Mahendra, K.V.R. Mahendra, Joy Badlani]   \n",
       "1          [Justin Bare, Justin Bare, Harry Benson]   \n",
       "2                     [Dan Milano, Ricardo Hurtado]   \n",
       "3                                  [Richard Hickey]   \n",
       "4  [Ike Barinholtz, Ike Barinholtz, Ike Barinholtz]   \n",
       "\n",
       "                                              Genres   Length  \\\n",
       "0                                   [Drama, Romance]  Unknown   \n",
       "1                                      [Documentary]  Unknown   \n",
       "2  [Animation, Action, Adventure, Comedy, Family,...  Unknown   \n",
       "3                       [Animation, Family, Musical]  Unknown   \n",
       "4                                 [Comedy, Thriller]  Unknown   \n",
       "\n",
       "                           Name  Ratings                   Release  \\\n",
       "0                      Dorasani      5.8      12 July 2019 (India)   \n",
       "1     Harry Benson: Shoot First      7.3     9 December 2016 (USA)   \n",
       "2                  Glitch Techs      7.9    21 February 2020 (USA)   \n",
       "3  Go Buster by Little Baby Bum  Unknown        22 March 2019 (UK)   \n",
       "4                      The Oath      5.5  19 October 2018 (Canada)   \n",
       "\n",
       "  Reviews Count Sentiment                                          Storyline  \\\n",
       "0       Unknown   Unknown  Dorasani explores the periodic tale of love be...   \n",
       "1             1  Positive  What we know today about many famous musicians...   \n",
       "2            26  Positive  Game-world monsters are wreaking real-world ha...   \n",
       "3       Unknown   Unknown  In this video, Buster the bus gets up to all s...   \n",
       "4           119  Positive  Chris (Ike Barinholtz) and Kai (Tiffany Haddis...   \n",
       "\n",
       "      Type  Rating Count  \n",
       "0   Series           137  \n",
       "1    Movie           378  \n",
       "2   Series           637  \n",
       "3  Unknown             0  \n",
       "4   Series          4181  "
      ]
     },
     "execution_count": 64,
     "metadata": {},
     "output_type": "execute_result"
    }
   ],
   "source": [
    "df.head()"
   ]
  },
  {
   "cell_type": "markdown",
   "metadata": {},
   "source": [
    "# Directors, Writers, Lead"
   ]
  },
  {
   "cell_type": "code",
   "execution_count": 65,
   "metadata": {},
   "outputs": [],
   "source": [
    "df2=pd.DataFrame(columns=['Cast','Ratings','Reviews Count','Rating Count','Sentiment'])\n",
    "for i in range(len(df)):\n",
    "    if(df['Directors, Writers, Main Lead'][i]!='Unknown'):\n",
    "        x=df['Directors, Writers, Main Lead'][i]\n",
    "        for j in range(len(x)):\n",
    "            rating=df['Ratings'][i]\n",
    "            review_count=df['Reviews Count'][i]\n",
    "            rating_count=df['Rating Count'][i]\n",
    "            sentiment=df['Sentiment'][i]\n",
    "            df2.loc[len(df2)]=[x[j],rating,review_count,rating_count,sentiment]           "
   ]
  },
  {
   "cell_type": "markdown",
   "metadata": {},
   "source": [
    "## Most Popular Casting Member "
   ]
  },
  {
   "cell_type": "code",
   "execution_count": 66,
   "metadata": {},
   "outputs": [
    {
     "data": {
      "application/vnd.plotly.v1+json": {
       "config": {
        "linkText": "Export to plot.ly",
        "plotlyServerURL": "https://plot.ly",
        "showLink": false
       },
       "data": [
        {
         "name": "Most Popular Cast",
         "type": "bar",
         "x": [
          "Ike Barinholtz",
          "Justin Bare",
          "Mike Clattenburg",
          "Heber Cannon",
          "K.V.R. Mahendra",
          "Dar Gai",
          "James Lebrecht",
          "Richard Hickey",
          "John Paul Tremblay",
          "Rich Froning",
          "Felipe Castanhari",
          "Jonathan Nolan",
          "Ricardo Hurtado",
          "Norman Lear",
          "Arya Dave",
          "Larry Gross",
          "Eric Frith",
          "Gabe Klinger",
          "Dan Milano",
          "M.J. Isakson",
          "Harry Benson",
          "Heidi Ewing",
          "Dallas Reid",
          "Christopher Nolan",
          "Christian Bale",
          "Larry Allison",
          "Joy Badlani",
          "Anton Yelchin"
         ],
         "y": [
          3,
          2,
          2,
          2,
          2,
          2,
          2,
          1,
          1,
          1,
          1,
          1,
          1,
          1,
          1,
          1,
          1,
          1,
          1,
          1,
          1,
          1,
          1,
          1,
          1,
          1,
          1,
          1
         ]
        }
       ],
       "layout": {
        "hovermode": "closest",
        "template": {
         "data": {
          "bar": [
           {
            "error_x": {
             "color": "#2a3f5f"
            },
            "error_y": {
             "color": "#2a3f5f"
            },
            "marker": {
             "line": {
              "color": "#E5ECF6",
              "width": 0.5
             }
            },
            "type": "bar"
           }
          ],
          "barpolar": [
           {
            "marker": {
             "line": {
              "color": "#E5ECF6",
              "width": 0.5
             }
            },
            "type": "barpolar"
           }
          ],
          "carpet": [
           {
            "aaxis": {
             "endlinecolor": "#2a3f5f",
             "gridcolor": "white",
             "linecolor": "white",
             "minorgridcolor": "white",
             "startlinecolor": "#2a3f5f"
            },
            "baxis": {
             "endlinecolor": "#2a3f5f",
             "gridcolor": "white",
             "linecolor": "white",
             "minorgridcolor": "white",
             "startlinecolor": "#2a3f5f"
            },
            "type": "carpet"
           }
          ],
          "choropleth": [
           {
            "colorbar": {
             "outlinewidth": 0,
             "ticks": ""
            },
            "type": "choropleth"
           }
          ],
          "contour": [
           {
            "colorbar": {
             "outlinewidth": 0,
             "ticks": ""
            },
            "colorscale": [
             [
              0,
              "#0d0887"
             ],
             [
              0.1111111111111111,
              "#46039f"
             ],
             [
              0.2222222222222222,
              "#7201a8"
             ],
             [
              0.3333333333333333,
              "#9c179e"
             ],
             [
              0.4444444444444444,
              "#bd3786"
             ],
             [
              0.5555555555555556,
              "#d8576b"
             ],
             [
              0.6666666666666666,
              "#ed7953"
             ],
             [
              0.7777777777777778,
              "#fb9f3a"
             ],
             [
              0.8888888888888888,
              "#fdca26"
             ],
             [
              1,
              "#f0f921"
             ]
            ],
            "type": "contour"
           }
          ],
          "contourcarpet": [
           {
            "colorbar": {
             "outlinewidth": 0,
             "ticks": ""
            },
            "type": "contourcarpet"
           }
          ],
          "heatmap": [
           {
            "colorbar": {
             "outlinewidth": 0,
             "ticks": ""
            },
            "colorscale": [
             [
              0,
              "#0d0887"
             ],
             [
              0.1111111111111111,
              "#46039f"
             ],
             [
              0.2222222222222222,
              "#7201a8"
             ],
             [
              0.3333333333333333,
              "#9c179e"
             ],
             [
              0.4444444444444444,
              "#bd3786"
             ],
             [
              0.5555555555555556,
              "#d8576b"
             ],
             [
              0.6666666666666666,
              "#ed7953"
             ],
             [
              0.7777777777777778,
              "#fb9f3a"
             ],
             [
              0.8888888888888888,
              "#fdca26"
             ],
             [
              1,
              "#f0f921"
             ]
            ],
            "type": "heatmap"
           }
          ],
          "heatmapgl": [
           {
            "colorbar": {
             "outlinewidth": 0,
             "ticks": ""
            },
            "colorscale": [
             [
              0,
              "#0d0887"
             ],
             [
              0.1111111111111111,
              "#46039f"
             ],
             [
              0.2222222222222222,
              "#7201a8"
             ],
             [
              0.3333333333333333,
              "#9c179e"
             ],
             [
              0.4444444444444444,
              "#bd3786"
             ],
             [
              0.5555555555555556,
              "#d8576b"
             ],
             [
              0.6666666666666666,
              "#ed7953"
             ],
             [
              0.7777777777777778,
              "#fb9f3a"
             ],
             [
              0.8888888888888888,
              "#fdca26"
             ],
             [
              1,
              "#f0f921"
             ]
            ],
            "type": "heatmapgl"
           }
          ],
          "histogram": [
           {
            "marker": {
             "colorbar": {
              "outlinewidth": 0,
              "ticks": ""
             }
            },
            "type": "histogram"
           }
          ],
          "histogram2d": [
           {
            "colorbar": {
             "outlinewidth": 0,
             "ticks": ""
            },
            "colorscale": [
             [
              0,
              "#0d0887"
             ],
             [
              0.1111111111111111,
              "#46039f"
             ],
             [
              0.2222222222222222,
              "#7201a8"
             ],
             [
              0.3333333333333333,
              "#9c179e"
             ],
             [
              0.4444444444444444,
              "#bd3786"
             ],
             [
              0.5555555555555556,
              "#d8576b"
             ],
             [
              0.6666666666666666,
              "#ed7953"
             ],
             [
              0.7777777777777778,
              "#fb9f3a"
             ],
             [
              0.8888888888888888,
              "#fdca26"
             ],
             [
              1,
              "#f0f921"
             ]
            ],
            "type": "histogram2d"
           }
          ],
          "histogram2dcontour": [
           {
            "colorbar": {
             "outlinewidth": 0,
             "ticks": ""
            },
            "colorscale": [
             [
              0,
              "#0d0887"
             ],
             [
              0.1111111111111111,
              "#46039f"
             ],
             [
              0.2222222222222222,
              "#7201a8"
             ],
             [
              0.3333333333333333,
              "#9c179e"
             ],
             [
              0.4444444444444444,
              "#bd3786"
             ],
             [
              0.5555555555555556,
              "#d8576b"
             ],
             [
              0.6666666666666666,
              "#ed7953"
             ],
             [
              0.7777777777777778,
              "#fb9f3a"
             ],
             [
              0.8888888888888888,
              "#fdca26"
             ],
             [
              1,
              "#f0f921"
             ]
            ],
            "type": "histogram2dcontour"
           }
          ],
          "mesh3d": [
           {
            "colorbar": {
             "outlinewidth": 0,
             "ticks": ""
            },
            "type": "mesh3d"
           }
          ],
          "parcoords": [
           {
            "line": {
             "colorbar": {
              "outlinewidth": 0,
              "ticks": ""
             }
            },
            "type": "parcoords"
           }
          ],
          "pie": [
           {
            "automargin": true,
            "type": "pie"
           }
          ],
          "scatter": [
           {
            "marker": {
             "colorbar": {
              "outlinewidth": 0,
              "ticks": ""
             }
            },
            "type": "scatter"
           }
          ],
          "scatter3d": [
           {
            "line": {
             "colorbar": {
              "outlinewidth": 0,
              "ticks": ""
             }
            },
            "marker": {
             "colorbar": {
              "outlinewidth": 0,
              "ticks": ""
             }
            },
            "type": "scatter3d"
           }
          ],
          "scattercarpet": [
           {
            "marker": {
             "colorbar": {
              "outlinewidth": 0,
              "ticks": ""
             }
            },
            "type": "scattercarpet"
           }
          ],
          "scattergeo": [
           {
            "marker": {
             "colorbar": {
              "outlinewidth": 0,
              "ticks": ""
             }
            },
            "type": "scattergeo"
           }
          ],
          "scattergl": [
           {
            "marker": {
             "colorbar": {
              "outlinewidth": 0,
              "ticks": ""
             }
            },
            "type": "scattergl"
           }
          ],
          "scattermapbox": [
           {
            "marker": {
             "colorbar": {
              "outlinewidth": 0,
              "ticks": ""
             }
            },
            "type": "scattermapbox"
           }
          ],
          "scatterpolar": [
           {
            "marker": {
             "colorbar": {
              "outlinewidth": 0,
              "ticks": ""
             }
            },
            "type": "scatterpolar"
           }
          ],
          "scatterpolargl": [
           {
            "marker": {
             "colorbar": {
              "outlinewidth": 0,
              "ticks": ""
             }
            },
            "type": "scatterpolargl"
           }
          ],
          "scatterternary": [
           {
            "marker": {
             "colorbar": {
              "outlinewidth": 0,
              "ticks": ""
             }
            },
            "type": "scatterternary"
           }
          ],
          "surface": [
           {
            "colorbar": {
             "outlinewidth": 0,
             "ticks": ""
            },
            "colorscale": [
             [
              0,
              "#0d0887"
             ],
             [
              0.1111111111111111,
              "#46039f"
             ],
             [
              0.2222222222222222,
              "#7201a8"
             ],
             [
              0.3333333333333333,
              "#9c179e"
             ],
             [
              0.4444444444444444,
              "#bd3786"
             ],
             [
              0.5555555555555556,
              "#d8576b"
             ],
             [
              0.6666666666666666,
              "#ed7953"
             ],
             [
              0.7777777777777778,
              "#fb9f3a"
             ],
             [
              0.8888888888888888,
              "#fdca26"
             ],
             [
              1,
              "#f0f921"
             ]
            ],
            "type": "surface"
           }
          ],
          "table": [
           {
            "cells": {
             "fill": {
              "color": "#EBF0F8"
             },
             "line": {
              "color": "white"
             }
            },
            "header": {
             "fill": {
              "color": "#C8D4E3"
             },
             "line": {
              "color": "white"
             }
            },
            "type": "table"
           }
          ]
         },
         "layout": {
          "annotationdefaults": {
           "arrowcolor": "#2a3f5f",
           "arrowhead": 0,
           "arrowwidth": 1
          },
          "coloraxis": {
           "colorbar": {
            "outlinewidth": 0,
            "ticks": ""
           }
          },
          "colorscale": {
           "diverging": [
            [
             0,
             "#8e0152"
            ],
            [
             0.1,
             "#c51b7d"
            ],
            [
             0.2,
             "#de77ae"
            ],
            [
             0.3,
             "#f1b6da"
            ],
            [
             0.4,
             "#fde0ef"
            ],
            [
             0.5,
             "#f7f7f7"
            ],
            [
             0.6,
             "#e6f5d0"
            ],
            [
             0.7,
             "#b8e186"
            ],
            [
             0.8,
             "#7fbc41"
            ],
            [
             0.9,
             "#4d9221"
            ],
            [
             1,
             "#276419"
            ]
           ],
           "sequential": [
            [
             0,
             "#0d0887"
            ],
            [
             0.1111111111111111,
             "#46039f"
            ],
            [
             0.2222222222222222,
             "#7201a8"
            ],
            [
             0.3333333333333333,
             "#9c179e"
            ],
            [
             0.4444444444444444,
             "#bd3786"
            ],
            [
             0.5555555555555556,
             "#d8576b"
            ],
            [
             0.6666666666666666,
             "#ed7953"
            ],
            [
             0.7777777777777778,
             "#fb9f3a"
            ],
            [
             0.8888888888888888,
             "#fdca26"
            ],
            [
             1,
             "#f0f921"
            ]
           ],
           "sequentialminus": [
            [
             0,
             "#0d0887"
            ],
            [
             0.1111111111111111,
             "#46039f"
            ],
            [
             0.2222222222222222,
             "#7201a8"
            ],
            [
             0.3333333333333333,
             "#9c179e"
            ],
            [
             0.4444444444444444,
             "#bd3786"
            ],
            [
             0.5555555555555556,
             "#d8576b"
            ],
            [
             0.6666666666666666,
             "#ed7953"
            ],
            [
             0.7777777777777778,
             "#fb9f3a"
            ],
            [
             0.8888888888888888,
             "#fdca26"
            ],
            [
             1,
             "#f0f921"
            ]
           ]
          },
          "colorway": [
           "#636efa",
           "#EF553B",
           "#00cc96",
           "#ab63fa",
           "#FFA15A",
           "#19d3f3",
           "#FF6692",
           "#B6E880",
           "#FF97FF",
           "#FECB52"
          ],
          "font": {
           "color": "#2a3f5f"
          },
          "geo": {
           "bgcolor": "white",
           "lakecolor": "white",
           "landcolor": "#E5ECF6",
           "showlakes": true,
           "showland": true,
           "subunitcolor": "white"
          },
          "hoverlabel": {
           "align": "left"
          },
          "hovermode": "closest",
          "mapbox": {
           "style": "light"
          },
          "paper_bgcolor": "white",
          "plot_bgcolor": "#E5ECF6",
          "polar": {
           "angularaxis": {
            "gridcolor": "white",
            "linecolor": "white",
            "ticks": ""
           },
           "bgcolor": "#E5ECF6",
           "radialaxis": {
            "gridcolor": "white",
            "linecolor": "white",
            "ticks": ""
           }
          },
          "scene": {
           "xaxis": {
            "backgroundcolor": "#E5ECF6",
            "gridcolor": "white",
            "gridwidth": 2,
            "linecolor": "white",
            "showbackground": true,
            "ticks": "",
            "zerolinecolor": "white"
           },
           "yaxis": {
            "backgroundcolor": "#E5ECF6",
            "gridcolor": "white",
            "gridwidth": 2,
            "linecolor": "white",
            "showbackground": true,
            "ticks": "",
            "zerolinecolor": "white"
           },
           "zaxis": {
            "backgroundcolor": "#E5ECF6",
            "gridcolor": "white",
            "gridwidth": 2,
            "linecolor": "white",
            "showbackground": true,
            "ticks": "",
            "zerolinecolor": "white"
           }
          },
          "shapedefaults": {
           "line": {
            "color": "#2a3f5f"
           }
          },
          "ternary": {
           "aaxis": {
            "gridcolor": "white",
            "linecolor": "white",
            "ticks": ""
           },
           "baxis": {
            "gridcolor": "white",
            "linecolor": "white",
            "ticks": ""
           },
           "bgcolor": "#E5ECF6",
           "caxis": {
            "gridcolor": "white",
            "linecolor": "white",
            "ticks": ""
           }
          },
          "title": {
           "x": 0.05
          },
          "xaxis": {
           "automargin": true,
           "gridcolor": "white",
           "linecolor": "white",
           "ticks": "",
           "title": {
            "standoff": 15
           },
           "zerolinecolor": "white",
           "zerolinewidth": 2
          },
          "yaxis": {
           "automargin": true,
           "gridcolor": "white",
           "linecolor": "white",
           "ticks": "",
           "title": {
            "standoff": 15
           },
           "zerolinecolor": "white",
           "zerolinewidth": 2
          }
         }
        },
        "title": {
         "text": "Most Popular Cast"
        },
        "xaxis": {
         "title": {
          "text": "Cast"
         }
        },
        "yaxis": {
         "title": {
          "text": "Count"
         }
        }
       }
      },
      "text/html": [
       "<div>                            <div id=\"31548a9e-f1ca-4b88-9bd4-2fc6cedf27ec\" class=\"plotly-graph-div\" style=\"height:525px; width:100%;\"></div>            <script type=\"text/javascript\">                require([\"plotly\"], function(Plotly) {                    window.PLOTLYENV=window.PLOTLYENV || {};                                    if (document.getElementById(\"31548a9e-f1ca-4b88-9bd4-2fc6cedf27ec\")) {                    Plotly.newPlot(                        \"31548a9e-f1ca-4b88-9bd4-2fc6cedf27ec\",                        [{\"name\": \"Most Popular Cast\", \"type\": \"bar\", \"x\": [\"Ike Barinholtz\", \"Justin Bare\", \"Mike Clattenburg\", \"Heber Cannon\", \"K.V.R. Mahendra\", \"Dar Gai\", \"James Lebrecht\", \"Richard Hickey\", \"John Paul Tremblay\", \"Rich Froning\", \"Felipe Castanhari\", \"Jonathan Nolan\", \"Ricardo Hurtado\", \"Norman Lear\", \"Arya Dave\", \"Larry Gross\", \"Eric Frith\", \"Gabe Klinger\", \"Dan Milano\", \"M.J. Isakson\", \"Harry Benson\", \"Heidi Ewing\", \"Dallas Reid\", \"Christopher Nolan\", \"Christian Bale\", \"Larry Allison\", \"Joy Badlani\", \"Anton Yelchin\"], \"y\": [3, 2, 2, 2, 2, 2, 2, 1, 1, 1, 1, 1, 1, 1, 1, 1, 1, 1, 1, 1, 1, 1, 1, 1, 1, 1, 1, 1]}],                        {\"hovermode\": \"closest\", \"template\": {\"data\": {\"bar\": [{\"error_x\": {\"color\": \"#2a3f5f\"}, \"error_y\": {\"color\": \"#2a3f5f\"}, \"marker\": {\"line\": {\"color\": \"#E5ECF6\", \"width\": 0.5}}, \"type\": \"bar\"}], \"barpolar\": [{\"marker\": {\"line\": {\"color\": \"#E5ECF6\", \"width\": 0.5}}, \"type\": \"barpolar\"}], \"carpet\": [{\"aaxis\": {\"endlinecolor\": \"#2a3f5f\", \"gridcolor\": \"white\", \"linecolor\": \"white\", \"minorgridcolor\": \"white\", \"startlinecolor\": \"#2a3f5f\"}, \"baxis\": {\"endlinecolor\": \"#2a3f5f\", \"gridcolor\": \"white\", \"linecolor\": \"white\", \"minorgridcolor\": \"white\", \"startlinecolor\": \"#2a3f5f\"}, \"type\": \"carpet\"}], \"choropleth\": [{\"colorbar\": {\"outlinewidth\": 0, \"ticks\": \"\"}, \"type\": \"choropleth\"}], \"contour\": [{\"colorbar\": {\"outlinewidth\": 0, \"ticks\": \"\"}, \"colorscale\": [[0.0, \"#0d0887\"], [0.1111111111111111, \"#46039f\"], [0.2222222222222222, \"#7201a8\"], [0.3333333333333333, \"#9c179e\"], [0.4444444444444444, \"#bd3786\"], [0.5555555555555556, \"#d8576b\"], [0.6666666666666666, \"#ed7953\"], [0.7777777777777778, \"#fb9f3a\"], [0.8888888888888888, \"#fdca26\"], [1.0, \"#f0f921\"]], \"type\": \"contour\"}], \"contourcarpet\": [{\"colorbar\": {\"outlinewidth\": 0, \"ticks\": \"\"}, \"type\": \"contourcarpet\"}], \"heatmap\": [{\"colorbar\": {\"outlinewidth\": 0, \"ticks\": \"\"}, \"colorscale\": [[0.0, \"#0d0887\"], [0.1111111111111111, \"#46039f\"], [0.2222222222222222, \"#7201a8\"], [0.3333333333333333, \"#9c179e\"], [0.4444444444444444, \"#bd3786\"], [0.5555555555555556, \"#d8576b\"], [0.6666666666666666, \"#ed7953\"], [0.7777777777777778, \"#fb9f3a\"], [0.8888888888888888, \"#fdca26\"], [1.0, \"#f0f921\"]], \"type\": \"heatmap\"}], \"heatmapgl\": [{\"colorbar\": {\"outlinewidth\": 0, \"ticks\": \"\"}, \"colorscale\": [[0.0, \"#0d0887\"], [0.1111111111111111, \"#46039f\"], [0.2222222222222222, \"#7201a8\"], [0.3333333333333333, \"#9c179e\"], [0.4444444444444444, \"#bd3786\"], [0.5555555555555556, \"#d8576b\"], [0.6666666666666666, \"#ed7953\"], [0.7777777777777778, \"#fb9f3a\"], [0.8888888888888888, \"#fdca26\"], [1.0, \"#f0f921\"]], \"type\": \"heatmapgl\"}], \"histogram\": [{\"marker\": {\"colorbar\": {\"outlinewidth\": 0, \"ticks\": \"\"}}, \"type\": \"histogram\"}], \"histogram2d\": [{\"colorbar\": {\"outlinewidth\": 0, \"ticks\": \"\"}, \"colorscale\": [[0.0, \"#0d0887\"], [0.1111111111111111, \"#46039f\"], [0.2222222222222222, \"#7201a8\"], [0.3333333333333333, \"#9c179e\"], [0.4444444444444444, \"#bd3786\"], [0.5555555555555556, \"#d8576b\"], [0.6666666666666666, \"#ed7953\"], [0.7777777777777778, \"#fb9f3a\"], [0.8888888888888888, \"#fdca26\"], [1.0, \"#f0f921\"]], \"type\": \"histogram2d\"}], \"histogram2dcontour\": [{\"colorbar\": {\"outlinewidth\": 0, \"ticks\": \"\"}, \"colorscale\": [[0.0, \"#0d0887\"], [0.1111111111111111, \"#46039f\"], [0.2222222222222222, \"#7201a8\"], [0.3333333333333333, \"#9c179e\"], [0.4444444444444444, \"#bd3786\"], [0.5555555555555556, \"#d8576b\"], [0.6666666666666666, \"#ed7953\"], [0.7777777777777778, \"#fb9f3a\"], [0.8888888888888888, \"#fdca26\"], [1.0, \"#f0f921\"]], \"type\": \"histogram2dcontour\"}], \"mesh3d\": [{\"colorbar\": {\"outlinewidth\": 0, \"ticks\": \"\"}, \"type\": \"mesh3d\"}], \"parcoords\": [{\"line\": {\"colorbar\": {\"outlinewidth\": 0, \"ticks\": \"\"}}, \"type\": \"parcoords\"}], \"pie\": [{\"automargin\": true, \"type\": \"pie\"}], \"scatter\": [{\"marker\": {\"colorbar\": {\"outlinewidth\": 0, \"ticks\": \"\"}}, \"type\": \"scatter\"}], \"scatter3d\": [{\"line\": {\"colorbar\": {\"outlinewidth\": 0, \"ticks\": \"\"}}, \"marker\": {\"colorbar\": {\"outlinewidth\": 0, \"ticks\": \"\"}}, \"type\": \"scatter3d\"}], \"scattercarpet\": [{\"marker\": {\"colorbar\": {\"outlinewidth\": 0, \"ticks\": \"\"}}, \"type\": \"scattercarpet\"}], \"scattergeo\": [{\"marker\": {\"colorbar\": {\"outlinewidth\": 0, \"ticks\": \"\"}}, \"type\": \"scattergeo\"}], \"scattergl\": [{\"marker\": {\"colorbar\": {\"outlinewidth\": 0, \"ticks\": \"\"}}, \"type\": \"scattergl\"}], \"scattermapbox\": [{\"marker\": {\"colorbar\": {\"outlinewidth\": 0, \"ticks\": \"\"}}, \"type\": \"scattermapbox\"}], \"scatterpolar\": [{\"marker\": {\"colorbar\": {\"outlinewidth\": 0, \"ticks\": \"\"}}, \"type\": \"scatterpolar\"}], \"scatterpolargl\": [{\"marker\": {\"colorbar\": {\"outlinewidth\": 0, \"ticks\": \"\"}}, \"type\": \"scatterpolargl\"}], \"scatterternary\": [{\"marker\": {\"colorbar\": {\"outlinewidth\": 0, \"ticks\": \"\"}}, \"type\": \"scatterternary\"}], \"surface\": [{\"colorbar\": {\"outlinewidth\": 0, \"ticks\": \"\"}, \"colorscale\": [[0.0, \"#0d0887\"], [0.1111111111111111, \"#46039f\"], [0.2222222222222222, \"#7201a8\"], [0.3333333333333333, \"#9c179e\"], [0.4444444444444444, \"#bd3786\"], [0.5555555555555556, \"#d8576b\"], [0.6666666666666666, \"#ed7953\"], [0.7777777777777778, \"#fb9f3a\"], [0.8888888888888888, \"#fdca26\"], [1.0, \"#f0f921\"]], \"type\": \"surface\"}], \"table\": [{\"cells\": {\"fill\": {\"color\": \"#EBF0F8\"}, \"line\": {\"color\": \"white\"}}, \"header\": {\"fill\": {\"color\": \"#C8D4E3\"}, \"line\": {\"color\": \"white\"}}, \"type\": \"table\"}]}, \"layout\": {\"annotationdefaults\": {\"arrowcolor\": \"#2a3f5f\", \"arrowhead\": 0, \"arrowwidth\": 1}, \"coloraxis\": {\"colorbar\": {\"outlinewidth\": 0, \"ticks\": \"\"}}, \"colorscale\": {\"diverging\": [[0, \"#8e0152\"], [0.1, \"#c51b7d\"], [0.2, \"#de77ae\"], [0.3, \"#f1b6da\"], [0.4, \"#fde0ef\"], [0.5, \"#f7f7f7\"], [0.6, \"#e6f5d0\"], [0.7, \"#b8e186\"], [0.8, \"#7fbc41\"], [0.9, \"#4d9221\"], [1, \"#276419\"]], \"sequential\": [[0.0, \"#0d0887\"], [0.1111111111111111, \"#46039f\"], [0.2222222222222222, \"#7201a8\"], [0.3333333333333333, \"#9c179e\"], [0.4444444444444444, \"#bd3786\"], [0.5555555555555556, \"#d8576b\"], [0.6666666666666666, \"#ed7953\"], [0.7777777777777778, \"#fb9f3a\"], [0.8888888888888888, \"#fdca26\"], [1.0, \"#f0f921\"]], \"sequentialminus\": [[0.0, \"#0d0887\"], [0.1111111111111111, \"#46039f\"], [0.2222222222222222, \"#7201a8\"], [0.3333333333333333, \"#9c179e\"], [0.4444444444444444, \"#bd3786\"], [0.5555555555555556, \"#d8576b\"], [0.6666666666666666, \"#ed7953\"], [0.7777777777777778, \"#fb9f3a\"], [0.8888888888888888, \"#fdca26\"], [1.0, \"#f0f921\"]]}, \"colorway\": [\"#636efa\", \"#EF553B\", \"#00cc96\", \"#ab63fa\", \"#FFA15A\", \"#19d3f3\", \"#FF6692\", \"#B6E880\", \"#FF97FF\", \"#FECB52\"], \"font\": {\"color\": \"#2a3f5f\"}, \"geo\": {\"bgcolor\": \"white\", \"lakecolor\": \"white\", \"landcolor\": \"#E5ECF6\", \"showlakes\": true, \"showland\": true, \"subunitcolor\": \"white\"}, \"hoverlabel\": {\"align\": \"left\"}, \"hovermode\": \"closest\", \"mapbox\": {\"style\": \"light\"}, \"paper_bgcolor\": \"white\", \"plot_bgcolor\": \"#E5ECF6\", \"polar\": {\"angularaxis\": {\"gridcolor\": \"white\", \"linecolor\": \"white\", \"ticks\": \"\"}, \"bgcolor\": \"#E5ECF6\", \"radialaxis\": {\"gridcolor\": \"white\", \"linecolor\": \"white\", \"ticks\": \"\"}}, \"scene\": {\"xaxis\": {\"backgroundcolor\": \"#E5ECF6\", \"gridcolor\": \"white\", \"gridwidth\": 2, \"linecolor\": \"white\", \"showbackground\": true, \"ticks\": \"\", \"zerolinecolor\": \"white\"}, \"yaxis\": {\"backgroundcolor\": \"#E5ECF6\", \"gridcolor\": \"white\", \"gridwidth\": 2, \"linecolor\": \"white\", \"showbackground\": true, \"ticks\": \"\", \"zerolinecolor\": \"white\"}, \"zaxis\": {\"backgroundcolor\": \"#E5ECF6\", \"gridcolor\": \"white\", \"gridwidth\": 2, \"linecolor\": \"white\", \"showbackground\": true, \"ticks\": \"\", \"zerolinecolor\": \"white\"}}, \"shapedefaults\": {\"line\": {\"color\": \"#2a3f5f\"}}, \"ternary\": {\"aaxis\": {\"gridcolor\": \"white\", \"linecolor\": \"white\", \"ticks\": \"\"}, \"baxis\": {\"gridcolor\": \"white\", \"linecolor\": \"white\", \"ticks\": \"\"}, \"bgcolor\": \"#E5ECF6\", \"caxis\": {\"gridcolor\": \"white\", \"linecolor\": \"white\", \"ticks\": \"\"}}, \"title\": {\"x\": 0.05}, \"xaxis\": {\"automargin\": true, \"gridcolor\": \"white\", \"linecolor\": \"white\", \"ticks\": \"\", \"title\": {\"standoff\": 15}, \"zerolinecolor\": \"white\", \"zerolinewidth\": 2}, \"yaxis\": {\"automargin\": true, \"gridcolor\": \"white\", \"linecolor\": \"white\", \"ticks\": \"\", \"title\": {\"standoff\": 15}, \"zerolinecolor\": \"white\", \"zerolinewidth\": 2}}}, \"title\": {\"text\": \"Most Popular Cast\"}, \"xaxis\": {\"title\": {\"text\": \"Cast\"}}, \"yaxis\": {\"title\": {\"text\": \"Count\"}}},                        {\"responsive\": true}                    ).then(function(){\n",
       "                            \n",
       "var gd = document.getElementById('31548a9e-f1ca-4b88-9bd4-2fc6cedf27ec');\n",
       "var x = new MutationObserver(function (mutations, observer) {{\n",
       "        var display = window.getComputedStyle(gd).display;\n",
       "        if (!display || display === 'none') {{\n",
       "            console.log([gd, 'removed!']);\n",
       "            Plotly.purge(gd);\n",
       "            observer.disconnect();\n",
       "        }}\n",
       "}});\n",
       "\n",
       "// Listen for the removal of the full notebook cells\n",
       "var notebookContainer = gd.closest('#notebook-container');\n",
       "if (notebookContainer) {{\n",
       "    x.observe(notebookContainer, {childList: true});\n",
       "}}\n",
       "\n",
       "// Listen for the clearing of the current output cell\n",
       "var outputEl = gd.closest('.output');\n",
       "if (outputEl) {{\n",
       "    x.observe(outputEl, {childList: true});\n",
       "}}\n",
       "\n",
       "                        })                };                });            </script>        </div>"
      ]
     },
     "metadata": {},
     "output_type": "display_data"
    }
   ],
   "source": [
    "x=df2['Cast'].value_counts()\n",
    "data=go.Bar(\n",
    "    x=list(x.index),\n",
    "    y=list(x.values),\n",
    "    name='Most Popular Cast')\n",
    "\n",
    "\n",
    "\n",
    "layout=go.Layout(\n",
    "title='Most Popular Cast',\n",
    "xaxis=dict(title='Cast'),\n",
    "yaxis=dict(title='Count'),\n",
    "hovermode='closest'\n",
    "\n",
    ")\n",
    "figure=go.Figure(data=data,layout=layout)\n",
    "iplot(figure)"
   ]
  },
  {
   "cell_type": "markdown",
   "metadata": {},
   "source": [
    "## Best Average Ratings"
   ]
  },
  {
   "cell_type": "code",
   "execution_count": 67,
   "metadata": {},
   "outputs": [
    {
     "name": "stderr",
     "output_type": "stream",
     "text": [
      "<ipython-input-67-fb4470af2f47>:2: SettingWithCopyWarning:\n",
      "\n",
      "\n",
      "A value is trying to be set on a copy of a slice from a DataFrame.\n",
      "Try using .loc[row_indexer,col_indexer] = value instead\n",
      "\n",
      "See the caveats in the documentation: https://pandas.pydata.org/pandas-docs/stable/user_guide/indexing.html#returning-a-view-versus-a-copy\n",
      "\n"
     ]
    },
    {
     "data": {
      "application/vnd.plotly.v1+json": {
       "config": {
        "linkText": "Export to plot.ly",
        "plotlyServerURL": "https://plot.ly",
        "showLink": false
       },
       "data": [
        {
         "name": "Best Average Rating",
         "type": "bar",
         "x": [
          "Jonathan Nolan",
          "Christian Bale",
          "Christopher Nolan",
          "Dallas Reid",
          "Ricardo Hurtado",
          "Mike Clattenburg",
          "Dan Milano",
          "John Paul Tremblay",
          "Larry Allison",
          "James Lebrecht",
          "M.J. Isakson",
          "Eric Frith",
          "Felipe Castanhari",
          "Justin Bare",
          "Harry Benson",
          "Heidi Ewing",
          "Norman Lear",
          "Rich Froning",
          "Heber Cannon",
          "Arya Dave",
          "Dar Gai",
          "Anton Yelchin",
          "Gabe Klinger",
          "Larry Gross",
          "Joy Badlani",
          "K.V.R. Mahendra",
          "Ike Barinholtz"
         ],
         "y": [
          8.5,
          8.5,
          8.5,
          8.1,
          7.9,
          7.9,
          7.9,
          7.9,
          7.8,
          7.8,
          7.7,
          7.7,
          7.6,
          7.3,
          7.3,
          7.2,
          7.2,
          6.7,
          6.7,
          6.7,
          6.7,
          6.1,
          6.1,
          6.1,
          5.8,
          5.8,
          5.5
         ]
        }
       ],
       "layout": {
        "hovermode": "closest",
        "template": {
         "data": {
          "bar": [
           {
            "error_x": {
             "color": "#2a3f5f"
            },
            "error_y": {
             "color": "#2a3f5f"
            },
            "marker": {
             "line": {
              "color": "#E5ECF6",
              "width": 0.5
             }
            },
            "type": "bar"
           }
          ],
          "barpolar": [
           {
            "marker": {
             "line": {
              "color": "#E5ECF6",
              "width": 0.5
             }
            },
            "type": "barpolar"
           }
          ],
          "carpet": [
           {
            "aaxis": {
             "endlinecolor": "#2a3f5f",
             "gridcolor": "white",
             "linecolor": "white",
             "minorgridcolor": "white",
             "startlinecolor": "#2a3f5f"
            },
            "baxis": {
             "endlinecolor": "#2a3f5f",
             "gridcolor": "white",
             "linecolor": "white",
             "minorgridcolor": "white",
             "startlinecolor": "#2a3f5f"
            },
            "type": "carpet"
           }
          ],
          "choropleth": [
           {
            "colorbar": {
             "outlinewidth": 0,
             "ticks": ""
            },
            "type": "choropleth"
           }
          ],
          "contour": [
           {
            "colorbar": {
             "outlinewidth": 0,
             "ticks": ""
            },
            "colorscale": [
             [
              0,
              "#0d0887"
             ],
             [
              0.1111111111111111,
              "#46039f"
             ],
             [
              0.2222222222222222,
              "#7201a8"
             ],
             [
              0.3333333333333333,
              "#9c179e"
             ],
             [
              0.4444444444444444,
              "#bd3786"
             ],
             [
              0.5555555555555556,
              "#d8576b"
             ],
             [
              0.6666666666666666,
              "#ed7953"
             ],
             [
              0.7777777777777778,
              "#fb9f3a"
             ],
             [
              0.8888888888888888,
              "#fdca26"
             ],
             [
              1,
              "#f0f921"
             ]
            ],
            "type": "contour"
           }
          ],
          "contourcarpet": [
           {
            "colorbar": {
             "outlinewidth": 0,
             "ticks": ""
            },
            "type": "contourcarpet"
           }
          ],
          "heatmap": [
           {
            "colorbar": {
             "outlinewidth": 0,
             "ticks": ""
            },
            "colorscale": [
             [
              0,
              "#0d0887"
             ],
             [
              0.1111111111111111,
              "#46039f"
             ],
             [
              0.2222222222222222,
              "#7201a8"
             ],
             [
              0.3333333333333333,
              "#9c179e"
             ],
             [
              0.4444444444444444,
              "#bd3786"
             ],
             [
              0.5555555555555556,
              "#d8576b"
             ],
             [
              0.6666666666666666,
              "#ed7953"
             ],
             [
              0.7777777777777778,
              "#fb9f3a"
             ],
             [
              0.8888888888888888,
              "#fdca26"
             ],
             [
              1,
              "#f0f921"
             ]
            ],
            "type": "heatmap"
           }
          ],
          "heatmapgl": [
           {
            "colorbar": {
             "outlinewidth": 0,
             "ticks": ""
            },
            "colorscale": [
             [
              0,
              "#0d0887"
             ],
             [
              0.1111111111111111,
              "#46039f"
             ],
             [
              0.2222222222222222,
              "#7201a8"
             ],
             [
              0.3333333333333333,
              "#9c179e"
             ],
             [
              0.4444444444444444,
              "#bd3786"
             ],
             [
              0.5555555555555556,
              "#d8576b"
             ],
             [
              0.6666666666666666,
              "#ed7953"
             ],
             [
              0.7777777777777778,
              "#fb9f3a"
             ],
             [
              0.8888888888888888,
              "#fdca26"
             ],
             [
              1,
              "#f0f921"
             ]
            ],
            "type": "heatmapgl"
           }
          ],
          "histogram": [
           {
            "marker": {
             "colorbar": {
              "outlinewidth": 0,
              "ticks": ""
             }
            },
            "type": "histogram"
           }
          ],
          "histogram2d": [
           {
            "colorbar": {
             "outlinewidth": 0,
             "ticks": ""
            },
            "colorscale": [
             [
              0,
              "#0d0887"
             ],
             [
              0.1111111111111111,
              "#46039f"
             ],
             [
              0.2222222222222222,
              "#7201a8"
             ],
             [
              0.3333333333333333,
              "#9c179e"
             ],
             [
              0.4444444444444444,
              "#bd3786"
             ],
             [
              0.5555555555555556,
              "#d8576b"
             ],
             [
              0.6666666666666666,
              "#ed7953"
             ],
             [
              0.7777777777777778,
              "#fb9f3a"
             ],
             [
              0.8888888888888888,
              "#fdca26"
             ],
             [
              1,
              "#f0f921"
             ]
            ],
            "type": "histogram2d"
           }
          ],
          "histogram2dcontour": [
           {
            "colorbar": {
             "outlinewidth": 0,
             "ticks": ""
            },
            "colorscale": [
             [
              0,
              "#0d0887"
             ],
             [
              0.1111111111111111,
              "#46039f"
             ],
             [
              0.2222222222222222,
              "#7201a8"
             ],
             [
              0.3333333333333333,
              "#9c179e"
             ],
             [
              0.4444444444444444,
              "#bd3786"
             ],
             [
              0.5555555555555556,
              "#d8576b"
             ],
             [
              0.6666666666666666,
              "#ed7953"
             ],
             [
              0.7777777777777778,
              "#fb9f3a"
             ],
             [
              0.8888888888888888,
              "#fdca26"
             ],
             [
              1,
              "#f0f921"
             ]
            ],
            "type": "histogram2dcontour"
           }
          ],
          "mesh3d": [
           {
            "colorbar": {
             "outlinewidth": 0,
             "ticks": ""
            },
            "type": "mesh3d"
           }
          ],
          "parcoords": [
           {
            "line": {
             "colorbar": {
              "outlinewidth": 0,
              "ticks": ""
             }
            },
            "type": "parcoords"
           }
          ],
          "pie": [
           {
            "automargin": true,
            "type": "pie"
           }
          ],
          "scatter": [
           {
            "marker": {
             "colorbar": {
              "outlinewidth": 0,
              "ticks": ""
             }
            },
            "type": "scatter"
           }
          ],
          "scatter3d": [
           {
            "line": {
             "colorbar": {
              "outlinewidth": 0,
              "ticks": ""
             }
            },
            "marker": {
             "colorbar": {
              "outlinewidth": 0,
              "ticks": ""
             }
            },
            "type": "scatter3d"
           }
          ],
          "scattercarpet": [
           {
            "marker": {
             "colorbar": {
              "outlinewidth": 0,
              "ticks": ""
             }
            },
            "type": "scattercarpet"
           }
          ],
          "scattergeo": [
           {
            "marker": {
             "colorbar": {
              "outlinewidth": 0,
              "ticks": ""
             }
            },
            "type": "scattergeo"
           }
          ],
          "scattergl": [
           {
            "marker": {
             "colorbar": {
              "outlinewidth": 0,
              "ticks": ""
             }
            },
            "type": "scattergl"
           }
          ],
          "scattermapbox": [
           {
            "marker": {
             "colorbar": {
              "outlinewidth": 0,
              "ticks": ""
             }
            },
            "type": "scattermapbox"
           }
          ],
          "scatterpolar": [
           {
            "marker": {
             "colorbar": {
              "outlinewidth": 0,
              "ticks": ""
             }
            },
            "type": "scatterpolar"
           }
          ],
          "scatterpolargl": [
           {
            "marker": {
             "colorbar": {
              "outlinewidth": 0,
              "ticks": ""
             }
            },
            "type": "scatterpolargl"
           }
          ],
          "scatterternary": [
           {
            "marker": {
             "colorbar": {
              "outlinewidth": 0,
              "ticks": ""
             }
            },
            "type": "scatterternary"
           }
          ],
          "surface": [
           {
            "colorbar": {
             "outlinewidth": 0,
             "ticks": ""
            },
            "colorscale": [
             [
              0,
              "#0d0887"
             ],
             [
              0.1111111111111111,
              "#46039f"
             ],
             [
              0.2222222222222222,
              "#7201a8"
             ],
             [
              0.3333333333333333,
              "#9c179e"
             ],
             [
              0.4444444444444444,
              "#bd3786"
             ],
             [
              0.5555555555555556,
              "#d8576b"
             ],
             [
              0.6666666666666666,
              "#ed7953"
             ],
             [
              0.7777777777777778,
              "#fb9f3a"
             ],
             [
              0.8888888888888888,
              "#fdca26"
             ],
             [
              1,
              "#f0f921"
             ]
            ],
            "type": "surface"
           }
          ],
          "table": [
           {
            "cells": {
             "fill": {
              "color": "#EBF0F8"
             },
             "line": {
              "color": "white"
             }
            },
            "header": {
             "fill": {
              "color": "#C8D4E3"
             },
             "line": {
              "color": "white"
             }
            },
            "type": "table"
           }
          ]
         },
         "layout": {
          "annotationdefaults": {
           "arrowcolor": "#2a3f5f",
           "arrowhead": 0,
           "arrowwidth": 1
          },
          "coloraxis": {
           "colorbar": {
            "outlinewidth": 0,
            "ticks": ""
           }
          },
          "colorscale": {
           "diverging": [
            [
             0,
             "#8e0152"
            ],
            [
             0.1,
             "#c51b7d"
            ],
            [
             0.2,
             "#de77ae"
            ],
            [
             0.3,
             "#f1b6da"
            ],
            [
             0.4,
             "#fde0ef"
            ],
            [
             0.5,
             "#f7f7f7"
            ],
            [
             0.6,
             "#e6f5d0"
            ],
            [
             0.7,
             "#b8e186"
            ],
            [
             0.8,
             "#7fbc41"
            ],
            [
             0.9,
             "#4d9221"
            ],
            [
             1,
             "#276419"
            ]
           ],
           "sequential": [
            [
             0,
             "#0d0887"
            ],
            [
             0.1111111111111111,
             "#46039f"
            ],
            [
             0.2222222222222222,
             "#7201a8"
            ],
            [
             0.3333333333333333,
             "#9c179e"
            ],
            [
             0.4444444444444444,
             "#bd3786"
            ],
            [
             0.5555555555555556,
             "#d8576b"
            ],
            [
             0.6666666666666666,
             "#ed7953"
            ],
            [
             0.7777777777777778,
             "#fb9f3a"
            ],
            [
             0.8888888888888888,
             "#fdca26"
            ],
            [
             1,
             "#f0f921"
            ]
           ],
           "sequentialminus": [
            [
             0,
             "#0d0887"
            ],
            [
             0.1111111111111111,
             "#46039f"
            ],
            [
             0.2222222222222222,
             "#7201a8"
            ],
            [
             0.3333333333333333,
             "#9c179e"
            ],
            [
             0.4444444444444444,
             "#bd3786"
            ],
            [
             0.5555555555555556,
             "#d8576b"
            ],
            [
             0.6666666666666666,
             "#ed7953"
            ],
            [
             0.7777777777777778,
             "#fb9f3a"
            ],
            [
             0.8888888888888888,
             "#fdca26"
            ],
            [
             1,
             "#f0f921"
            ]
           ]
          },
          "colorway": [
           "#636efa",
           "#EF553B",
           "#00cc96",
           "#ab63fa",
           "#FFA15A",
           "#19d3f3",
           "#FF6692",
           "#B6E880",
           "#FF97FF",
           "#FECB52"
          ],
          "font": {
           "color": "#2a3f5f"
          },
          "geo": {
           "bgcolor": "white",
           "lakecolor": "white",
           "landcolor": "#E5ECF6",
           "showlakes": true,
           "showland": true,
           "subunitcolor": "white"
          },
          "hoverlabel": {
           "align": "left"
          },
          "hovermode": "closest",
          "mapbox": {
           "style": "light"
          },
          "paper_bgcolor": "white",
          "plot_bgcolor": "#E5ECF6",
          "polar": {
           "angularaxis": {
            "gridcolor": "white",
            "linecolor": "white",
            "ticks": ""
           },
           "bgcolor": "#E5ECF6",
           "radialaxis": {
            "gridcolor": "white",
            "linecolor": "white",
            "ticks": ""
           }
          },
          "scene": {
           "xaxis": {
            "backgroundcolor": "#E5ECF6",
            "gridcolor": "white",
            "gridwidth": 2,
            "linecolor": "white",
            "showbackground": true,
            "ticks": "",
            "zerolinecolor": "white"
           },
           "yaxis": {
            "backgroundcolor": "#E5ECF6",
            "gridcolor": "white",
            "gridwidth": 2,
            "linecolor": "white",
            "showbackground": true,
            "ticks": "",
            "zerolinecolor": "white"
           },
           "zaxis": {
            "backgroundcolor": "#E5ECF6",
            "gridcolor": "white",
            "gridwidth": 2,
            "linecolor": "white",
            "showbackground": true,
            "ticks": "",
            "zerolinecolor": "white"
           }
          },
          "shapedefaults": {
           "line": {
            "color": "#2a3f5f"
           }
          },
          "ternary": {
           "aaxis": {
            "gridcolor": "white",
            "linecolor": "white",
            "ticks": ""
           },
           "baxis": {
            "gridcolor": "white",
            "linecolor": "white",
            "ticks": ""
           },
           "bgcolor": "#E5ECF6",
           "caxis": {
            "gridcolor": "white",
            "linecolor": "white",
            "ticks": ""
           }
          },
          "title": {
           "x": 0.05
          },
          "xaxis": {
           "automargin": true,
           "gridcolor": "white",
           "linecolor": "white",
           "ticks": "",
           "title": {
            "standoff": 15
           },
           "zerolinecolor": "white",
           "zerolinewidth": 2
          },
          "yaxis": {
           "automargin": true,
           "gridcolor": "white",
           "linecolor": "white",
           "ticks": "",
           "title": {
            "standoff": 15
           },
           "zerolinecolor": "white",
           "zerolinewidth": 2
          }
         }
        },
        "title": {
         "text": "Best Average Rating"
        },
        "xaxis": {
         "title": {
          "text": "Cast"
         }
        },
        "yaxis": {
         "title": {
          "text": "Average Rating"
         }
        }
       }
      },
      "text/html": [
       "<div>                            <div id=\"3a42603d-4213-4f96-b2c8-bb6a418ba902\" class=\"plotly-graph-div\" style=\"height:525px; width:100%;\"></div>            <script type=\"text/javascript\">                require([\"plotly\"], function(Plotly) {                    window.PLOTLYENV=window.PLOTLYENV || {};                                    if (document.getElementById(\"3a42603d-4213-4f96-b2c8-bb6a418ba902\")) {                    Plotly.newPlot(                        \"3a42603d-4213-4f96-b2c8-bb6a418ba902\",                        [{\"name\": \"Best Average Rating\", \"type\": \"bar\", \"x\": [\"Jonathan Nolan\", \"Christian Bale\", \"Christopher Nolan\", \"Dallas Reid\", \"Ricardo Hurtado\", \"Mike Clattenburg\", \"Dan Milano\", \"John Paul Tremblay\", \"Larry Allison\", \"James Lebrecht\", \"M.J. Isakson\", \"Eric Frith\", \"Felipe Castanhari\", \"Justin Bare\", \"Harry Benson\", \"Heidi Ewing\", \"Norman Lear\", \"Rich Froning\", \"Heber Cannon\", \"Arya Dave\", \"Dar Gai\", \"Anton Yelchin\", \"Gabe Klinger\", \"Larry Gross\", \"Joy Badlani\", \"K.V.R. Mahendra\", \"Ike Barinholtz\"], \"y\": [8.5, 8.5, 8.5, 8.1, 7.9, 7.9, 7.9, 7.9, 7.8, 7.8, 7.7, 7.7, 7.6, 7.3, 7.3, 7.2, 7.2, 6.7, 6.7, 6.7, 6.7, 6.1, 6.1, 6.1, 5.8, 5.8, 5.5]}],                        {\"hovermode\": \"closest\", \"template\": {\"data\": {\"bar\": [{\"error_x\": {\"color\": \"#2a3f5f\"}, \"error_y\": {\"color\": \"#2a3f5f\"}, \"marker\": {\"line\": {\"color\": \"#E5ECF6\", \"width\": 0.5}}, \"type\": \"bar\"}], \"barpolar\": [{\"marker\": {\"line\": {\"color\": \"#E5ECF6\", \"width\": 0.5}}, \"type\": \"barpolar\"}], \"carpet\": [{\"aaxis\": {\"endlinecolor\": \"#2a3f5f\", \"gridcolor\": \"white\", \"linecolor\": \"white\", \"minorgridcolor\": \"white\", \"startlinecolor\": \"#2a3f5f\"}, \"baxis\": {\"endlinecolor\": \"#2a3f5f\", \"gridcolor\": \"white\", \"linecolor\": \"white\", \"minorgridcolor\": \"white\", \"startlinecolor\": \"#2a3f5f\"}, \"type\": \"carpet\"}], \"choropleth\": [{\"colorbar\": {\"outlinewidth\": 0, \"ticks\": \"\"}, \"type\": \"choropleth\"}], \"contour\": [{\"colorbar\": {\"outlinewidth\": 0, \"ticks\": \"\"}, \"colorscale\": [[0.0, \"#0d0887\"], [0.1111111111111111, \"#46039f\"], [0.2222222222222222, \"#7201a8\"], [0.3333333333333333, \"#9c179e\"], [0.4444444444444444, \"#bd3786\"], [0.5555555555555556, \"#d8576b\"], [0.6666666666666666, \"#ed7953\"], [0.7777777777777778, \"#fb9f3a\"], [0.8888888888888888, \"#fdca26\"], [1.0, \"#f0f921\"]], \"type\": \"contour\"}], \"contourcarpet\": [{\"colorbar\": {\"outlinewidth\": 0, \"ticks\": \"\"}, \"type\": \"contourcarpet\"}], \"heatmap\": [{\"colorbar\": {\"outlinewidth\": 0, \"ticks\": \"\"}, \"colorscale\": [[0.0, \"#0d0887\"], [0.1111111111111111, \"#46039f\"], [0.2222222222222222, \"#7201a8\"], [0.3333333333333333, \"#9c179e\"], [0.4444444444444444, \"#bd3786\"], [0.5555555555555556, \"#d8576b\"], [0.6666666666666666, \"#ed7953\"], [0.7777777777777778, \"#fb9f3a\"], [0.8888888888888888, \"#fdca26\"], [1.0, \"#f0f921\"]], \"type\": \"heatmap\"}], \"heatmapgl\": [{\"colorbar\": {\"outlinewidth\": 0, \"ticks\": \"\"}, \"colorscale\": [[0.0, \"#0d0887\"], [0.1111111111111111, \"#46039f\"], [0.2222222222222222, \"#7201a8\"], [0.3333333333333333, \"#9c179e\"], [0.4444444444444444, \"#bd3786\"], [0.5555555555555556, \"#d8576b\"], [0.6666666666666666, \"#ed7953\"], [0.7777777777777778, \"#fb9f3a\"], [0.8888888888888888, \"#fdca26\"], [1.0, \"#f0f921\"]], \"type\": \"heatmapgl\"}], \"histogram\": [{\"marker\": {\"colorbar\": {\"outlinewidth\": 0, \"ticks\": \"\"}}, \"type\": \"histogram\"}], \"histogram2d\": [{\"colorbar\": {\"outlinewidth\": 0, \"ticks\": \"\"}, \"colorscale\": [[0.0, \"#0d0887\"], [0.1111111111111111, \"#46039f\"], [0.2222222222222222, \"#7201a8\"], [0.3333333333333333, \"#9c179e\"], [0.4444444444444444, \"#bd3786\"], [0.5555555555555556, \"#d8576b\"], [0.6666666666666666, \"#ed7953\"], [0.7777777777777778, \"#fb9f3a\"], [0.8888888888888888, \"#fdca26\"], [1.0, \"#f0f921\"]], \"type\": \"histogram2d\"}], \"histogram2dcontour\": [{\"colorbar\": {\"outlinewidth\": 0, \"ticks\": \"\"}, \"colorscale\": [[0.0, \"#0d0887\"], [0.1111111111111111, \"#46039f\"], [0.2222222222222222, \"#7201a8\"], [0.3333333333333333, \"#9c179e\"], [0.4444444444444444, \"#bd3786\"], [0.5555555555555556, \"#d8576b\"], [0.6666666666666666, \"#ed7953\"], [0.7777777777777778, \"#fb9f3a\"], [0.8888888888888888, \"#fdca26\"], [1.0, \"#f0f921\"]], \"type\": \"histogram2dcontour\"}], \"mesh3d\": [{\"colorbar\": {\"outlinewidth\": 0, \"ticks\": \"\"}, \"type\": \"mesh3d\"}], \"parcoords\": [{\"line\": {\"colorbar\": {\"outlinewidth\": 0, \"ticks\": \"\"}}, \"type\": \"parcoords\"}], \"pie\": [{\"automargin\": true, \"type\": \"pie\"}], \"scatter\": [{\"marker\": {\"colorbar\": {\"outlinewidth\": 0, \"ticks\": \"\"}}, \"type\": \"scatter\"}], \"scatter3d\": [{\"line\": {\"colorbar\": {\"outlinewidth\": 0, \"ticks\": \"\"}}, \"marker\": {\"colorbar\": {\"outlinewidth\": 0, \"ticks\": \"\"}}, \"type\": \"scatter3d\"}], \"scattercarpet\": [{\"marker\": {\"colorbar\": {\"outlinewidth\": 0, \"ticks\": \"\"}}, \"type\": \"scattercarpet\"}], \"scattergeo\": [{\"marker\": {\"colorbar\": {\"outlinewidth\": 0, \"ticks\": \"\"}}, \"type\": \"scattergeo\"}], \"scattergl\": [{\"marker\": {\"colorbar\": {\"outlinewidth\": 0, \"ticks\": \"\"}}, \"type\": \"scattergl\"}], \"scattermapbox\": [{\"marker\": {\"colorbar\": {\"outlinewidth\": 0, \"ticks\": \"\"}}, \"type\": \"scattermapbox\"}], \"scatterpolar\": [{\"marker\": {\"colorbar\": {\"outlinewidth\": 0, \"ticks\": \"\"}}, \"type\": \"scatterpolar\"}], \"scatterpolargl\": [{\"marker\": {\"colorbar\": {\"outlinewidth\": 0, \"ticks\": \"\"}}, \"type\": \"scatterpolargl\"}], \"scatterternary\": [{\"marker\": {\"colorbar\": {\"outlinewidth\": 0, \"ticks\": \"\"}}, \"type\": \"scatterternary\"}], \"surface\": [{\"colorbar\": {\"outlinewidth\": 0, \"ticks\": \"\"}, \"colorscale\": [[0.0, \"#0d0887\"], [0.1111111111111111, \"#46039f\"], [0.2222222222222222, \"#7201a8\"], [0.3333333333333333, \"#9c179e\"], [0.4444444444444444, \"#bd3786\"], [0.5555555555555556, \"#d8576b\"], [0.6666666666666666, \"#ed7953\"], [0.7777777777777778, \"#fb9f3a\"], [0.8888888888888888, \"#fdca26\"], [1.0, \"#f0f921\"]], \"type\": \"surface\"}], \"table\": [{\"cells\": {\"fill\": {\"color\": \"#EBF0F8\"}, \"line\": {\"color\": \"white\"}}, \"header\": {\"fill\": {\"color\": \"#C8D4E3\"}, \"line\": {\"color\": \"white\"}}, \"type\": \"table\"}]}, \"layout\": {\"annotationdefaults\": {\"arrowcolor\": \"#2a3f5f\", \"arrowhead\": 0, \"arrowwidth\": 1}, \"coloraxis\": {\"colorbar\": {\"outlinewidth\": 0, \"ticks\": \"\"}}, \"colorscale\": {\"diverging\": [[0, \"#8e0152\"], [0.1, \"#c51b7d\"], [0.2, \"#de77ae\"], [0.3, \"#f1b6da\"], [0.4, \"#fde0ef\"], [0.5, \"#f7f7f7\"], [0.6, \"#e6f5d0\"], [0.7, \"#b8e186\"], [0.8, \"#7fbc41\"], [0.9, \"#4d9221\"], [1, \"#276419\"]], \"sequential\": [[0.0, \"#0d0887\"], [0.1111111111111111, \"#46039f\"], [0.2222222222222222, \"#7201a8\"], [0.3333333333333333, \"#9c179e\"], [0.4444444444444444, \"#bd3786\"], [0.5555555555555556, \"#d8576b\"], [0.6666666666666666, \"#ed7953\"], [0.7777777777777778, \"#fb9f3a\"], [0.8888888888888888, \"#fdca26\"], [1.0, \"#f0f921\"]], \"sequentialminus\": [[0.0, \"#0d0887\"], [0.1111111111111111, \"#46039f\"], [0.2222222222222222, \"#7201a8\"], [0.3333333333333333, \"#9c179e\"], [0.4444444444444444, \"#bd3786\"], [0.5555555555555556, \"#d8576b\"], [0.6666666666666666, \"#ed7953\"], [0.7777777777777778, \"#fb9f3a\"], [0.8888888888888888, \"#fdca26\"], [1.0, \"#f0f921\"]]}, \"colorway\": [\"#636efa\", \"#EF553B\", \"#00cc96\", \"#ab63fa\", \"#FFA15A\", \"#19d3f3\", \"#FF6692\", \"#B6E880\", \"#FF97FF\", \"#FECB52\"], \"font\": {\"color\": \"#2a3f5f\"}, \"geo\": {\"bgcolor\": \"white\", \"lakecolor\": \"white\", \"landcolor\": \"#E5ECF6\", \"showlakes\": true, \"showland\": true, \"subunitcolor\": \"white\"}, \"hoverlabel\": {\"align\": \"left\"}, \"hovermode\": \"closest\", \"mapbox\": {\"style\": \"light\"}, \"paper_bgcolor\": \"white\", \"plot_bgcolor\": \"#E5ECF6\", \"polar\": {\"angularaxis\": {\"gridcolor\": \"white\", \"linecolor\": \"white\", \"ticks\": \"\"}, \"bgcolor\": \"#E5ECF6\", \"radialaxis\": {\"gridcolor\": \"white\", \"linecolor\": \"white\", \"ticks\": \"\"}}, \"scene\": {\"xaxis\": {\"backgroundcolor\": \"#E5ECF6\", \"gridcolor\": \"white\", \"gridwidth\": 2, \"linecolor\": \"white\", \"showbackground\": true, \"ticks\": \"\", \"zerolinecolor\": \"white\"}, \"yaxis\": {\"backgroundcolor\": \"#E5ECF6\", \"gridcolor\": \"white\", \"gridwidth\": 2, \"linecolor\": \"white\", \"showbackground\": true, \"ticks\": \"\", \"zerolinecolor\": \"white\"}, \"zaxis\": {\"backgroundcolor\": \"#E5ECF6\", \"gridcolor\": \"white\", \"gridwidth\": 2, \"linecolor\": \"white\", \"showbackground\": true, \"ticks\": \"\", \"zerolinecolor\": \"white\"}}, \"shapedefaults\": {\"line\": {\"color\": \"#2a3f5f\"}}, \"ternary\": {\"aaxis\": {\"gridcolor\": \"white\", \"linecolor\": \"white\", \"ticks\": \"\"}, \"baxis\": {\"gridcolor\": \"white\", \"linecolor\": \"white\", \"ticks\": \"\"}, \"bgcolor\": \"#E5ECF6\", \"caxis\": {\"gridcolor\": \"white\", \"linecolor\": \"white\", \"ticks\": \"\"}}, \"title\": {\"x\": 0.05}, \"xaxis\": {\"automargin\": true, \"gridcolor\": \"white\", \"linecolor\": \"white\", \"ticks\": \"\", \"title\": {\"standoff\": 15}, \"zerolinecolor\": \"white\", \"zerolinewidth\": 2}, \"yaxis\": {\"automargin\": true, \"gridcolor\": \"white\", \"linecolor\": \"white\", \"ticks\": \"\", \"title\": {\"standoff\": 15}, \"zerolinecolor\": \"white\", \"zerolinewidth\": 2}}}, \"title\": {\"text\": \"Best Average Rating\"}, \"xaxis\": {\"title\": {\"text\": \"Cast\"}}, \"yaxis\": {\"title\": {\"text\": \"Average Rating\"}}},                        {\"responsive\": true}                    ).then(function(){\n",
       "                            \n",
       "var gd = document.getElementById('3a42603d-4213-4f96-b2c8-bb6a418ba902');\n",
       "var x = new MutationObserver(function (mutations, observer) {{\n",
       "        var display = window.getComputedStyle(gd).display;\n",
       "        if (!display || display === 'none') {{\n",
       "            console.log([gd, 'removed!']);\n",
       "            Plotly.purge(gd);\n",
       "            observer.disconnect();\n",
       "        }}\n",
       "}});\n",
       "\n",
       "// Listen for the removal of the full notebook cells\n",
       "var notebookContainer = gd.closest('#notebook-container');\n",
       "if (notebookContainer) {{\n",
       "    x.observe(notebookContainer, {childList: true});\n",
       "}}\n",
       "\n",
       "// Listen for the clearing of the current output cell\n",
       "var outputEl = gd.closest('.output');\n",
       "if (outputEl) {{\n",
       "    x.observe(outputEl, {childList: true});\n",
       "}}\n",
       "\n",
       "                        })                };                });            </script>        </div>"
      ]
     },
     "metadata": {},
     "output_type": "display_data"
    }
   ],
   "source": [
    "df3=df2[df2['Ratings']!='Unknown']\n",
    "df3['Ratings']=df3['Ratings'].astype(float)\n",
    "x=df3.groupby('Cast')['Ratings'].mean().sort_values(ascending=False)\n",
    "\n",
    "data=go.Bar(\n",
    "    x=list(x.index),\n",
    "    y=list(x.values),\n",
    "    name='Best Average Rating')\n",
    "\n",
    "\n",
    "\n",
    "layout=go.Layout(\n",
    "title='Best Average Rating',\n",
    "xaxis=dict(title='Cast'),\n",
    "yaxis=dict(title='Average Rating'),\n",
    "hovermode='closest'\n",
    "\n",
    ")\n",
    "figure=go.Figure(data=data,layout=layout)\n",
    "iplot(figure)"
   ]
  },
  {
   "cell_type": "markdown",
   "metadata": {},
   "source": [
    "## Most Reviews Count"
   ]
  },
  {
   "cell_type": "code",
   "execution_count": 68,
   "metadata": {},
   "outputs": [
    {
     "data": {
      "application/vnd.plotly.v1+json": {
       "config": {
        "linkText": "Export to plot.ly",
        "plotlyServerURL": "https://plot.ly",
        "showLink": false
       },
       "data": [
        {
         "name": "Most Ratings",
         "type": "bar",
         "x": [
          "Jonathan Nolan",
          "Christian Bale",
          "Christopher Nolan",
          "Ike Barinholtz",
          "Dallas Reid",
          "Mike Clattenburg",
          "James Lebrecht",
          "John Paul Tremblay",
          "Larry Allison",
          "Heber Cannon",
          "Gabe Klinger",
          "Anton Yelchin",
          "Larry Gross",
          "Rich Froning",
          "Justin Bare",
          "Dan Milano",
          "Ricardo Hurtado",
          "Felipe Castanhari",
          "Dar Gai",
          "Harry Benson",
          "Heidi Ewing",
          "Norman Lear",
          "K.V.R. Mahendra",
          "Arya Dave",
          "Joy Badlani",
          "Eric Frith",
          "M.J. Isakson",
          "Richard Hickey"
         ],
         "y": [
          1190816,
          1190816,
          1190816,
          12543,
          6991,
          6496,
          5440,
          3248,
          2720,
          2380,
          1784,
          1784,
          1784,
          1190,
          756,
          637,
          637,
          532,
          434,
          378,
          360,
          360,
          274,
          217,
          137,
          41,
          41,
          0
         ]
        }
       ],
       "layout": {
        "hovermode": "closest",
        "template": {
         "data": {
          "bar": [
           {
            "error_x": {
             "color": "#2a3f5f"
            },
            "error_y": {
             "color": "#2a3f5f"
            },
            "marker": {
             "line": {
              "color": "#E5ECF6",
              "width": 0.5
             }
            },
            "type": "bar"
           }
          ],
          "barpolar": [
           {
            "marker": {
             "line": {
              "color": "#E5ECF6",
              "width": 0.5
             }
            },
            "type": "barpolar"
           }
          ],
          "carpet": [
           {
            "aaxis": {
             "endlinecolor": "#2a3f5f",
             "gridcolor": "white",
             "linecolor": "white",
             "minorgridcolor": "white",
             "startlinecolor": "#2a3f5f"
            },
            "baxis": {
             "endlinecolor": "#2a3f5f",
             "gridcolor": "white",
             "linecolor": "white",
             "minorgridcolor": "white",
             "startlinecolor": "#2a3f5f"
            },
            "type": "carpet"
           }
          ],
          "choropleth": [
           {
            "colorbar": {
             "outlinewidth": 0,
             "ticks": ""
            },
            "type": "choropleth"
           }
          ],
          "contour": [
           {
            "colorbar": {
             "outlinewidth": 0,
             "ticks": ""
            },
            "colorscale": [
             [
              0,
              "#0d0887"
             ],
             [
              0.1111111111111111,
              "#46039f"
             ],
             [
              0.2222222222222222,
              "#7201a8"
             ],
             [
              0.3333333333333333,
              "#9c179e"
             ],
             [
              0.4444444444444444,
              "#bd3786"
             ],
             [
              0.5555555555555556,
              "#d8576b"
             ],
             [
              0.6666666666666666,
              "#ed7953"
             ],
             [
              0.7777777777777778,
              "#fb9f3a"
             ],
             [
              0.8888888888888888,
              "#fdca26"
             ],
             [
              1,
              "#f0f921"
             ]
            ],
            "type": "contour"
           }
          ],
          "contourcarpet": [
           {
            "colorbar": {
             "outlinewidth": 0,
             "ticks": ""
            },
            "type": "contourcarpet"
           }
          ],
          "heatmap": [
           {
            "colorbar": {
             "outlinewidth": 0,
             "ticks": ""
            },
            "colorscale": [
             [
              0,
              "#0d0887"
             ],
             [
              0.1111111111111111,
              "#46039f"
             ],
             [
              0.2222222222222222,
              "#7201a8"
             ],
             [
              0.3333333333333333,
              "#9c179e"
             ],
             [
              0.4444444444444444,
              "#bd3786"
             ],
             [
              0.5555555555555556,
              "#d8576b"
             ],
             [
              0.6666666666666666,
              "#ed7953"
             ],
             [
              0.7777777777777778,
              "#fb9f3a"
             ],
             [
              0.8888888888888888,
              "#fdca26"
             ],
             [
              1,
              "#f0f921"
             ]
            ],
            "type": "heatmap"
           }
          ],
          "heatmapgl": [
           {
            "colorbar": {
             "outlinewidth": 0,
             "ticks": ""
            },
            "colorscale": [
             [
              0,
              "#0d0887"
             ],
             [
              0.1111111111111111,
              "#46039f"
             ],
             [
              0.2222222222222222,
              "#7201a8"
             ],
             [
              0.3333333333333333,
              "#9c179e"
             ],
             [
              0.4444444444444444,
              "#bd3786"
             ],
             [
              0.5555555555555556,
              "#d8576b"
             ],
             [
              0.6666666666666666,
              "#ed7953"
             ],
             [
              0.7777777777777778,
              "#fb9f3a"
             ],
             [
              0.8888888888888888,
              "#fdca26"
             ],
             [
              1,
              "#f0f921"
             ]
            ],
            "type": "heatmapgl"
           }
          ],
          "histogram": [
           {
            "marker": {
             "colorbar": {
              "outlinewidth": 0,
              "ticks": ""
             }
            },
            "type": "histogram"
           }
          ],
          "histogram2d": [
           {
            "colorbar": {
             "outlinewidth": 0,
             "ticks": ""
            },
            "colorscale": [
             [
              0,
              "#0d0887"
             ],
             [
              0.1111111111111111,
              "#46039f"
             ],
             [
              0.2222222222222222,
              "#7201a8"
             ],
             [
              0.3333333333333333,
              "#9c179e"
             ],
             [
              0.4444444444444444,
              "#bd3786"
             ],
             [
              0.5555555555555556,
              "#d8576b"
             ],
             [
              0.6666666666666666,
              "#ed7953"
             ],
             [
              0.7777777777777778,
              "#fb9f3a"
             ],
             [
              0.8888888888888888,
              "#fdca26"
             ],
             [
              1,
              "#f0f921"
             ]
            ],
            "type": "histogram2d"
           }
          ],
          "histogram2dcontour": [
           {
            "colorbar": {
             "outlinewidth": 0,
             "ticks": ""
            },
            "colorscale": [
             [
              0,
              "#0d0887"
             ],
             [
              0.1111111111111111,
              "#46039f"
             ],
             [
              0.2222222222222222,
              "#7201a8"
             ],
             [
              0.3333333333333333,
              "#9c179e"
             ],
             [
              0.4444444444444444,
              "#bd3786"
             ],
             [
              0.5555555555555556,
              "#d8576b"
             ],
             [
              0.6666666666666666,
              "#ed7953"
             ],
             [
              0.7777777777777778,
              "#fb9f3a"
             ],
             [
              0.8888888888888888,
              "#fdca26"
             ],
             [
              1,
              "#f0f921"
             ]
            ],
            "type": "histogram2dcontour"
           }
          ],
          "mesh3d": [
           {
            "colorbar": {
             "outlinewidth": 0,
             "ticks": ""
            },
            "type": "mesh3d"
           }
          ],
          "parcoords": [
           {
            "line": {
             "colorbar": {
              "outlinewidth": 0,
              "ticks": ""
             }
            },
            "type": "parcoords"
           }
          ],
          "pie": [
           {
            "automargin": true,
            "type": "pie"
           }
          ],
          "scatter": [
           {
            "marker": {
             "colorbar": {
              "outlinewidth": 0,
              "ticks": ""
             }
            },
            "type": "scatter"
           }
          ],
          "scatter3d": [
           {
            "line": {
             "colorbar": {
              "outlinewidth": 0,
              "ticks": ""
             }
            },
            "marker": {
             "colorbar": {
              "outlinewidth": 0,
              "ticks": ""
             }
            },
            "type": "scatter3d"
           }
          ],
          "scattercarpet": [
           {
            "marker": {
             "colorbar": {
              "outlinewidth": 0,
              "ticks": ""
             }
            },
            "type": "scattercarpet"
           }
          ],
          "scattergeo": [
           {
            "marker": {
             "colorbar": {
              "outlinewidth": 0,
              "ticks": ""
             }
            },
            "type": "scattergeo"
           }
          ],
          "scattergl": [
           {
            "marker": {
             "colorbar": {
              "outlinewidth": 0,
              "ticks": ""
             }
            },
            "type": "scattergl"
           }
          ],
          "scattermapbox": [
           {
            "marker": {
             "colorbar": {
              "outlinewidth": 0,
              "ticks": ""
             }
            },
            "type": "scattermapbox"
           }
          ],
          "scatterpolar": [
           {
            "marker": {
             "colorbar": {
              "outlinewidth": 0,
              "ticks": ""
             }
            },
            "type": "scatterpolar"
           }
          ],
          "scatterpolargl": [
           {
            "marker": {
             "colorbar": {
              "outlinewidth": 0,
              "ticks": ""
             }
            },
            "type": "scatterpolargl"
           }
          ],
          "scatterternary": [
           {
            "marker": {
             "colorbar": {
              "outlinewidth": 0,
              "ticks": ""
             }
            },
            "type": "scatterternary"
           }
          ],
          "surface": [
           {
            "colorbar": {
             "outlinewidth": 0,
             "ticks": ""
            },
            "colorscale": [
             [
              0,
              "#0d0887"
             ],
             [
              0.1111111111111111,
              "#46039f"
             ],
             [
              0.2222222222222222,
              "#7201a8"
             ],
             [
              0.3333333333333333,
              "#9c179e"
             ],
             [
              0.4444444444444444,
              "#bd3786"
             ],
             [
              0.5555555555555556,
              "#d8576b"
             ],
             [
              0.6666666666666666,
              "#ed7953"
             ],
             [
              0.7777777777777778,
              "#fb9f3a"
             ],
             [
              0.8888888888888888,
              "#fdca26"
             ],
             [
              1,
              "#f0f921"
             ]
            ],
            "type": "surface"
           }
          ],
          "table": [
           {
            "cells": {
             "fill": {
              "color": "#EBF0F8"
             },
             "line": {
              "color": "white"
             }
            },
            "header": {
             "fill": {
              "color": "#C8D4E3"
             },
             "line": {
              "color": "white"
             }
            },
            "type": "table"
           }
          ]
         },
         "layout": {
          "annotationdefaults": {
           "arrowcolor": "#2a3f5f",
           "arrowhead": 0,
           "arrowwidth": 1
          },
          "coloraxis": {
           "colorbar": {
            "outlinewidth": 0,
            "ticks": ""
           }
          },
          "colorscale": {
           "diverging": [
            [
             0,
             "#8e0152"
            ],
            [
             0.1,
             "#c51b7d"
            ],
            [
             0.2,
             "#de77ae"
            ],
            [
             0.3,
             "#f1b6da"
            ],
            [
             0.4,
             "#fde0ef"
            ],
            [
             0.5,
             "#f7f7f7"
            ],
            [
             0.6,
             "#e6f5d0"
            ],
            [
             0.7,
             "#b8e186"
            ],
            [
             0.8,
             "#7fbc41"
            ],
            [
             0.9,
             "#4d9221"
            ],
            [
             1,
             "#276419"
            ]
           ],
           "sequential": [
            [
             0,
             "#0d0887"
            ],
            [
             0.1111111111111111,
             "#46039f"
            ],
            [
             0.2222222222222222,
             "#7201a8"
            ],
            [
             0.3333333333333333,
             "#9c179e"
            ],
            [
             0.4444444444444444,
             "#bd3786"
            ],
            [
             0.5555555555555556,
             "#d8576b"
            ],
            [
             0.6666666666666666,
             "#ed7953"
            ],
            [
             0.7777777777777778,
             "#fb9f3a"
            ],
            [
             0.8888888888888888,
             "#fdca26"
            ],
            [
             1,
             "#f0f921"
            ]
           ],
           "sequentialminus": [
            [
             0,
             "#0d0887"
            ],
            [
             0.1111111111111111,
             "#46039f"
            ],
            [
             0.2222222222222222,
             "#7201a8"
            ],
            [
             0.3333333333333333,
             "#9c179e"
            ],
            [
             0.4444444444444444,
             "#bd3786"
            ],
            [
             0.5555555555555556,
             "#d8576b"
            ],
            [
             0.6666666666666666,
             "#ed7953"
            ],
            [
             0.7777777777777778,
             "#fb9f3a"
            ],
            [
             0.8888888888888888,
             "#fdca26"
            ],
            [
             1,
             "#f0f921"
            ]
           ]
          },
          "colorway": [
           "#636efa",
           "#EF553B",
           "#00cc96",
           "#ab63fa",
           "#FFA15A",
           "#19d3f3",
           "#FF6692",
           "#B6E880",
           "#FF97FF",
           "#FECB52"
          ],
          "font": {
           "color": "#2a3f5f"
          },
          "geo": {
           "bgcolor": "white",
           "lakecolor": "white",
           "landcolor": "#E5ECF6",
           "showlakes": true,
           "showland": true,
           "subunitcolor": "white"
          },
          "hoverlabel": {
           "align": "left"
          },
          "hovermode": "closest",
          "mapbox": {
           "style": "light"
          },
          "paper_bgcolor": "white",
          "plot_bgcolor": "#E5ECF6",
          "polar": {
           "angularaxis": {
            "gridcolor": "white",
            "linecolor": "white",
            "ticks": ""
           },
           "bgcolor": "#E5ECF6",
           "radialaxis": {
            "gridcolor": "white",
            "linecolor": "white",
            "ticks": ""
           }
          },
          "scene": {
           "xaxis": {
            "backgroundcolor": "#E5ECF6",
            "gridcolor": "white",
            "gridwidth": 2,
            "linecolor": "white",
            "showbackground": true,
            "ticks": "",
            "zerolinecolor": "white"
           },
           "yaxis": {
            "backgroundcolor": "#E5ECF6",
            "gridcolor": "white",
            "gridwidth": 2,
            "linecolor": "white",
            "showbackground": true,
            "ticks": "",
            "zerolinecolor": "white"
           },
           "zaxis": {
            "backgroundcolor": "#E5ECF6",
            "gridcolor": "white",
            "gridwidth": 2,
            "linecolor": "white",
            "showbackground": true,
            "ticks": "",
            "zerolinecolor": "white"
           }
          },
          "shapedefaults": {
           "line": {
            "color": "#2a3f5f"
           }
          },
          "ternary": {
           "aaxis": {
            "gridcolor": "white",
            "linecolor": "white",
            "ticks": ""
           },
           "baxis": {
            "gridcolor": "white",
            "linecolor": "white",
            "ticks": ""
           },
           "bgcolor": "#E5ECF6",
           "caxis": {
            "gridcolor": "white",
            "linecolor": "white",
            "ticks": ""
           }
          },
          "title": {
           "x": 0.05
          },
          "xaxis": {
           "automargin": true,
           "gridcolor": "white",
           "linecolor": "white",
           "ticks": "",
           "title": {
            "standoff": 15
           },
           "zerolinecolor": "white",
           "zerolinewidth": 2
          },
          "yaxis": {
           "automargin": true,
           "gridcolor": "white",
           "linecolor": "white",
           "ticks": "",
           "title": {
            "standoff": 15
           },
           "zerolinecolor": "white",
           "zerolinewidth": 2
          }
         }
        },
        "title": {
         "text": "Most Ratings"
        },
        "xaxis": {
         "title": {
          "text": "Cast"
         }
        },
        "yaxis": {
         "title": {
          "text": "Count"
         }
        }
       }
      },
      "text/html": [
       "<div>                            <div id=\"60709403-f984-4e39-b7cb-3276c5bd972b\" class=\"plotly-graph-div\" style=\"height:525px; width:100%;\"></div>            <script type=\"text/javascript\">                require([\"plotly\"], function(Plotly) {                    window.PLOTLYENV=window.PLOTLYENV || {};                                    if (document.getElementById(\"60709403-f984-4e39-b7cb-3276c5bd972b\")) {                    Plotly.newPlot(                        \"60709403-f984-4e39-b7cb-3276c5bd972b\",                        [{\"name\": \"Most Ratings\", \"type\": \"bar\", \"x\": [\"Jonathan Nolan\", \"Christian Bale\", \"Christopher Nolan\", \"Ike Barinholtz\", \"Dallas Reid\", \"Mike Clattenburg\", \"James Lebrecht\", \"John Paul Tremblay\", \"Larry Allison\", \"Heber Cannon\", \"Gabe Klinger\", \"Anton Yelchin\", \"Larry Gross\", \"Rich Froning\", \"Justin Bare\", \"Dan Milano\", \"Ricardo Hurtado\", \"Felipe Castanhari\", \"Dar Gai\", \"Harry Benson\", \"Heidi Ewing\", \"Norman Lear\", \"K.V.R. Mahendra\", \"Arya Dave\", \"Joy Badlani\", \"Eric Frith\", \"M.J. Isakson\", \"Richard Hickey\"], \"y\": [1190816.0, 1190816.0, 1190816.0, 12543.0, 6991.0, 6496.0, 5440.0, 3248.0, 2720.0, 2380.0, 1784.0, 1784.0, 1784.0, 1190.0, 756.0, 637.0, 637.0, 532.0, 434.0, 378.0, 360.0, 360.0, 274.0, 217.0, 137.0, 41.0, 41.0, 0.0]}],                        {\"hovermode\": \"closest\", \"template\": {\"data\": {\"bar\": [{\"error_x\": {\"color\": \"#2a3f5f\"}, \"error_y\": {\"color\": \"#2a3f5f\"}, \"marker\": {\"line\": {\"color\": \"#E5ECF6\", \"width\": 0.5}}, \"type\": \"bar\"}], \"barpolar\": [{\"marker\": {\"line\": {\"color\": \"#E5ECF6\", \"width\": 0.5}}, \"type\": \"barpolar\"}], \"carpet\": [{\"aaxis\": {\"endlinecolor\": \"#2a3f5f\", \"gridcolor\": \"white\", \"linecolor\": \"white\", \"minorgridcolor\": \"white\", \"startlinecolor\": \"#2a3f5f\"}, \"baxis\": {\"endlinecolor\": \"#2a3f5f\", \"gridcolor\": \"white\", \"linecolor\": \"white\", \"minorgridcolor\": \"white\", \"startlinecolor\": \"#2a3f5f\"}, \"type\": \"carpet\"}], \"choropleth\": [{\"colorbar\": {\"outlinewidth\": 0, \"ticks\": \"\"}, \"type\": \"choropleth\"}], \"contour\": [{\"colorbar\": {\"outlinewidth\": 0, \"ticks\": \"\"}, \"colorscale\": [[0.0, \"#0d0887\"], [0.1111111111111111, \"#46039f\"], [0.2222222222222222, \"#7201a8\"], [0.3333333333333333, \"#9c179e\"], [0.4444444444444444, \"#bd3786\"], [0.5555555555555556, \"#d8576b\"], [0.6666666666666666, \"#ed7953\"], [0.7777777777777778, \"#fb9f3a\"], [0.8888888888888888, \"#fdca26\"], [1.0, \"#f0f921\"]], \"type\": \"contour\"}], \"contourcarpet\": [{\"colorbar\": {\"outlinewidth\": 0, \"ticks\": \"\"}, \"type\": \"contourcarpet\"}], \"heatmap\": [{\"colorbar\": {\"outlinewidth\": 0, \"ticks\": \"\"}, \"colorscale\": [[0.0, \"#0d0887\"], [0.1111111111111111, \"#46039f\"], [0.2222222222222222, \"#7201a8\"], [0.3333333333333333, \"#9c179e\"], [0.4444444444444444, \"#bd3786\"], [0.5555555555555556, \"#d8576b\"], [0.6666666666666666, \"#ed7953\"], [0.7777777777777778, \"#fb9f3a\"], [0.8888888888888888, \"#fdca26\"], [1.0, \"#f0f921\"]], \"type\": \"heatmap\"}], \"heatmapgl\": [{\"colorbar\": {\"outlinewidth\": 0, \"ticks\": \"\"}, \"colorscale\": [[0.0, \"#0d0887\"], [0.1111111111111111, \"#46039f\"], [0.2222222222222222, \"#7201a8\"], [0.3333333333333333, \"#9c179e\"], [0.4444444444444444, \"#bd3786\"], [0.5555555555555556, \"#d8576b\"], [0.6666666666666666, \"#ed7953\"], [0.7777777777777778, \"#fb9f3a\"], [0.8888888888888888, \"#fdca26\"], [1.0, \"#f0f921\"]], \"type\": \"heatmapgl\"}], \"histogram\": [{\"marker\": {\"colorbar\": {\"outlinewidth\": 0, \"ticks\": \"\"}}, \"type\": \"histogram\"}], \"histogram2d\": [{\"colorbar\": {\"outlinewidth\": 0, \"ticks\": \"\"}, \"colorscale\": [[0.0, \"#0d0887\"], [0.1111111111111111, \"#46039f\"], [0.2222222222222222, \"#7201a8\"], [0.3333333333333333, \"#9c179e\"], [0.4444444444444444, \"#bd3786\"], [0.5555555555555556, \"#d8576b\"], [0.6666666666666666, \"#ed7953\"], [0.7777777777777778, \"#fb9f3a\"], [0.8888888888888888, \"#fdca26\"], [1.0, \"#f0f921\"]], \"type\": \"histogram2d\"}], \"histogram2dcontour\": [{\"colorbar\": {\"outlinewidth\": 0, \"ticks\": \"\"}, \"colorscale\": [[0.0, \"#0d0887\"], [0.1111111111111111, \"#46039f\"], [0.2222222222222222, \"#7201a8\"], [0.3333333333333333, \"#9c179e\"], [0.4444444444444444, \"#bd3786\"], [0.5555555555555556, \"#d8576b\"], [0.6666666666666666, \"#ed7953\"], [0.7777777777777778, \"#fb9f3a\"], [0.8888888888888888, \"#fdca26\"], [1.0, \"#f0f921\"]], \"type\": \"histogram2dcontour\"}], \"mesh3d\": [{\"colorbar\": {\"outlinewidth\": 0, \"ticks\": \"\"}, \"type\": \"mesh3d\"}], \"parcoords\": [{\"line\": {\"colorbar\": {\"outlinewidth\": 0, \"ticks\": \"\"}}, \"type\": \"parcoords\"}], \"pie\": [{\"automargin\": true, \"type\": \"pie\"}], \"scatter\": [{\"marker\": {\"colorbar\": {\"outlinewidth\": 0, \"ticks\": \"\"}}, \"type\": \"scatter\"}], \"scatter3d\": [{\"line\": {\"colorbar\": {\"outlinewidth\": 0, \"ticks\": \"\"}}, \"marker\": {\"colorbar\": {\"outlinewidth\": 0, \"ticks\": \"\"}}, \"type\": \"scatter3d\"}], \"scattercarpet\": [{\"marker\": {\"colorbar\": {\"outlinewidth\": 0, \"ticks\": \"\"}}, \"type\": \"scattercarpet\"}], \"scattergeo\": [{\"marker\": {\"colorbar\": {\"outlinewidth\": 0, \"ticks\": \"\"}}, \"type\": \"scattergeo\"}], \"scattergl\": [{\"marker\": {\"colorbar\": {\"outlinewidth\": 0, \"ticks\": \"\"}}, \"type\": \"scattergl\"}], \"scattermapbox\": [{\"marker\": {\"colorbar\": {\"outlinewidth\": 0, \"ticks\": \"\"}}, \"type\": \"scattermapbox\"}], \"scatterpolar\": [{\"marker\": {\"colorbar\": {\"outlinewidth\": 0, \"ticks\": \"\"}}, \"type\": \"scatterpolar\"}], \"scatterpolargl\": [{\"marker\": {\"colorbar\": {\"outlinewidth\": 0, \"ticks\": \"\"}}, \"type\": \"scatterpolargl\"}], \"scatterternary\": [{\"marker\": {\"colorbar\": {\"outlinewidth\": 0, \"ticks\": \"\"}}, \"type\": \"scatterternary\"}], \"surface\": [{\"colorbar\": {\"outlinewidth\": 0, \"ticks\": \"\"}, \"colorscale\": [[0.0, \"#0d0887\"], [0.1111111111111111, \"#46039f\"], [0.2222222222222222, \"#7201a8\"], [0.3333333333333333, \"#9c179e\"], [0.4444444444444444, \"#bd3786\"], [0.5555555555555556, \"#d8576b\"], [0.6666666666666666, \"#ed7953\"], [0.7777777777777778, \"#fb9f3a\"], [0.8888888888888888, \"#fdca26\"], [1.0, \"#f0f921\"]], \"type\": \"surface\"}], \"table\": [{\"cells\": {\"fill\": {\"color\": \"#EBF0F8\"}, \"line\": {\"color\": \"white\"}}, \"header\": {\"fill\": {\"color\": \"#C8D4E3\"}, \"line\": {\"color\": \"white\"}}, \"type\": \"table\"}]}, \"layout\": {\"annotationdefaults\": {\"arrowcolor\": \"#2a3f5f\", \"arrowhead\": 0, \"arrowwidth\": 1}, \"coloraxis\": {\"colorbar\": {\"outlinewidth\": 0, \"ticks\": \"\"}}, \"colorscale\": {\"diverging\": [[0, \"#8e0152\"], [0.1, \"#c51b7d\"], [0.2, \"#de77ae\"], [0.3, \"#f1b6da\"], [0.4, \"#fde0ef\"], [0.5, \"#f7f7f7\"], [0.6, \"#e6f5d0\"], [0.7, \"#b8e186\"], [0.8, \"#7fbc41\"], [0.9, \"#4d9221\"], [1, \"#276419\"]], \"sequential\": [[0.0, \"#0d0887\"], [0.1111111111111111, \"#46039f\"], [0.2222222222222222, \"#7201a8\"], [0.3333333333333333, \"#9c179e\"], [0.4444444444444444, \"#bd3786\"], [0.5555555555555556, \"#d8576b\"], [0.6666666666666666, \"#ed7953\"], [0.7777777777777778, \"#fb9f3a\"], [0.8888888888888888, \"#fdca26\"], [1.0, \"#f0f921\"]], \"sequentialminus\": [[0.0, \"#0d0887\"], [0.1111111111111111, \"#46039f\"], [0.2222222222222222, \"#7201a8\"], [0.3333333333333333, \"#9c179e\"], [0.4444444444444444, \"#bd3786\"], [0.5555555555555556, \"#d8576b\"], [0.6666666666666666, \"#ed7953\"], [0.7777777777777778, \"#fb9f3a\"], [0.8888888888888888, \"#fdca26\"], [1.0, \"#f0f921\"]]}, \"colorway\": [\"#636efa\", \"#EF553B\", \"#00cc96\", \"#ab63fa\", \"#FFA15A\", \"#19d3f3\", \"#FF6692\", \"#B6E880\", \"#FF97FF\", \"#FECB52\"], \"font\": {\"color\": \"#2a3f5f\"}, \"geo\": {\"bgcolor\": \"white\", \"lakecolor\": \"white\", \"landcolor\": \"#E5ECF6\", \"showlakes\": true, \"showland\": true, \"subunitcolor\": \"white\"}, \"hoverlabel\": {\"align\": \"left\"}, \"hovermode\": \"closest\", \"mapbox\": {\"style\": \"light\"}, \"paper_bgcolor\": \"white\", \"plot_bgcolor\": \"#E5ECF6\", \"polar\": {\"angularaxis\": {\"gridcolor\": \"white\", \"linecolor\": \"white\", \"ticks\": \"\"}, \"bgcolor\": \"#E5ECF6\", \"radialaxis\": {\"gridcolor\": \"white\", \"linecolor\": \"white\", \"ticks\": \"\"}}, \"scene\": {\"xaxis\": {\"backgroundcolor\": \"#E5ECF6\", \"gridcolor\": \"white\", \"gridwidth\": 2, \"linecolor\": \"white\", \"showbackground\": true, \"ticks\": \"\", \"zerolinecolor\": \"white\"}, \"yaxis\": {\"backgroundcolor\": \"#E5ECF6\", \"gridcolor\": \"white\", \"gridwidth\": 2, \"linecolor\": \"white\", \"showbackground\": true, \"ticks\": \"\", \"zerolinecolor\": \"white\"}, \"zaxis\": {\"backgroundcolor\": \"#E5ECF6\", \"gridcolor\": \"white\", \"gridwidth\": 2, \"linecolor\": \"white\", \"showbackground\": true, \"ticks\": \"\", \"zerolinecolor\": \"white\"}}, \"shapedefaults\": {\"line\": {\"color\": \"#2a3f5f\"}}, \"ternary\": {\"aaxis\": {\"gridcolor\": \"white\", \"linecolor\": \"white\", \"ticks\": \"\"}, \"baxis\": {\"gridcolor\": \"white\", \"linecolor\": \"white\", \"ticks\": \"\"}, \"bgcolor\": \"#E5ECF6\", \"caxis\": {\"gridcolor\": \"white\", \"linecolor\": \"white\", \"ticks\": \"\"}}, \"title\": {\"x\": 0.05}, \"xaxis\": {\"automargin\": true, \"gridcolor\": \"white\", \"linecolor\": \"white\", \"ticks\": \"\", \"title\": {\"standoff\": 15}, \"zerolinecolor\": \"white\", \"zerolinewidth\": 2}, \"yaxis\": {\"automargin\": true, \"gridcolor\": \"white\", \"linecolor\": \"white\", \"ticks\": \"\", \"title\": {\"standoff\": 15}, \"zerolinecolor\": \"white\", \"zerolinewidth\": 2}}}, \"title\": {\"text\": \"Most Ratings\"}, \"xaxis\": {\"title\": {\"text\": \"Cast\"}}, \"yaxis\": {\"title\": {\"text\": \"Count\"}}},                        {\"responsive\": true}                    ).then(function(){\n",
       "                            \n",
       "var gd = document.getElementById('60709403-f984-4e39-b7cb-3276c5bd972b');\n",
       "var x = new MutationObserver(function (mutations, observer) {{\n",
       "        var display = window.getComputedStyle(gd).display;\n",
       "        if (!display || display === 'none') {{\n",
       "            console.log([gd, 'removed!']);\n",
       "            Plotly.purge(gd);\n",
       "            observer.disconnect();\n",
       "        }}\n",
       "}});\n",
       "\n",
       "// Listen for the removal of the full notebook cells\n",
       "var notebookContainer = gd.closest('#notebook-container');\n",
       "if (notebookContainer) {{\n",
       "    x.observe(notebookContainer, {childList: true});\n",
       "}}\n",
       "\n",
       "// Listen for the clearing of the current output cell\n",
       "var outputEl = gd.closest('.output');\n",
       "if (outputEl) {{\n",
       "    x.observe(outputEl, {childList: true});\n",
       "}}\n",
       "\n",
       "                        })                };                });            </script>        </div>"
      ]
     },
     "metadata": {},
     "output_type": "display_data"
    }
   ],
   "source": [
    "df3=df2[df2['Rating Count']!='Unknown']\n",
    "df3['Rating Count']=df3['Rating Count'].astype(float)\n",
    "x=df3.groupby('Cast')['Rating Count'].sum().sort_values(ascending=False)\n",
    "\n",
    "data=go.Bar(\n",
    "    x=list(x.index),\n",
    "    y=list(x.values),\n",
    "    name='Most Ratings')\n",
    "\n",
    "\n",
    "\n",
    "layout=go.Layout(\n",
    "title='Most Ratings',\n",
    "xaxis=dict(title='Cast'),\n",
    "yaxis=dict(title='Count'),\n",
    "hovermode='closest'\n",
    "\n",
    ")\n",
    "figure=go.Figure(data=data,layout=layout)\n",
    "iplot(figure)"
   ]
  },
  {
   "cell_type": "markdown",
   "metadata": {},
   "source": [
    "# Genres"
   ]
  },
  {
   "cell_type": "code",
   "execution_count": 69,
   "metadata": {},
   "outputs": [],
   "source": [
    "df2=pd.DataFrame(columns=['Genres','Ratings','Reviews Count','Rating Count','Sentiment','Length'])\n",
    "for i in range(len(df)):\n",
    "    if(df['Genres'][i]!='Unknown'):\n",
    "        x=df['Genres'][i]\n",
    "        for j in range(len(x)):\n",
    "            rating=df['Ratings'][i]\n",
    "            review_count=df['Reviews Count'][i]\n",
    "            rating_count=df['Rating Count'][i]\n",
    "            sentiment=df['Sentiment'][i]\n",
    "            length=df['Length'][i]\n",
    "            \n",
    "            df2.loc[len(df2)]=[x[j],rating,review_count,rating_count,sentiment,length]           "
   ]
  },
  {
   "cell_type": "markdown",
   "metadata": {},
   "source": [
    "## Most Popular Genre "
   ]
  },
  {
   "cell_type": "code",
   "execution_count": 70,
   "metadata": {},
   "outputs": [
    {
     "data": {
      "application/vnd.plotly.v1+json": {
       "config": {
        "linkText": "Export to plot.ly",
        "plotlyServerURL": "https://plot.ly",
        "showLink": false
       },
       "data": [
        {
         "name": "Most Popular Genres",
         "type": "bar",
         "x": [
          "Documentary",
          "Comedy",
          "Drama",
          "Animation",
          "Thriller",
          "Sci-Fi",
          "Family",
          "Action",
          "Mystery",
          "Romance",
          "Adventure",
          "Biography",
          "Fantasy",
          "Musical",
          "History"
         ],
         "y": [
          6,
          5,
          5,
          4,
          4,
          3,
          3,
          2,
          2,
          2,
          2,
          1,
          1,
          1,
          1
         ]
        }
       ],
       "layout": {
        "hovermode": "closest",
        "template": {
         "data": {
          "bar": [
           {
            "error_x": {
             "color": "#2a3f5f"
            },
            "error_y": {
             "color": "#2a3f5f"
            },
            "marker": {
             "line": {
              "color": "#E5ECF6",
              "width": 0.5
             }
            },
            "type": "bar"
           }
          ],
          "barpolar": [
           {
            "marker": {
             "line": {
              "color": "#E5ECF6",
              "width": 0.5
             }
            },
            "type": "barpolar"
           }
          ],
          "carpet": [
           {
            "aaxis": {
             "endlinecolor": "#2a3f5f",
             "gridcolor": "white",
             "linecolor": "white",
             "minorgridcolor": "white",
             "startlinecolor": "#2a3f5f"
            },
            "baxis": {
             "endlinecolor": "#2a3f5f",
             "gridcolor": "white",
             "linecolor": "white",
             "minorgridcolor": "white",
             "startlinecolor": "#2a3f5f"
            },
            "type": "carpet"
           }
          ],
          "choropleth": [
           {
            "colorbar": {
             "outlinewidth": 0,
             "ticks": ""
            },
            "type": "choropleth"
           }
          ],
          "contour": [
           {
            "colorbar": {
             "outlinewidth": 0,
             "ticks": ""
            },
            "colorscale": [
             [
              0,
              "#0d0887"
             ],
             [
              0.1111111111111111,
              "#46039f"
             ],
             [
              0.2222222222222222,
              "#7201a8"
             ],
             [
              0.3333333333333333,
              "#9c179e"
             ],
             [
              0.4444444444444444,
              "#bd3786"
             ],
             [
              0.5555555555555556,
              "#d8576b"
             ],
             [
              0.6666666666666666,
              "#ed7953"
             ],
             [
              0.7777777777777778,
              "#fb9f3a"
             ],
             [
              0.8888888888888888,
              "#fdca26"
             ],
             [
              1,
              "#f0f921"
             ]
            ],
            "type": "contour"
           }
          ],
          "contourcarpet": [
           {
            "colorbar": {
             "outlinewidth": 0,
             "ticks": ""
            },
            "type": "contourcarpet"
           }
          ],
          "heatmap": [
           {
            "colorbar": {
             "outlinewidth": 0,
             "ticks": ""
            },
            "colorscale": [
             [
              0,
              "#0d0887"
             ],
             [
              0.1111111111111111,
              "#46039f"
             ],
             [
              0.2222222222222222,
              "#7201a8"
             ],
             [
              0.3333333333333333,
              "#9c179e"
             ],
             [
              0.4444444444444444,
              "#bd3786"
             ],
             [
              0.5555555555555556,
              "#d8576b"
             ],
             [
              0.6666666666666666,
              "#ed7953"
             ],
             [
              0.7777777777777778,
              "#fb9f3a"
             ],
             [
              0.8888888888888888,
              "#fdca26"
             ],
             [
              1,
              "#f0f921"
             ]
            ],
            "type": "heatmap"
           }
          ],
          "heatmapgl": [
           {
            "colorbar": {
             "outlinewidth": 0,
             "ticks": ""
            },
            "colorscale": [
             [
              0,
              "#0d0887"
             ],
             [
              0.1111111111111111,
              "#46039f"
             ],
             [
              0.2222222222222222,
              "#7201a8"
             ],
             [
              0.3333333333333333,
              "#9c179e"
             ],
             [
              0.4444444444444444,
              "#bd3786"
             ],
             [
              0.5555555555555556,
              "#d8576b"
             ],
             [
              0.6666666666666666,
              "#ed7953"
             ],
             [
              0.7777777777777778,
              "#fb9f3a"
             ],
             [
              0.8888888888888888,
              "#fdca26"
             ],
             [
              1,
              "#f0f921"
             ]
            ],
            "type": "heatmapgl"
           }
          ],
          "histogram": [
           {
            "marker": {
             "colorbar": {
              "outlinewidth": 0,
              "ticks": ""
             }
            },
            "type": "histogram"
           }
          ],
          "histogram2d": [
           {
            "colorbar": {
             "outlinewidth": 0,
             "ticks": ""
            },
            "colorscale": [
             [
              0,
              "#0d0887"
             ],
             [
              0.1111111111111111,
              "#46039f"
             ],
             [
              0.2222222222222222,
              "#7201a8"
             ],
             [
              0.3333333333333333,
              "#9c179e"
             ],
             [
              0.4444444444444444,
              "#bd3786"
             ],
             [
              0.5555555555555556,
              "#d8576b"
             ],
             [
              0.6666666666666666,
              "#ed7953"
             ],
             [
              0.7777777777777778,
              "#fb9f3a"
             ],
             [
              0.8888888888888888,
              "#fdca26"
             ],
             [
              1,
              "#f0f921"
             ]
            ],
            "type": "histogram2d"
           }
          ],
          "histogram2dcontour": [
           {
            "colorbar": {
             "outlinewidth": 0,
             "ticks": ""
            },
            "colorscale": [
             [
              0,
              "#0d0887"
             ],
             [
              0.1111111111111111,
              "#46039f"
             ],
             [
              0.2222222222222222,
              "#7201a8"
             ],
             [
              0.3333333333333333,
              "#9c179e"
             ],
             [
              0.4444444444444444,
              "#bd3786"
             ],
             [
              0.5555555555555556,
              "#d8576b"
             ],
             [
              0.6666666666666666,
              "#ed7953"
             ],
             [
              0.7777777777777778,
              "#fb9f3a"
             ],
             [
              0.8888888888888888,
              "#fdca26"
             ],
             [
              1,
              "#f0f921"
             ]
            ],
            "type": "histogram2dcontour"
           }
          ],
          "mesh3d": [
           {
            "colorbar": {
             "outlinewidth": 0,
             "ticks": ""
            },
            "type": "mesh3d"
           }
          ],
          "parcoords": [
           {
            "line": {
             "colorbar": {
              "outlinewidth": 0,
              "ticks": ""
             }
            },
            "type": "parcoords"
           }
          ],
          "pie": [
           {
            "automargin": true,
            "type": "pie"
           }
          ],
          "scatter": [
           {
            "marker": {
             "colorbar": {
              "outlinewidth": 0,
              "ticks": ""
             }
            },
            "type": "scatter"
           }
          ],
          "scatter3d": [
           {
            "line": {
             "colorbar": {
              "outlinewidth": 0,
              "ticks": ""
             }
            },
            "marker": {
             "colorbar": {
              "outlinewidth": 0,
              "ticks": ""
             }
            },
            "type": "scatter3d"
           }
          ],
          "scattercarpet": [
           {
            "marker": {
             "colorbar": {
              "outlinewidth": 0,
              "ticks": ""
             }
            },
            "type": "scattercarpet"
           }
          ],
          "scattergeo": [
           {
            "marker": {
             "colorbar": {
              "outlinewidth": 0,
              "ticks": ""
             }
            },
            "type": "scattergeo"
           }
          ],
          "scattergl": [
           {
            "marker": {
             "colorbar": {
              "outlinewidth": 0,
              "ticks": ""
             }
            },
            "type": "scattergl"
           }
          ],
          "scattermapbox": [
           {
            "marker": {
             "colorbar": {
              "outlinewidth": 0,
              "ticks": ""
             }
            },
            "type": "scattermapbox"
           }
          ],
          "scatterpolar": [
           {
            "marker": {
             "colorbar": {
              "outlinewidth": 0,
              "ticks": ""
             }
            },
            "type": "scatterpolar"
           }
          ],
          "scatterpolargl": [
           {
            "marker": {
             "colorbar": {
              "outlinewidth": 0,
              "ticks": ""
             }
            },
            "type": "scatterpolargl"
           }
          ],
          "scatterternary": [
           {
            "marker": {
             "colorbar": {
              "outlinewidth": 0,
              "ticks": ""
             }
            },
            "type": "scatterternary"
           }
          ],
          "surface": [
           {
            "colorbar": {
             "outlinewidth": 0,
             "ticks": ""
            },
            "colorscale": [
             [
              0,
              "#0d0887"
             ],
             [
              0.1111111111111111,
              "#46039f"
             ],
             [
              0.2222222222222222,
              "#7201a8"
             ],
             [
              0.3333333333333333,
              "#9c179e"
             ],
             [
              0.4444444444444444,
              "#bd3786"
             ],
             [
              0.5555555555555556,
              "#d8576b"
             ],
             [
              0.6666666666666666,
              "#ed7953"
             ],
             [
              0.7777777777777778,
              "#fb9f3a"
             ],
             [
              0.8888888888888888,
              "#fdca26"
             ],
             [
              1,
              "#f0f921"
             ]
            ],
            "type": "surface"
           }
          ],
          "table": [
           {
            "cells": {
             "fill": {
              "color": "#EBF0F8"
             },
             "line": {
              "color": "white"
             }
            },
            "header": {
             "fill": {
              "color": "#C8D4E3"
             },
             "line": {
              "color": "white"
             }
            },
            "type": "table"
           }
          ]
         },
         "layout": {
          "annotationdefaults": {
           "arrowcolor": "#2a3f5f",
           "arrowhead": 0,
           "arrowwidth": 1
          },
          "coloraxis": {
           "colorbar": {
            "outlinewidth": 0,
            "ticks": ""
           }
          },
          "colorscale": {
           "diverging": [
            [
             0,
             "#8e0152"
            ],
            [
             0.1,
             "#c51b7d"
            ],
            [
             0.2,
             "#de77ae"
            ],
            [
             0.3,
             "#f1b6da"
            ],
            [
             0.4,
             "#fde0ef"
            ],
            [
             0.5,
             "#f7f7f7"
            ],
            [
             0.6,
             "#e6f5d0"
            ],
            [
             0.7,
             "#b8e186"
            ],
            [
             0.8,
             "#7fbc41"
            ],
            [
             0.9,
             "#4d9221"
            ],
            [
             1,
             "#276419"
            ]
           ],
           "sequential": [
            [
             0,
             "#0d0887"
            ],
            [
             0.1111111111111111,
             "#46039f"
            ],
            [
             0.2222222222222222,
             "#7201a8"
            ],
            [
             0.3333333333333333,
             "#9c179e"
            ],
            [
             0.4444444444444444,
             "#bd3786"
            ],
            [
             0.5555555555555556,
             "#d8576b"
            ],
            [
             0.6666666666666666,
             "#ed7953"
            ],
            [
             0.7777777777777778,
             "#fb9f3a"
            ],
            [
             0.8888888888888888,
             "#fdca26"
            ],
            [
             1,
             "#f0f921"
            ]
           ],
           "sequentialminus": [
            [
             0,
             "#0d0887"
            ],
            [
             0.1111111111111111,
             "#46039f"
            ],
            [
             0.2222222222222222,
             "#7201a8"
            ],
            [
             0.3333333333333333,
             "#9c179e"
            ],
            [
             0.4444444444444444,
             "#bd3786"
            ],
            [
             0.5555555555555556,
             "#d8576b"
            ],
            [
             0.6666666666666666,
             "#ed7953"
            ],
            [
             0.7777777777777778,
             "#fb9f3a"
            ],
            [
             0.8888888888888888,
             "#fdca26"
            ],
            [
             1,
             "#f0f921"
            ]
           ]
          },
          "colorway": [
           "#636efa",
           "#EF553B",
           "#00cc96",
           "#ab63fa",
           "#FFA15A",
           "#19d3f3",
           "#FF6692",
           "#B6E880",
           "#FF97FF",
           "#FECB52"
          ],
          "font": {
           "color": "#2a3f5f"
          },
          "geo": {
           "bgcolor": "white",
           "lakecolor": "white",
           "landcolor": "#E5ECF6",
           "showlakes": true,
           "showland": true,
           "subunitcolor": "white"
          },
          "hoverlabel": {
           "align": "left"
          },
          "hovermode": "closest",
          "mapbox": {
           "style": "light"
          },
          "paper_bgcolor": "white",
          "plot_bgcolor": "#E5ECF6",
          "polar": {
           "angularaxis": {
            "gridcolor": "white",
            "linecolor": "white",
            "ticks": ""
           },
           "bgcolor": "#E5ECF6",
           "radialaxis": {
            "gridcolor": "white",
            "linecolor": "white",
            "ticks": ""
           }
          },
          "scene": {
           "xaxis": {
            "backgroundcolor": "#E5ECF6",
            "gridcolor": "white",
            "gridwidth": 2,
            "linecolor": "white",
            "showbackground": true,
            "ticks": "",
            "zerolinecolor": "white"
           },
           "yaxis": {
            "backgroundcolor": "#E5ECF6",
            "gridcolor": "white",
            "gridwidth": 2,
            "linecolor": "white",
            "showbackground": true,
            "ticks": "",
            "zerolinecolor": "white"
           },
           "zaxis": {
            "backgroundcolor": "#E5ECF6",
            "gridcolor": "white",
            "gridwidth": 2,
            "linecolor": "white",
            "showbackground": true,
            "ticks": "",
            "zerolinecolor": "white"
           }
          },
          "shapedefaults": {
           "line": {
            "color": "#2a3f5f"
           }
          },
          "ternary": {
           "aaxis": {
            "gridcolor": "white",
            "linecolor": "white",
            "ticks": ""
           },
           "baxis": {
            "gridcolor": "white",
            "linecolor": "white",
            "ticks": ""
           },
           "bgcolor": "#E5ECF6",
           "caxis": {
            "gridcolor": "white",
            "linecolor": "white",
            "ticks": ""
           }
          },
          "title": {
           "x": 0.05
          },
          "xaxis": {
           "automargin": true,
           "gridcolor": "white",
           "linecolor": "white",
           "ticks": "",
           "title": {
            "standoff": 15
           },
           "zerolinecolor": "white",
           "zerolinewidth": 2
          },
          "yaxis": {
           "automargin": true,
           "gridcolor": "white",
           "linecolor": "white",
           "ticks": "",
           "title": {
            "standoff": 15
           },
           "zerolinecolor": "white",
           "zerolinewidth": 2
          }
         }
        },
        "title": {
         "text": "Most Popular Cast"
        },
        "xaxis": {
         "title": {
          "text": "Genres"
         }
        },
        "yaxis": {
         "title": {
          "text": "Count"
         }
        }
       }
      },
      "text/html": [
       "<div>                            <div id=\"39294f2b-58ab-4060-acce-937f6cf6fd12\" class=\"plotly-graph-div\" style=\"height:525px; width:100%;\"></div>            <script type=\"text/javascript\">                require([\"plotly\"], function(Plotly) {                    window.PLOTLYENV=window.PLOTLYENV || {};                                    if (document.getElementById(\"39294f2b-58ab-4060-acce-937f6cf6fd12\")) {                    Plotly.newPlot(                        \"39294f2b-58ab-4060-acce-937f6cf6fd12\",                        [{\"name\": \"Most Popular Genres\", \"type\": \"bar\", \"x\": [\"Documentary\", \"Comedy\", \"Drama\", \"Animation\", \"Thriller\", \"Sci-Fi\", \"Family\", \"Action\", \"Mystery\", \"Romance\", \"Adventure\", \"Biography\", \"Fantasy\", \"Musical\", \"History\"], \"y\": [6, 5, 5, 4, 4, 3, 3, 2, 2, 2, 2, 1, 1, 1, 1]}],                        {\"hovermode\": \"closest\", \"template\": {\"data\": {\"bar\": [{\"error_x\": {\"color\": \"#2a3f5f\"}, \"error_y\": {\"color\": \"#2a3f5f\"}, \"marker\": {\"line\": {\"color\": \"#E5ECF6\", \"width\": 0.5}}, \"type\": \"bar\"}], \"barpolar\": [{\"marker\": {\"line\": {\"color\": \"#E5ECF6\", \"width\": 0.5}}, \"type\": \"barpolar\"}], \"carpet\": [{\"aaxis\": {\"endlinecolor\": \"#2a3f5f\", \"gridcolor\": \"white\", \"linecolor\": \"white\", \"minorgridcolor\": \"white\", \"startlinecolor\": \"#2a3f5f\"}, \"baxis\": {\"endlinecolor\": \"#2a3f5f\", \"gridcolor\": \"white\", \"linecolor\": \"white\", \"minorgridcolor\": \"white\", \"startlinecolor\": \"#2a3f5f\"}, \"type\": \"carpet\"}], \"choropleth\": [{\"colorbar\": {\"outlinewidth\": 0, \"ticks\": \"\"}, \"type\": \"choropleth\"}], \"contour\": [{\"colorbar\": {\"outlinewidth\": 0, \"ticks\": \"\"}, \"colorscale\": [[0.0, \"#0d0887\"], [0.1111111111111111, \"#46039f\"], [0.2222222222222222, \"#7201a8\"], [0.3333333333333333, \"#9c179e\"], [0.4444444444444444, \"#bd3786\"], [0.5555555555555556, \"#d8576b\"], [0.6666666666666666, \"#ed7953\"], [0.7777777777777778, \"#fb9f3a\"], [0.8888888888888888, \"#fdca26\"], [1.0, \"#f0f921\"]], \"type\": \"contour\"}], \"contourcarpet\": [{\"colorbar\": {\"outlinewidth\": 0, \"ticks\": \"\"}, \"type\": \"contourcarpet\"}], \"heatmap\": [{\"colorbar\": {\"outlinewidth\": 0, \"ticks\": \"\"}, \"colorscale\": [[0.0, \"#0d0887\"], [0.1111111111111111, \"#46039f\"], [0.2222222222222222, \"#7201a8\"], [0.3333333333333333, \"#9c179e\"], [0.4444444444444444, \"#bd3786\"], [0.5555555555555556, \"#d8576b\"], [0.6666666666666666, \"#ed7953\"], [0.7777777777777778, \"#fb9f3a\"], [0.8888888888888888, \"#fdca26\"], [1.0, \"#f0f921\"]], \"type\": \"heatmap\"}], \"heatmapgl\": [{\"colorbar\": {\"outlinewidth\": 0, \"ticks\": \"\"}, \"colorscale\": [[0.0, \"#0d0887\"], [0.1111111111111111, \"#46039f\"], [0.2222222222222222, \"#7201a8\"], [0.3333333333333333, \"#9c179e\"], [0.4444444444444444, \"#bd3786\"], [0.5555555555555556, \"#d8576b\"], [0.6666666666666666, \"#ed7953\"], [0.7777777777777778, \"#fb9f3a\"], [0.8888888888888888, \"#fdca26\"], [1.0, \"#f0f921\"]], \"type\": \"heatmapgl\"}], \"histogram\": [{\"marker\": {\"colorbar\": {\"outlinewidth\": 0, \"ticks\": \"\"}}, \"type\": \"histogram\"}], \"histogram2d\": [{\"colorbar\": {\"outlinewidth\": 0, \"ticks\": \"\"}, \"colorscale\": [[0.0, \"#0d0887\"], [0.1111111111111111, \"#46039f\"], [0.2222222222222222, \"#7201a8\"], [0.3333333333333333, \"#9c179e\"], [0.4444444444444444, \"#bd3786\"], [0.5555555555555556, \"#d8576b\"], [0.6666666666666666, \"#ed7953\"], [0.7777777777777778, \"#fb9f3a\"], [0.8888888888888888, \"#fdca26\"], [1.0, \"#f0f921\"]], \"type\": \"histogram2d\"}], \"histogram2dcontour\": [{\"colorbar\": {\"outlinewidth\": 0, \"ticks\": \"\"}, \"colorscale\": [[0.0, \"#0d0887\"], [0.1111111111111111, \"#46039f\"], [0.2222222222222222, \"#7201a8\"], [0.3333333333333333, \"#9c179e\"], [0.4444444444444444, \"#bd3786\"], [0.5555555555555556, \"#d8576b\"], [0.6666666666666666, \"#ed7953\"], [0.7777777777777778, \"#fb9f3a\"], [0.8888888888888888, \"#fdca26\"], [1.0, \"#f0f921\"]], \"type\": \"histogram2dcontour\"}], \"mesh3d\": [{\"colorbar\": {\"outlinewidth\": 0, \"ticks\": \"\"}, \"type\": \"mesh3d\"}], \"parcoords\": [{\"line\": {\"colorbar\": {\"outlinewidth\": 0, \"ticks\": \"\"}}, \"type\": \"parcoords\"}], \"pie\": [{\"automargin\": true, \"type\": \"pie\"}], \"scatter\": [{\"marker\": {\"colorbar\": {\"outlinewidth\": 0, \"ticks\": \"\"}}, \"type\": \"scatter\"}], \"scatter3d\": [{\"line\": {\"colorbar\": {\"outlinewidth\": 0, \"ticks\": \"\"}}, \"marker\": {\"colorbar\": {\"outlinewidth\": 0, \"ticks\": \"\"}}, \"type\": \"scatter3d\"}], \"scattercarpet\": [{\"marker\": {\"colorbar\": {\"outlinewidth\": 0, \"ticks\": \"\"}}, \"type\": \"scattercarpet\"}], \"scattergeo\": [{\"marker\": {\"colorbar\": {\"outlinewidth\": 0, \"ticks\": \"\"}}, \"type\": \"scattergeo\"}], \"scattergl\": [{\"marker\": {\"colorbar\": {\"outlinewidth\": 0, \"ticks\": \"\"}}, \"type\": \"scattergl\"}], \"scattermapbox\": [{\"marker\": {\"colorbar\": {\"outlinewidth\": 0, \"ticks\": \"\"}}, \"type\": \"scattermapbox\"}], \"scatterpolar\": [{\"marker\": {\"colorbar\": {\"outlinewidth\": 0, \"ticks\": \"\"}}, \"type\": \"scatterpolar\"}], \"scatterpolargl\": [{\"marker\": {\"colorbar\": {\"outlinewidth\": 0, \"ticks\": \"\"}}, \"type\": \"scatterpolargl\"}], \"scatterternary\": [{\"marker\": {\"colorbar\": {\"outlinewidth\": 0, \"ticks\": \"\"}}, \"type\": \"scatterternary\"}], \"surface\": [{\"colorbar\": {\"outlinewidth\": 0, \"ticks\": \"\"}, \"colorscale\": [[0.0, \"#0d0887\"], [0.1111111111111111, \"#46039f\"], [0.2222222222222222, \"#7201a8\"], [0.3333333333333333, \"#9c179e\"], [0.4444444444444444, \"#bd3786\"], [0.5555555555555556, \"#d8576b\"], [0.6666666666666666, \"#ed7953\"], [0.7777777777777778, \"#fb9f3a\"], [0.8888888888888888, \"#fdca26\"], [1.0, \"#f0f921\"]], \"type\": \"surface\"}], \"table\": [{\"cells\": {\"fill\": {\"color\": \"#EBF0F8\"}, \"line\": {\"color\": \"white\"}}, \"header\": {\"fill\": {\"color\": \"#C8D4E3\"}, \"line\": {\"color\": \"white\"}}, \"type\": \"table\"}]}, \"layout\": {\"annotationdefaults\": {\"arrowcolor\": \"#2a3f5f\", \"arrowhead\": 0, \"arrowwidth\": 1}, \"coloraxis\": {\"colorbar\": {\"outlinewidth\": 0, \"ticks\": \"\"}}, \"colorscale\": {\"diverging\": [[0, \"#8e0152\"], [0.1, \"#c51b7d\"], [0.2, \"#de77ae\"], [0.3, \"#f1b6da\"], [0.4, \"#fde0ef\"], [0.5, \"#f7f7f7\"], [0.6, \"#e6f5d0\"], [0.7, \"#b8e186\"], [0.8, \"#7fbc41\"], [0.9, \"#4d9221\"], [1, \"#276419\"]], \"sequential\": [[0.0, \"#0d0887\"], [0.1111111111111111, \"#46039f\"], [0.2222222222222222, \"#7201a8\"], [0.3333333333333333, \"#9c179e\"], [0.4444444444444444, \"#bd3786\"], [0.5555555555555556, \"#d8576b\"], [0.6666666666666666, \"#ed7953\"], [0.7777777777777778, \"#fb9f3a\"], [0.8888888888888888, \"#fdca26\"], [1.0, \"#f0f921\"]], \"sequentialminus\": [[0.0, \"#0d0887\"], [0.1111111111111111, \"#46039f\"], [0.2222222222222222, \"#7201a8\"], [0.3333333333333333, \"#9c179e\"], [0.4444444444444444, \"#bd3786\"], [0.5555555555555556, \"#d8576b\"], [0.6666666666666666, \"#ed7953\"], [0.7777777777777778, \"#fb9f3a\"], [0.8888888888888888, \"#fdca26\"], [1.0, \"#f0f921\"]]}, \"colorway\": [\"#636efa\", \"#EF553B\", \"#00cc96\", \"#ab63fa\", \"#FFA15A\", \"#19d3f3\", \"#FF6692\", \"#B6E880\", \"#FF97FF\", \"#FECB52\"], \"font\": {\"color\": \"#2a3f5f\"}, \"geo\": {\"bgcolor\": \"white\", \"lakecolor\": \"white\", \"landcolor\": \"#E5ECF6\", \"showlakes\": true, \"showland\": true, \"subunitcolor\": \"white\"}, \"hoverlabel\": {\"align\": \"left\"}, \"hovermode\": \"closest\", \"mapbox\": {\"style\": \"light\"}, \"paper_bgcolor\": \"white\", \"plot_bgcolor\": \"#E5ECF6\", \"polar\": {\"angularaxis\": {\"gridcolor\": \"white\", \"linecolor\": \"white\", \"ticks\": \"\"}, \"bgcolor\": \"#E5ECF6\", \"radialaxis\": {\"gridcolor\": \"white\", \"linecolor\": \"white\", \"ticks\": \"\"}}, \"scene\": {\"xaxis\": {\"backgroundcolor\": \"#E5ECF6\", \"gridcolor\": \"white\", \"gridwidth\": 2, \"linecolor\": \"white\", \"showbackground\": true, \"ticks\": \"\", \"zerolinecolor\": \"white\"}, \"yaxis\": {\"backgroundcolor\": \"#E5ECF6\", \"gridcolor\": \"white\", \"gridwidth\": 2, \"linecolor\": \"white\", \"showbackground\": true, \"ticks\": \"\", \"zerolinecolor\": \"white\"}, \"zaxis\": {\"backgroundcolor\": \"#E5ECF6\", \"gridcolor\": \"white\", \"gridwidth\": 2, \"linecolor\": \"white\", \"showbackground\": true, \"ticks\": \"\", \"zerolinecolor\": \"white\"}}, \"shapedefaults\": {\"line\": {\"color\": \"#2a3f5f\"}}, \"ternary\": {\"aaxis\": {\"gridcolor\": \"white\", \"linecolor\": \"white\", \"ticks\": \"\"}, \"baxis\": {\"gridcolor\": \"white\", \"linecolor\": \"white\", \"ticks\": \"\"}, \"bgcolor\": \"#E5ECF6\", \"caxis\": {\"gridcolor\": \"white\", \"linecolor\": \"white\", \"ticks\": \"\"}}, \"title\": {\"x\": 0.05}, \"xaxis\": {\"automargin\": true, \"gridcolor\": \"white\", \"linecolor\": \"white\", \"ticks\": \"\", \"title\": {\"standoff\": 15}, \"zerolinecolor\": \"white\", \"zerolinewidth\": 2}, \"yaxis\": {\"automargin\": true, \"gridcolor\": \"white\", \"linecolor\": \"white\", \"ticks\": \"\", \"title\": {\"standoff\": 15}, \"zerolinecolor\": \"white\", \"zerolinewidth\": 2}}}, \"title\": {\"text\": \"Most Popular Cast\"}, \"xaxis\": {\"title\": {\"text\": \"Genres\"}}, \"yaxis\": {\"title\": {\"text\": \"Count\"}}},                        {\"responsive\": true}                    ).then(function(){\n",
       "                            \n",
       "var gd = document.getElementById('39294f2b-58ab-4060-acce-937f6cf6fd12');\n",
       "var x = new MutationObserver(function (mutations, observer) {{\n",
       "        var display = window.getComputedStyle(gd).display;\n",
       "        if (!display || display === 'none') {{\n",
       "            console.log([gd, 'removed!']);\n",
       "            Plotly.purge(gd);\n",
       "            observer.disconnect();\n",
       "        }}\n",
       "}});\n",
       "\n",
       "// Listen for the removal of the full notebook cells\n",
       "var notebookContainer = gd.closest('#notebook-container');\n",
       "if (notebookContainer) {{\n",
       "    x.observe(notebookContainer, {childList: true});\n",
       "}}\n",
       "\n",
       "// Listen for the clearing of the current output cell\n",
       "var outputEl = gd.closest('.output');\n",
       "if (outputEl) {{\n",
       "    x.observe(outputEl, {childList: true});\n",
       "}}\n",
       "\n",
       "                        })                };                });            </script>        </div>"
      ]
     },
     "metadata": {},
     "output_type": "display_data"
    }
   ],
   "source": [
    "x=df2['Genres'].value_counts()\n",
    "data=go.Bar(\n",
    "    x=list(x.index),\n",
    "    y=list(x.values),\n",
    "    name='Most Popular Genres')\n",
    "\n",
    "\n",
    "\n",
    "layout=go.Layout(\n",
    "title='Most Popular Cast',\n",
    "xaxis=dict(title='Genres'),\n",
    "yaxis=dict(title='Count'),\n",
    "hovermode='closest'\n",
    "\n",
    ")\n",
    "figure=go.Figure(data=data,layout=layout)\n",
    "iplot(figure)"
   ]
  },
  {
   "cell_type": "markdown",
   "metadata": {},
   "source": [
    "## Genres with best average rating "
   ]
  },
  {
   "cell_type": "code",
   "execution_count": 71,
   "metadata": {},
   "outputs": [
    {
     "name": "stderr",
     "output_type": "stream",
     "text": [
      "<ipython-input-71-c238723f025c>:2: SettingWithCopyWarning:\n",
      "\n",
      "\n",
      "A value is trying to be set on a copy of a slice from a DataFrame.\n",
      "Try using .loc[row_indexer,col_indexer] = value instead\n",
      "\n",
      "See the caveats in the documentation: https://pandas.pydata.org/pandas-docs/stable/user_guide/indexing.html#returning-a-view-versus-a-copy\n",
      "\n"
     ]
    },
    {
     "data": {
      "application/vnd.plotly.v1+json": {
       "config": {
        "linkText": "Export to plot.ly",
        "plotlyServerURL": "https://plot.ly",
        "showLink": false
       },
       "data": [
        {
         "name": "Best Average Rating",
         "type": "bar",
         "x": [
          "Sci-Fi",
          "Fantasy",
          "Mystery",
          "Adventure",
          "Action",
          "Animation",
          "Family",
          "Thriller",
          "Comedy",
          "Documentary",
          "History",
          "Biography",
          "Drama",
          "Romance"
         ],
         "y": [
          8.166666666666666,
          8.1,
          8.05,
          8,
          8,
          7.866666666666667,
          7.75,
          7.5,
          7.4,
          7.383333333333334,
          7.2,
          7.2,
          7.040000000000001,
          5.949999999999999
         ]
        }
       ],
       "layout": {
        "hovermode": "closest",
        "template": {
         "data": {
          "bar": [
           {
            "error_x": {
             "color": "#2a3f5f"
            },
            "error_y": {
             "color": "#2a3f5f"
            },
            "marker": {
             "line": {
              "color": "#E5ECF6",
              "width": 0.5
             }
            },
            "type": "bar"
           }
          ],
          "barpolar": [
           {
            "marker": {
             "line": {
              "color": "#E5ECF6",
              "width": 0.5
             }
            },
            "type": "barpolar"
           }
          ],
          "carpet": [
           {
            "aaxis": {
             "endlinecolor": "#2a3f5f",
             "gridcolor": "white",
             "linecolor": "white",
             "minorgridcolor": "white",
             "startlinecolor": "#2a3f5f"
            },
            "baxis": {
             "endlinecolor": "#2a3f5f",
             "gridcolor": "white",
             "linecolor": "white",
             "minorgridcolor": "white",
             "startlinecolor": "#2a3f5f"
            },
            "type": "carpet"
           }
          ],
          "choropleth": [
           {
            "colorbar": {
             "outlinewidth": 0,
             "ticks": ""
            },
            "type": "choropleth"
           }
          ],
          "contour": [
           {
            "colorbar": {
             "outlinewidth": 0,
             "ticks": ""
            },
            "colorscale": [
             [
              0,
              "#0d0887"
             ],
             [
              0.1111111111111111,
              "#46039f"
             ],
             [
              0.2222222222222222,
              "#7201a8"
             ],
             [
              0.3333333333333333,
              "#9c179e"
             ],
             [
              0.4444444444444444,
              "#bd3786"
             ],
             [
              0.5555555555555556,
              "#d8576b"
             ],
             [
              0.6666666666666666,
              "#ed7953"
             ],
             [
              0.7777777777777778,
              "#fb9f3a"
             ],
             [
              0.8888888888888888,
              "#fdca26"
             ],
             [
              1,
              "#f0f921"
             ]
            ],
            "type": "contour"
           }
          ],
          "contourcarpet": [
           {
            "colorbar": {
             "outlinewidth": 0,
             "ticks": ""
            },
            "type": "contourcarpet"
           }
          ],
          "heatmap": [
           {
            "colorbar": {
             "outlinewidth": 0,
             "ticks": ""
            },
            "colorscale": [
             [
              0,
              "#0d0887"
             ],
             [
              0.1111111111111111,
              "#46039f"
             ],
             [
              0.2222222222222222,
              "#7201a8"
             ],
             [
              0.3333333333333333,
              "#9c179e"
             ],
             [
              0.4444444444444444,
              "#bd3786"
             ],
             [
              0.5555555555555556,
              "#d8576b"
             ],
             [
              0.6666666666666666,
              "#ed7953"
             ],
             [
              0.7777777777777778,
              "#fb9f3a"
             ],
             [
              0.8888888888888888,
              "#fdca26"
             ],
             [
              1,
              "#f0f921"
             ]
            ],
            "type": "heatmap"
           }
          ],
          "heatmapgl": [
           {
            "colorbar": {
             "outlinewidth": 0,
             "ticks": ""
            },
            "colorscale": [
             [
              0,
              "#0d0887"
             ],
             [
              0.1111111111111111,
              "#46039f"
             ],
             [
              0.2222222222222222,
              "#7201a8"
             ],
             [
              0.3333333333333333,
              "#9c179e"
             ],
             [
              0.4444444444444444,
              "#bd3786"
             ],
             [
              0.5555555555555556,
              "#d8576b"
             ],
             [
              0.6666666666666666,
              "#ed7953"
             ],
             [
              0.7777777777777778,
              "#fb9f3a"
             ],
             [
              0.8888888888888888,
              "#fdca26"
             ],
             [
              1,
              "#f0f921"
             ]
            ],
            "type": "heatmapgl"
           }
          ],
          "histogram": [
           {
            "marker": {
             "colorbar": {
              "outlinewidth": 0,
              "ticks": ""
             }
            },
            "type": "histogram"
           }
          ],
          "histogram2d": [
           {
            "colorbar": {
             "outlinewidth": 0,
             "ticks": ""
            },
            "colorscale": [
             [
              0,
              "#0d0887"
             ],
             [
              0.1111111111111111,
              "#46039f"
             ],
             [
              0.2222222222222222,
              "#7201a8"
             ],
             [
              0.3333333333333333,
              "#9c179e"
             ],
             [
              0.4444444444444444,
              "#bd3786"
             ],
             [
              0.5555555555555556,
              "#d8576b"
             ],
             [
              0.6666666666666666,
              "#ed7953"
             ],
             [
              0.7777777777777778,
              "#fb9f3a"
             ],
             [
              0.8888888888888888,
              "#fdca26"
             ],
             [
              1,
              "#f0f921"
             ]
            ],
            "type": "histogram2d"
           }
          ],
          "histogram2dcontour": [
           {
            "colorbar": {
             "outlinewidth": 0,
             "ticks": ""
            },
            "colorscale": [
             [
              0,
              "#0d0887"
             ],
             [
              0.1111111111111111,
              "#46039f"
             ],
             [
              0.2222222222222222,
              "#7201a8"
             ],
             [
              0.3333333333333333,
              "#9c179e"
             ],
             [
              0.4444444444444444,
              "#bd3786"
             ],
             [
              0.5555555555555556,
              "#d8576b"
             ],
             [
              0.6666666666666666,
              "#ed7953"
             ],
             [
              0.7777777777777778,
              "#fb9f3a"
             ],
             [
              0.8888888888888888,
              "#fdca26"
             ],
             [
              1,
              "#f0f921"
             ]
            ],
            "type": "histogram2dcontour"
           }
          ],
          "mesh3d": [
           {
            "colorbar": {
             "outlinewidth": 0,
             "ticks": ""
            },
            "type": "mesh3d"
           }
          ],
          "parcoords": [
           {
            "line": {
             "colorbar": {
              "outlinewidth": 0,
              "ticks": ""
             }
            },
            "type": "parcoords"
           }
          ],
          "pie": [
           {
            "automargin": true,
            "type": "pie"
           }
          ],
          "scatter": [
           {
            "marker": {
             "colorbar": {
              "outlinewidth": 0,
              "ticks": ""
             }
            },
            "type": "scatter"
           }
          ],
          "scatter3d": [
           {
            "line": {
             "colorbar": {
              "outlinewidth": 0,
              "ticks": ""
             }
            },
            "marker": {
             "colorbar": {
              "outlinewidth": 0,
              "ticks": ""
             }
            },
            "type": "scatter3d"
           }
          ],
          "scattercarpet": [
           {
            "marker": {
             "colorbar": {
              "outlinewidth": 0,
              "ticks": ""
             }
            },
            "type": "scattercarpet"
           }
          ],
          "scattergeo": [
           {
            "marker": {
             "colorbar": {
              "outlinewidth": 0,
              "ticks": ""
             }
            },
            "type": "scattergeo"
           }
          ],
          "scattergl": [
           {
            "marker": {
             "colorbar": {
              "outlinewidth": 0,
              "ticks": ""
             }
            },
            "type": "scattergl"
           }
          ],
          "scattermapbox": [
           {
            "marker": {
             "colorbar": {
              "outlinewidth": 0,
              "ticks": ""
             }
            },
            "type": "scattermapbox"
           }
          ],
          "scatterpolar": [
           {
            "marker": {
             "colorbar": {
              "outlinewidth": 0,
              "ticks": ""
             }
            },
            "type": "scatterpolar"
           }
          ],
          "scatterpolargl": [
           {
            "marker": {
             "colorbar": {
              "outlinewidth": 0,
              "ticks": ""
             }
            },
            "type": "scatterpolargl"
           }
          ],
          "scatterternary": [
           {
            "marker": {
             "colorbar": {
              "outlinewidth": 0,
              "ticks": ""
             }
            },
            "type": "scatterternary"
           }
          ],
          "surface": [
           {
            "colorbar": {
             "outlinewidth": 0,
             "ticks": ""
            },
            "colorscale": [
             [
              0,
              "#0d0887"
             ],
             [
              0.1111111111111111,
              "#46039f"
             ],
             [
              0.2222222222222222,
              "#7201a8"
             ],
             [
              0.3333333333333333,
              "#9c179e"
             ],
             [
              0.4444444444444444,
              "#bd3786"
             ],
             [
              0.5555555555555556,
              "#d8576b"
             ],
             [
              0.6666666666666666,
              "#ed7953"
             ],
             [
              0.7777777777777778,
              "#fb9f3a"
             ],
             [
              0.8888888888888888,
              "#fdca26"
             ],
             [
              1,
              "#f0f921"
             ]
            ],
            "type": "surface"
           }
          ],
          "table": [
           {
            "cells": {
             "fill": {
              "color": "#EBF0F8"
             },
             "line": {
              "color": "white"
             }
            },
            "header": {
             "fill": {
              "color": "#C8D4E3"
             },
             "line": {
              "color": "white"
             }
            },
            "type": "table"
           }
          ]
         },
         "layout": {
          "annotationdefaults": {
           "arrowcolor": "#2a3f5f",
           "arrowhead": 0,
           "arrowwidth": 1
          },
          "coloraxis": {
           "colorbar": {
            "outlinewidth": 0,
            "ticks": ""
           }
          },
          "colorscale": {
           "diverging": [
            [
             0,
             "#8e0152"
            ],
            [
             0.1,
             "#c51b7d"
            ],
            [
             0.2,
             "#de77ae"
            ],
            [
             0.3,
             "#f1b6da"
            ],
            [
             0.4,
             "#fde0ef"
            ],
            [
             0.5,
             "#f7f7f7"
            ],
            [
             0.6,
             "#e6f5d0"
            ],
            [
             0.7,
             "#b8e186"
            ],
            [
             0.8,
             "#7fbc41"
            ],
            [
             0.9,
             "#4d9221"
            ],
            [
             1,
             "#276419"
            ]
           ],
           "sequential": [
            [
             0,
             "#0d0887"
            ],
            [
             0.1111111111111111,
             "#46039f"
            ],
            [
             0.2222222222222222,
             "#7201a8"
            ],
            [
             0.3333333333333333,
             "#9c179e"
            ],
            [
             0.4444444444444444,
             "#bd3786"
            ],
            [
             0.5555555555555556,
             "#d8576b"
            ],
            [
             0.6666666666666666,
             "#ed7953"
            ],
            [
             0.7777777777777778,
             "#fb9f3a"
            ],
            [
             0.8888888888888888,
             "#fdca26"
            ],
            [
             1,
             "#f0f921"
            ]
           ],
           "sequentialminus": [
            [
             0,
             "#0d0887"
            ],
            [
             0.1111111111111111,
             "#46039f"
            ],
            [
             0.2222222222222222,
             "#7201a8"
            ],
            [
             0.3333333333333333,
             "#9c179e"
            ],
            [
             0.4444444444444444,
             "#bd3786"
            ],
            [
             0.5555555555555556,
             "#d8576b"
            ],
            [
             0.6666666666666666,
             "#ed7953"
            ],
            [
             0.7777777777777778,
             "#fb9f3a"
            ],
            [
             0.8888888888888888,
             "#fdca26"
            ],
            [
             1,
             "#f0f921"
            ]
           ]
          },
          "colorway": [
           "#636efa",
           "#EF553B",
           "#00cc96",
           "#ab63fa",
           "#FFA15A",
           "#19d3f3",
           "#FF6692",
           "#B6E880",
           "#FF97FF",
           "#FECB52"
          ],
          "font": {
           "color": "#2a3f5f"
          },
          "geo": {
           "bgcolor": "white",
           "lakecolor": "white",
           "landcolor": "#E5ECF6",
           "showlakes": true,
           "showland": true,
           "subunitcolor": "white"
          },
          "hoverlabel": {
           "align": "left"
          },
          "hovermode": "closest",
          "mapbox": {
           "style": "light"
          },
          "paper_bgcolor": "white",
          "plot_bgcolor": "#E5ECF6",
          "polar": {
           "angularaxis": {
            "gridcolor": "white",
            "linecolor": "white",
            "ticks": ""
           },
           "bgcolor": "#E5ECF6",
           "radialaxis": {
            "gridcolor": "white",
            "linecolor": "white",
            "ticks": ""
           }
          },
          "scene": {
           "xaxis": {
            "backgroundcolor": "#E5ECF6",
            "gridcolor": "white",
            "gridwidth": 2,
            "linecolor": "white",
            "showbackground": true,
            "ticks": "",
            "zerolinecolor": "white"
           },
           "yaxis": {
            "backgroundcolor": "#E5ECF6",
            "gridcolor": "white",
            "gridwidth": 2,
            "linecolor": "white",
            "showbackground": true,
            "ticks": "",
            "zerolinecolor": "white"
           },
           "zaxis": {
            "backgroundcolor": "#E5ECF6",
            "gridcolor": "white",
            "gridwidth": 2,
            "linecolor": "white",
            "showbackground": true,
            "ticks": "",
            "zerolinecolor": "white"
           }
          },
          "shapedefaults": {
           "line": {
            "color": "#2a3f5f"
           }
          },
          "ternary": {
           "aaxis": {
            "gridcolor": "white",
            "linecolor": "white",
            "ticks": ""
           },
           "baxis": {
            "gridcolor": "white",
            "linecolor": "white",
            "ticks": ""
           },
           "bgcolor": "#E5ECF6",
           "caxis": {
            "gridcolor": "white",
            "linecolor": "white",
            "ticks": ""
           }
          },
          "title": {
           "x": 0.05
          },
          "xaxis": {
           "automargin": true,
           "gridcolor": "white",
           "linecolor": "white",
           "ticks": "",
           "title": {
            "standoff": 15
           },
           "zerolinecolor": "white",
           "zerolinewidth": 2
          },
          "yaxis": {
           "automargin": true,
           "gridcolor": "white",
           "linecolor": "white",
           "ticks": "",
           "title": {
            "standoff": 15
           },
           "zerolinecolor": "white",
           "zerolinewidth": 2
          }
         }
        },
        "title": {
         "text": "Best Average Rating"
        },
        "xaxis": {
         "title": {
          "text": "Genres"
         }
        },
        "yaxis": {
         "title": {
          "text": "Average Rating"
         }
        }
       }
      },
      "text/html": [
       "<div>                            <div id=\"4cb48a20-2ac5-4bbd-858f-73f5432e7e7a\" class=\"plotly-graph-div\" style=\"height:525px; width:100%;\"></div>            <script type=\"text/javascript\">                require([\"plotly\"], function(Plotly) {                    window.PLOTLYENV=window.PLOTLYENV || {};                                    if (document.getElementById(\"4cb48a20-2ac5-4bbd-858f-73f5432e7e7a\")) {                    Plotly.newPlot(                        \"4cb48a20-2ac5-4bbd-858f-73f5432e7e7a\",                        [{\"name\": \"Best Average Rating\", \"type\": \"bar\", \"x\": [\"Sci-Fi\", \"Fantasy\", \"Mystery\", \"Adventure\", \"Action\", \"Animation\", \"Family\", \"Thriller\", \"Comedy\", \"Documentary\", \"History\", \"Biography\", \"Drama\", \"Romance\"], \"y\": [8.166666666666666, 8.1, 8.05, 8.0, 8.0, 7.866666666666667, 7.75, 7.5, 7.4, 7.383333333333334, 7.2, 7.2, 7.040000000000001, 5.949999999999999]}],                        {\"hovermode\": \"closest\", \"template\": {\"data\": {\"bar\": [{\"error_x\": {\"color\": \"#2a3f5f\"}, \"error_y\": {\"color\": \"#2a3f5f\"}, \"marker\": {\"line\": {\"color\": \"#E5ECF6\", \"width\": 0.5}}, \"type\": \"bar\"}], \"barpolar\": [{\"marker\": {\"line\": {\"color\": \"#E5ECF6\", \"width\": 0.5}}, \"type\": \"barpolar\"}], \"carpet\": [{\"aaxis\": {\"endlinecolor\": \"#2a3f5f\", \"gridcolor\": \"white\", \"linecolor\": \"white\", \"minorgridcolor\": \"white\", \"startlinecolor\": \"#2a3f5f\"}, \"baxis\": {\"endlinecolor\": \"#2a3f5f\", \"gridcolor\": \"white\", \"linecolor\": \"white\", \"minorgridcolor\": \"white\", \"startlinecolor\": \"#2a3f5f\"}, \"type\": \"carpet\"}], \"choropleth\": [{\"colorbar\": {\"outlinewidth\": 0, \"ticks\": \"\"}, \"type\": \"choropleth\"}], \"contour\": [{\"colorbar\": {\"outlinewidth\": 0, \"ticks\": \"\"}, \"colorscale\": [[0.0, \"#0d0887\"], [0.1111111111111111, \"#46039f\"], [0.2222222222222222, \"#7201a8\"], [0.3333333333333333, \"#9c179e\"], [0.4444444444444444, \"#bd3786\"], [0.5555555555555556, \"#d8576b\"], [0.6666666666666666, \"#ed7953\"], [0.7777777777777778, \"#fb9f3a\"], [0.8888888888888888, \"#fdca26\"], [1.0, \"#f0f921\"]], \"type\": \"contour\"}], \"contourcarpet\": [{\"colorbar\": {\"outlinewidth\": 0, \"ticks\": \"\"}, \"type\": \"contourcarpet\"}], \"heatmap\": [{\"colorbar\": {\"outlinewidth\": 0, \"ticks\": \"\"}, \"colorscale\": [[0.0, \"#0d0887\"], [0.1111111111111111, \"#46039f\"], [0.2222222222222222, \"#7201a8\"], [0.3333333333333333, \"#9c179e\"], [0.4444444444444444, \"#bd3786\"], [0.5555555555555556, \"#d8576b\"], [0.6666666666666666, \"#ed7953\"], [0.7777777777777778, \"#fb9f3a\"], [0.8888888888888888, \"#fdca26\"], [1.0, \"#f0f921\"]], \"type\": \"heatmap\"}], \"heatmapgl\": [{\"colorbar\": {\"outlinewidth\": 0, \"ticks\": \"\"}, \"colorscale\": [[0.0, \"#0d0887\"], [0.1111111111111111, \"#46039f\"], [0.2222222222222222, \"#7201a8\"], [0.3333333333333333, \"#9c179e\"], [0.4444444444444444, \"#bd3786\"], [0.5555555555555556, \"#d8576b\"], [0.6666666666666666, \"#ed7953\"], [0.7777777777777778, \"#fb9f3a\"], [0.8888888888888888, \"#fdca26\"], [1.0, \"#f0f921\"]], \"type\": \"heatmapgl\"}], \"histogram\": [{\"marker\": {\"colorbar\": {\"outlinewidth\": 0, \"ticks\": \"\"}}, \"type\": \"histogram\"}], \"histogram2d\": [{\"colorbar\": {\"outlinewidth\": 0, \"ticks\": \"\"}, \"colorscale\": [[0.0, \"#0d0887\"], [0.1111111111111111, \"#46039f\"], [0.2222222222222222, \"#7201a8\"], [0.3333333333333333, \"#9c179e\"], [0.4444444444444444, \"#bd3786\"], [0.5555555555555556, \"#d8576b\"], [0.6666666666666666, \"#ed7953\"], [0.7777777777777778, \"#fb9f3a\"], [0.8888888888888888, \"#fdca26\"], [1.0, \"#f0f921\"]], \"type\": \"histogram2d\"}], \"histogram2dcontour\": [{\"colorbar\": {\"outlinewidth\": 0, \"ticks\": \"\"}, \"colorscale\": [[0.0, \"#0d0887\"], [0.1111111111111111, \"#46039f\"], [0.2222222222222222, \"#7201a8\"], [0.3333333333333333, \"#9c179e\"], [0.4444444444444444, \"#bd3786\"], [0.5555555555555556, \"#d8576b\"], [0.6666666666666666, \"#ed7953\"], [0.7777777777777778, \"#fb9f3a\"], [0.8888888888888888, \"#fdca26\"], [1.0, \"#f0f921\"]], \"type\": \"histogram2dcontour\"}], \"mesh3d\": [{\"colorbar\": {\"outlinewidth\": 0, \"ticks\": \"\"}, \"type\": \"mesh3d\"}], \"parcoords\": [{\"line\": {\"colorbar\": {\"outlinewidth\": 0, \"ticks\": \"\"}}, \"type\": \"parcoords\"}], \"pie\": [{\"automargin\": true, \"type\": \"pie\"}], \"scatter\": [{\"marker\": {\"colorbar\": {\"outlinewidth\": 0, \"ticks\": \"\"}}, \"type\": \"scatter\"}], \"scatter3d\": [{\"line\": {\"colorbar\": {\"outlinewidth\": 0, \"ticks\": \"\"}}, \"marker\": {\"colorbar\": {\"outlinewidth\": 0, \"ticks\": \"\"}}, \"type\": \"scatter3d\"}], \"scattercarpet\": [{\"marker\": {\"colorbar\": {\"outlinewidth\": 0, \"ticks\": \"\"}}, \"type\": \"scattercarpet\"}], \"scattergeo\": [{\"marker\": {\"colorbar\": {\"outlinewidth\": 0, \"ticks\": \"\"}}, \"type\": \"scattergeo\"}], \"scattergl\": [{\"marker\": {\"colorbar\": {\"outlinewidth\": 0, \"ticks\": \"\"}}, \"type\": \"scattergl\"}], \"scattermapbox\": [{\"marker\": {\"colorbar\": {\"outlinewidth\": 0, \"ticks\": \"\"}}, \"type\": \"scattermapbox\"}], \"scatterpolar\": [{\"marker\": {\"colorbar\": {\"outlinewidth\": 0, \"ticks\": \"\"}}, \"type\": \"scatterpolar\"}], \"scatterpolargl\": [{\"marker\": {\"colorbar\": {\"outlinewidth\": 0, \"ticks\": \"\"}}, \"type\": \"scatterpolargl\"}], \"scatterternary\": [{\"marker\": {\"colorbar\": {\"outlinewidth\": 0, \"ticks\": \"\"}}, \"type\": \"scatterternary\"}], \"surface\": [{\"colorbar\": {\"outlinewidth\": 0, \"ticks\": \"\"}, \"colorscale\": [[0.0, \"#0d0887\"], [0.1111111111111111, \"#46039f\"], [0.2222222222222222, \"#7201a8\"], [0.3333333333333333, \"#9c179e\"], [0.4444444444444444, \"#bd3786\"], [0.5555555555555556, \"#d8576b\"], [0.6666666666666666, \"#ed7953\"], [0.7777777777777778, \"#fb9f3a\"], [0.8888888888888888, \"#fdca26\"], [1.0, \"#f0f921\"]], \"type\": \"surface\"}], \"table\": [{\"cells\": {\"fill\": {\"color\": \"#EBF0F8\"}, \"line\": {\"color\": \"white\"}}, \"header\": {\"fill\": {\"color\": \"#C8D4E3\"}, \"line\": {\"color\": \"white\"}}, \"type\": \"table\"}]}, \"layout\": {\"annotationdefaults\": {\"arrowcolor\": \"#2a3f5f\", \"arrowhead\": 0, \"arrowwidth\": 1}, \"coloraxis\": {\"colorbar\": {\"outlinewidth\": 0, \"ticks\": \"\"}}, \"colorscale\": {\"diverging\": [[0, \"#8e0152\"], [0.1, \"#c51b7d\"], [0.2, \"#de77ae\"], [0.3, \"#f1b6da\"], [0.4, \"#fde0ef\"], [0.5, \"#f7f7f7\"], [0.6, \"#e6f5d0\"], [0.7, \"#b8e186\"], [0.8, \"#7fbc41\"], [0.9, \"#4d9221\"], [1, \"#276419\"]], \"sequential\": [[0.0, \"#0d0887\"], [0.1111111111111111, \"#46039f\"], [0.2222222222222222, \"#7201a8\"], [0.3333333333333333, \"#9c179e\"], [0.4444444444444444, \"#bd3786\"], [0.5555555555555556, \"#d8576b\"], [0.6666666666666666, \"#ed7953\"], [0.7777777777777778, \"#fb9f3a\"], [0.8888888888888888, \"#fdca26\"], [1.0, \"#f0f921\"]], \"sequentialminus\": [[0.0, \"#0d0887\"], [0.1111111111111111, \"#46039f\"], [0.2222222222222222, \"#7201a8\"], [0.3333333333333333, \"#9c179e\"], [0.4444444444444444, \"#bd3786\"], [0.5555555555555556, \"#d8576b\"], [0.6666666666666666, \"#ed7953\"], [0.7777777777777778, \"#fb9f3a\"], [0.8888888888888888, \"#fdca26\"], [1.0, \"#f0f921\"]]}, \"colorway\": [\"#636efa\", \"#EF553B\", \"#00cc96\", \"#ab63fa\", \"#FFA15A\", \"#19d3f3\", \"#FF6692\", \"#B6E880\", \"#FF97FF\", \"#FECB52\"], \"font\": {\"color\": \"#2a3f5f\"}, \"geo\": {\"bgcolor\": \"white\", \"lakecolor\": \"white\", \"landcolor\": \"#E5ECF6\", \"showlakes\": true, \"showland\": true, \"subunitcolor\": \"white\"}, \"hoverlabel\": {\"align\": \"left\"}, \"hovermode\": \"closest\", \"mapbox\": {\"style\": \"light\"}, \"paper_bgcolor\": \"white\", \"plot_bgcolor\": \"#E5ECF6\", \"polar\": {\"angularaxis\": {\"gridcolor\": \"white\", \"linecolor\": \"white\", \"ticks\": \"\"}, \"bgcolor\": \"#E5ECF6\", \"radialaxis\": {\"gridcolor\": \"white\", \"linecolor\": \"white\", \"ticks\": \"\"}}, \"scene\": {\"xaxis\": {\"backgroundcolor\": \"#E5ECF6\", \"gridcolor\": \"white\", \"gridwidth\": 2, \"linecolor\": \"white\", \"showbackground\": true, \"ticks\": \"\", \"zerolinecolor\": \"white\"}, \"yaxis\": {\"backgroundcolor\": \"#E5ECF6\", \"gridcolor\": \"white\", \"gridwidth\": 2, \"linecolor\": \"white\", \"showbackground\": true, \"ticks\": \"\", \"zerolinecolor\": \"white\"}, \"zaxis\": {\"backgroundcolor\": \"#E5ECF6\", \"gridcolor\": \"white\", \"gridwidth\": 2, \"linecolor\": \"white\", \"showbackground\": true, \"ticks\": \"\", \"zerolinecolor\": \"white\"}}, \"shapedefaults\": {\"line\": {\"color\": \"#2a3f5f\"}}, \"ternary\": {\"aaxis\": {\"gridcolor\": \"white\", \"linecolor\": \"white\", \"ticks\": \"\"}, \"baxis\": {\"gridcolor\": \"white\", \"linecolor\": \"white\", \"ticks\": \"\"}, \"bgcolor\": \"#E5ECF6\", \"caxis\": {\"gridcolor\": \"white\", \"linecolor\": \"white\", \"ticks\": \"\"}}, \"title\": {\"x\": 0.05}, \"xaxis\": {\"automargin\": true, \"gridcolor\": \"white\", \"linecolor\": \"white\", \"ticks\": \"\", \"title\": {\"standoff\": 15}, \"zerolinecolor\": \"white\", \"zerolinewidth\": 2}, \"yaxis\": {\"automargin\": true, \"gridcolor\": \"white\", \"linecolor\": \"white\", \"ticks\": \"\", \"title\": {\"standoff\": 15}, \"zerolinecolor\": \"white\", \"zerolinewidth\": 2}}}, \"title\": {\"text\": \"Best Average Rating\"}, \"xaxis\": {\"title\": {\"text\": \"Genres\"}}, \"yaxis\": {\"title\": {\"text\": \"Average Rating\"}}},                        {\"responsive\": true}                    ).then(function(){\n",
       "                            \n",
       "var gd = document.getElementById('4cb48a20-2ac5-4bbd-858f-73f5432e7e7a');\n",
       "var x = new MutationObserver(function (mutations, observer) {{\n",
       "        var display = window.getComputedStyle(gd).display;\n",
       "        if (!display || display === 'none') {{\n",
       "            console.log([gd, 'removed!']);\n",
       "            Plotly.purge(gd);\n",
       "            observer.disconnect();\n",
       "        }}\n",
       "}});\n",
       "\n",
       "// Listen for the removal of the full notebook cells\n",
       "var notebookContainer = gd.closest('#notebook-container');\n",
       "if (notebookContainer) {{\n",
       "    x.observe(notebookContainer, {childList: true});\n",
       "}}\n",
       "\n",
       "// Listen for the clearing of the current output cell\n",
       "var outputEl = gd.closest('.output');\n",
       "if (outputEl) {{\n",
       "    x.observe(outputEl, {childList: true});\n",
       "}}\n",
       "\n",
       "                        })                };                });            </script>        </div>"
      ]
     },
     "metadata": {},
     "output_type": "display_data"
    }
   ],
   "source": [
    "df3=df2[df2['Ratings']!='Unknown']\n",
    "df3['Ratings']=df3['Ratings'].astype(float)\n",
    "x=df3.groupby('Genres')['Ratings'].mean().sort_values(ascending=False)\n",
    "\n",
    "data=go.Bar(\n",
    "    x=list(x.index),\n",
    "    y=list(x.values),\n",
    "    name='Best Average Rating')\n",
    "\n",
    "\n",
    "\n",
    "layout=go.Layout(\n",
    "title='Best Average Rating',\n",
    "xaxis=dict(title='Genres'),\n",
    "yaxis=dict(title='Average Rating'),\n",
    "hovermode='closest'\n",
    "\n",
    ")\n",
    "figure=go.Figure(data=data,layout=layout)\n",
    "iplot(figure)"
   ]
  },
  {
   "cell_type": "markdown",
   "metadata": {},
   "source": [
    "## Genres with most reviews "
   ]
  },
  {
   "cell_type": "code",
   "execution_count": 72,
   "metadata": {},
   "outputs": [
    {
     "data": {
      "application/vnd.plotly.v1+json": {
       "config": {
        "linkText": "Export to plot.ly",
        "plotlyServerURL": "https://plot.ly",
        "showLink": false
       },
       "data": [
        {
         "mode": "markers+lines",
         "type": "scatter",
         "x": [
          "Thriller",
          "Sci-Fi",
          "Drama",
          "Mystery",
          "Comedy",
          "Animation",
          "Adventure",
          "Action",
          "Fantasy",
          "Family",
          "Documentary",
          "Romance",
          "History",
          "Biography"
         ],
         "y": [
          1733,
          1614,
          1603,
          1504,
          241,
          122,
          116,
          116,
          90,
          32,
          32,
          9,
          8,
          8
         ]
        }
       ],
       "layout": {
        "hovermode": "closest",
        "template": {
         "data": {
          "bar": [
           {
            "error_x": {
             "color": "#2a3f5f"
            },
            "error_y": {
             "color": "#2a3f5f"
            },
            "marker": {
             "line": {
              "color": "#E5ECF6",
              "width": 0.5
             }
            },
            "type": "bar"
           }
          ],
          "barpolar": [
           {
            "marker": {
             "line": {
              "color": "#E5ECF6",
              "width": 0.5
             }
            },
            "type": "barpolar"
           }
          ],
          "carpet": [
           {
            "aaxis": {
             "endlinecolor": "#2a3f5f",
             "gridcolor": "white",
             "linecolor": "white",
             "minorgridcolor": "white",
             "startlinecolor": "#2a3f5f"
            },
            "baxis": {
             "endlinecolor": "#2a3f5f",
             "gridcolor": "white",
             "linecolor": "white",
             "minorgridcolor": "white",
             "startlinecolor": "#2a3f5f"
            },
            "type": "carpet"
           }
          ],
          "choropleth": [
           {
            "colorbar": {
             "outlinewidth": 0,
             "ticks": ""
            },
            "type": "choropleth"
           }
          ],
          "contour": [
           {
            "colorbar": {
             "outlinewidth": 0,
             "ticks": ""
            },
            "colorscale": [
             [
              0,
              "#0d0887"
             ],
             [
              0.1111111111111111,
              "#46039f"
             ],
             [
              0.2222222222222222,
              "#7201a8"
             ],
             [
              0.3333333333333333,
              "#9c179e"
             ],
             [
              0.4444444444444444,
              "#bd3786"
             ],
             [
              0.5555555555555556,
              "#d8576b"
             ],
             [
              0.6666666666666666,
              "#ed7953"
             ],
             [
              0.7777777777777778,
              "#fb9f3a"
             ],
             [
              0.8888888888888888,
              "#fdca26"
             ],
             [
              1,
              "#f0f921"
             ]
            ],
            "type": "contour"
           }
          ],
          "contourcarpet": [
           {
            "colorbar": {
             "outlinewidth": 0,
             "ticks": ""
            },
            "type": "contourcarpet"
           }
          ],
          "heatmap": [
           {
            "colorbar": {
             "outlinewidth": 0,
             "ticks": ""
            },
            "colorscale": [
             [
              0,
              "#0d0887"
             ],
             [
              0.1111111111111111,
              "#46039f"
             ],
             [
              0.2222222222222222,
              "#7201a8"
             ],
             [
              0.3333333333333333,
              "#9c179e"
             ],
             [
              0.4444444444444444,
              "#bd3786"
             ],
             [
              0.5555555555555556,
              "#d8576b"
             ],
             [
              0.6666666666666666,
              "#ed7953"
             ],
             [
              0.7777777777777778,
              "#fb9f3a"
             ],
             [
              0.8888888888888888,
              "#fdca26"
             ],
             [
              1,
              "#f0f921"
             ]
            ],
            "type": "heatmap"
           }
          ],
          "heatmapgl": [
           {
            "colorbar": {
             "outlinewidth": 0,
             "ticks": ""
            },
            "colorscale": [
             [
              0,
              "#0d0887"
             ],
             [
              0.1111111111111111,
              "#46039f"
             ],
             [
              0.2222222222222222,
              "#7201a8"
             ],
             [
              0.3333333333333333,
              "#9c179e"
             ],
             [
              0.4444444444444444,
              "#bd3786"
             ],
             [
              0.5555555555555556,
              "#d8576b"
             ],
             [
              0.6666666666666666,
              "#ed7953"
             ],
             [
              0.7777777777777778,
              "#fb9f3a"
             ],
             [
              0.8888888888888888,
              "#fdca26"
             ],
             [
              1,
              "#f0f921"
             ]
            ],
            "type": "heatmapgl"
           }
          ],
          "histogram": [
           {
            "marker": {
             "colorbar": {
              "outlinewidth": 0,
              "ticks": ""
             }
            },
            "type": "histogram"
           }
          ],
          "histogram2d": [
           {
            "colorbar": {
             "outlinewidth": 0,
             "ticks": ""
            },
            "colorscale": [
             [
              0,
              "#0d0887"
             ],
             [
              0.1111111111111111,
              "#46039f"
             ],
             [
              0.2222222222222222,
              "#7201a8"
             ],
             [
              0.3333333333333333,
              "#9c179e"
             ],
             [
              0.4444444444444444,
              "#bd3786"
             ],
             [
              0.5555555555555556,
              "#d8576b"
             ],
             [
              0.6666666666666666,
              "#ed7953"
             ],
             [
              0.7777777777777778,
              "#fb9f3a"
             ],
             [
              0.8888888888888888,
              "#fdca26"
             ],
             [
              1,
              "#f0f921"
             ]
            ],
            "type": "histogram2d"
           }
          ],
          "histogram2dcontour": [
           {
            "colorbar": {
             "outlinewidth": 0,
             "ticks": ""
            },
            "colorscale": [
             [
              0,
              "#0d0887"
             ],
             [
              0.1111111111111111,
              "#46039f"
             ],
             [
              0.2222222222222222,
              "#7201a8"
             ],
             [
              0.3333333333333333,
              "#9c179e"
             ],
             [
              0.4444444444444444,
              "#bd3786"
             ],
             [
              0.5555555555555556,
              "#d8576b"
             ],
             [
              0.6666666666666666,
              "#ed7953"
             ],
             [
              0.7777777777777778,
              "#fb9f3a"
             ],
             [
              0.8888888888888888,
              "#fdca26"
             ],
             [
              1,
              "#f0f921"
             ]
            ],
            "type": "histogram2dcontour"
           }
          ],
          "mesh3d": [
           {
            "colorbar": {
             "outlinewidth": 0,
             "ticks": ""
            },
            "type": "mesh3d"
           }
          ],
          "parcoords": [
           {
            "line": {
             "colorbar": {
              "outlinewidth": 0,
              "ticks": ""
             }
            },
            "type": "parcoords"
           }
          ],
          "pie": [
           {
            "automargin": true,
            "type": "pie"
           }
          ],
          "scatter": [
           {
            "marker": {
             "colorbar": {
              "outlinewidth": 0,
              "ticks": ""
             }
            },
            "type": "scatter"
           }
          ],
          "scatter3d": [
           {
            "line": {
             "colorbar": {
              "outlinewidth": 0,
              "ticks": ""
             }
            },
            "marker": {
             "colorbar": {
              "outlinewidth": 0,
              "ticks": ""
             }
            },
            "type": "scatter3d"
           }
          ],
          "scattercarpet": [
           {
            "marker": {
             "colorbar": {
              "outlinewidth": 0,
              "ticks": ""
             }
            },
            "type": "scattercarpet"
           }
          ],
          "scattergeo": [
           {
            "marker": {
             "colorbar": {
              "outlinewidth": 0,
              "ticks": ""
             }
            },
            "type": "scattergeo"
           }
          ],
          "scattergl": [
           {
            "marker": {
             "colorbar": {
              "outlinewidth": 0,
              "ticks": ""
             }
            },
            "type": "scattergl"
           }
          ],
          "scattermapbox": [
           {
            "marker": {
             "colorbar": {
              "outlinewidth": 0,
              "ticks": ""
             }
            },
            "type": "scattermapbox"
           }
          ],
          "scatterpolar": [
           {
            "marker": {
             "colorbar": {
              "outlinewidth": 0,
              "ticks": ""
             }
            },
            "type": "scatterpolar"
           }
          ],
          "scatterpolargl": [
           {
            "marker": {
             "colorbar": {
              "outlinewidth": 0,
              "ticks": ""
             }
            },
            "type": "scatterpolargl"
           }
          ],
          "scatterternary": [
           {
            "marker": {
             "colorbar": {
              "outlinewidth": 0,
              "ticks": ""
             }
            },
            "type": "scatterternary"
           }
          ],
          "surface": [
           {
            "colorbar": {
             "outlinewidth": 0,
             "ticks": ""
            },
            "colorscale": [
             [
              0,
              "#0d0887"
             ],
             [
              0.1111111111111111,
              "#46039f"
             ],
             [
              0.2222222222222222,
              "#7201a8"
             ],
             [
              0.3333333333333333,
              "#9c179e"
             ],
             [
              0.4444444444444444,
              "#bd3786"
             ],
             [
              0.5555555555555556,
              "#d8576b"
             ],
             [
              0.6666666666666666,
              "#ed7953"
             ],
             [
              0.7777777777777778,
              "#fb9f3a"
             ],
             [
              0.8888888888888888,
              "#fdca26"
             ],
             [
              1,
              "#f0f921"
             ]
            ],
            "type": "surface"
           }
          ],
          "table": [
           {
            "cells": {
             "fill": {
              "color": "#EBF0F8"
             },
             "line": {
              "color": "white"
             }
            },
            "header": {
             "fill": {
              "color": "#C8D4E3"
             },
             "line": {
              "color": "white"
             }
            },
            "type": "table"
           }
          ]
         },
         "layout": {
          "annotationdefaults": {
           "arrowcolor": "#2a3f5f",
           "arrowhead": 0,
           "arrowwidth": 1
          },
          "coloraxis": {
           "colorbar": {
            "outlinewidth": 0,
            "ticks": ""
           }
          },
          "colorscale": {
           "diverging": [
            [
             0,
             "#8e0152"
            ],
            [
             0.1,
             "#c51b7d"
            ],
            [
             0.2,
             "#de77ae"
            ],
            [
             0.3,
             "#f1b6da"
            ],
            [
             0.4,
             "#fde0ef"
            ],
            [
             0.5,
             "#f7f7f7"
            ],
            [
             0.6,
             "#e6f5d0"
            ],
            [
             0.7,
             "#b8e186"
            ],
            [
             0.8,
             "#7fbc41"
            ],
            [
             0.9,
             "#4d9221"
            ],
            [
             1,
             "#276419"
            ]
           ],
           "sequential": [
            [
             0,
             "#0d0887"
            ],
            [
             0.1111111111111111,
             "#46039f"
            ],
            [
             0.2222222222222222,
             "#7201a8"
            ],
            [
             0.3333333333333333,
             "#9c179e"
            ],
            [
             0.4444444444444444,
             "#bd3786"
            ],
            [
             0.5555555555555556,
             "#d8576b"
            ],
            [
             0.6666666666666666,
             "#ed7953"
            ],
            [
             0.7777777777777778,
             "#fb9f3a"
            ],
            [
             0.8888888888888888,
             "#fdca26"
            ],
            [
             1,
             "#f0f921"
            ]
           ],
           "sequentialminus": [
            [
             0,
             "#0d0887"
            ],
            [
             0.1111111111111111,
             "#46039f"
            ],
            [
             0.2222222222222222,
             "#7201a8"
            ],
            [
             0.3333333333333333,
             "#9c179e"
            ],
            [
             0.4444444444444444,
             "#bd3786"
            ],
            [
             0.5555555555555556,
             "#d8576b"
            ],
            [
             0.6666666666666666,
             "#ed7953"
            ],
            [
             0.7777777777777778,
             "#fb9f3a"
            ],
            [
             0.8888888888888888,
             "#fdca26"
            ],
            [
             1,
             "#f0f921"
            ]
           ]
          },
          "colorway": [
           "#636efa",
           "#EF553B",
           "#00cc96",
           "#ab63fa",
           "#FFA15A",
           "#19d3f3",
           "#FF6692",
           "#B6E880",
           "#FF97FF",
           "#FECB52"
          ],
          "font": {
           "color": "#2a3f5f"
          },
          "geo": {
           "bgcolor": "white",
           "lakecolor": "white",
           "landcolor": "#E5ECF6",
           "showlakes": true,
           "showland": true,
           "subunitcolor": "white"
          },
          "hoverlabel": {
           "align": "left"
          },
          "hovermode": "closest",
          "mapbox": {
           "style": "light"
          },
          "paper_bgcolor": "white",
          "plot_bgcolor": "#E5ECF6",
          "polar": {
           "angularaxis": {
            "gridcolor": "white",
            "linecolor": "white",
            "ticks": ""
           },
           "bgcolor": "#E5ECF6",
           "radialaxis": {
            "gridcolor": "white",
            "linecolor": "white",
            "ticks": ""
           }
          },
          "scene": {
           "xaxis": {
            "backgroundcolor": "#E5ECF6",
            "gridcolor": "white",
            "gridwidth": 2,
            "linecolor": "white",
            "showbackground": true,
            "ticks": "",
            "zerolinecolor": "white"
           },
           "yaxis": {
            "backgroundcolor": "#E5ECF6",
            "gridcolor": "white",
            "gridwidth": 2,
            "linecolor": "white",
            "showbackground": true,
            "ticks": "",
            "zerolinecolor": "white"
           },
           "zaxis": {
            "backgroundcolor": "#E5ECF6",
            "gridcolor": "white",
            "gridwidth": 2,
            "linecolor": "white",
            "showbackground": true,
            "ticks": "",
            "zerolinecolor": "white"
           }
          },
          "shapedefaults": {
           "line": {
            "color": "#2a3f5f"
           }
          },
          "ternary": {
           "aaxis": {
            "gridcolor": "white",
            "linecolor": "white",
            "ticks": ""
           },
           "baxis": {
            "gridcolor": "white",
            "linecolor": "white",
            "ticks": ""
           },
           "bgcolor": "#E5ECF6",
           "caxis": {
            "gridcolor": "white",
            "linecolor": "white",
            "ticks": ""
           }
          },
          "title": {
           "x": 0.05
          },
          "xaxis": {
           "automargin": true,
           "gridcolor": "white",
           "linecolor": "white",
           "ticks": "",
           "title": {
            "standoff": 15
           },
           "zerolinecolor": "white",
           "zerolinewidth": 2
          },
          "yaxis": {
           "automargin": true,
           "gridcolor": "white",
           "linecolor": "white",
           "ticks": "",
           "title": {
            "standoff": 15
           },
           "zerolinecolor": "white",
           "zerolinewidth": 2
          }
         }
        },
        "title": {
         "text": "Highest Overall Player Rating"
        },
        "xaxis": {
         "title": {
          "text": "Players"
         }
        },
        "yaxis": {
         "title": {
          "text": "Rating"
         }
        }
       }
      },
      "text/html": [
       "<div>                            <div id=\"200f63ba-b5de-499c-8556-3a2876a7e4f5\" class=\"plotly-graph-div\" style=\"height:525px; width:100%;\"></div>            <script type=\"text/javascript\">                require([\"plotly\"], function(Plotly) {                    window.PLOTLYENV=window.PLOTLYENV || {};                                    if (document.getElementById(\"200f63ba-b5de-499c-8556-3a2876a7e4f5\")) {                    Plotly.newPlot(                        \"200f63ba-b5de-499c-8556-3a2876a7e4f5\",                        [{\"mode\": \"markers+lines\", \"type\": \"scatter\", \"x\": [\"Thriller\", \"Sci-Fi\", \"Drama\", \"Mystery\", \"Comedy\", \"Animation\", \"Adventure\", \"Action\", \"Fantasy\", \"Family\", \"Documentary\", \"Romance\", \"History\", \"Biography\"], \"y\": [1733, 1614, 1603, 1504, 241, 122, 116, 116, 90, 32, 32, 9, 8, 8]}],                        {\"hovermode\": \"closest\", \"template\": {\"data\": {\"bar\": [{\"error_x\": {\"color\": \"#2a3f5f\"}, \"error_y\": {\"color\": \"#2a3f5f\"}, \"marker\": {\"line\": {\"color\": \"#E5ECF6\", \"width\": 0.5}}, \"type\": \"bar\"}], \"barpolar\": [{\"marker\": {\"line\": {\"color\": \"#E5ECF6\", \"width\": 0.5}}, \"type\": \"barpolar\"}], \"carpet\": [{\"aaxis\": {\"endlinecolor\": \"#2a3f5f\", \"gridcolor\": \"white\", \"linecolor\": \"white\", \"minorgridcolor\": \"white\", \"startlinecolor\": \"#2a3f5f\"}, \"baxis\": {\"endlinecolor\": \"#2a3f5f\", \"gridcolor\": \"white\", \"linecolor\": \"white\", \"minorgridcolor\": \"white\", \"startlinecolor\": \"#2a3f5f\"}, \"type\": \"carpet\"}], \"choropleth\": [{\"colorbar\": {\"outlinewidth\": 0, \"ticks\": \"\"}, \"type\": \"choropleth\"}], \"contour\": [{\"colorbar\": {\"outlinewidth\": 0, \"ticks\": \"\"}, \"colorscale\": [[0.0, \"#0d0887\"], [0.1111111111111111, \"#46039f\"], [0.2222222222222222, \"#7201a8\"], [0.3333333333333333, \"#9c179e\"], [0.4444444444444444, \"#bd3786\"], [0.5555555555555556, \"#d8576b\"], [0.6666666666666666, \"#ed7953\"], [0.7777777777777778, \"#fb9f3a\"], [0.8888888888888888, \"#fdca26\"], [1.0, \"#f0f921\"]], \"type\": \"contour\"}], \"contourcarpet\": [{\"colorbar\": {\"outlinewidth\": 0, \"ticks\": \"\"}, \"type\": \"contourcarpet\"}], \"heatmap\": [{\"colorbar\": {\"outlinewidth\": 0, \"ticks\": \"\"}, \"colorscale\": [[0.0, \"#0d0887\"], [0.1111111111111111, \"#46039f\"], [0.2222222222222222, \"#7201a8\"], [0.3333333333333333, \"#9c179e\"], [0.4444444444444444, \"#bd3786\"], [0.5555555555555556, \"#d8576b\"], [0.6666666666666666, \"#ed7953\"], [0.7777777777777778, \"#fb9f3a\"], [0.8888888888888888, \"#fdca26\"], [1.0, \"#f0f921\"]], \"type\": \"heatmap\"}], \"heatmapgl\": [{\"colorbar\": {\"outlinewidth\": 0, \"ticks\": \"\"}, \"colorscale\": [[0.0, \"#0d0887\"], [0.1111111111111111, \"#46039f\"], [0.2222222222222222, \"#7201a8\"], [0.3333333333333333, \"#9c179e\"], [0.4444444444444444, \"#bd3786\"], [0.5555555555555556, \"#d8576b\"], [0.6666666666666666, \"#ed7953\"], [0.7777777777777778, \"#fb9f3a\"], [0.8888888888888888, \"#fdca26\"], [1.0, \"#f0f921\"]], \"type\": \"heatmapgl\"}], \"histogram\": [{\"marker\": {\"colorbar\": {\"outlinewidth\": 0, \"ticks\": \"\"}}, \"type\": \"histogram\"}], \"histogram2d\": [{\"colorbar\": {\"outlinewidth\": 0, \"ticks\": \"\"}, \"colorscale\": [[0.0, \"#0d0887\"], [0.1111111111111111, \"#46039f\"], [0.2222222222222222, \"#7201a8\"], [0.3333333333333333, \"#9c179e\"], [0.4444444444444444, \"#bd3786\"], [0.5555555555555556, \"#d8576b\"], [0.6666666666666666, \"#ed7953\"], [0.7777777777777778, \"#fb9f3a\"], [0.8888888888888888, \"#fdca26\"], [1.0, \"#f0f921\"]], \"type\": \"histogram2d\"}], \"histogram2dcontour\": [{\"colorbar\": {\"outlinewidth\": 0, \"ticks\": \"\"}, \"colorscale\": [[0.0, \"#0d0887\"], [0.1111111111111111, \"#46039f\"], [0.2222222222222222, \"#7201a8\"], [0.3333333333333333, \"#9c179e\"], [0.4444444444444444, \"#bd3786\"], [0.5555555555555556, \"#d8576b\"], [0.6666666666666666, \"#ed7953\"], [0.7777777777777778, \"#fb9f3a\"], [0.8888888888888888, \"#fdca26\"], [1.0, \"#f0f921\"]], \"type\": \"histogram2dcontour\"}], \"mesh3d\": [{\"colorbar\": {\"outlinewidth\": 0, \"ticks\": \"\"}, \"type\": \"mesh3d\"}], \"parcoords\": [{\"line\": {\"colorbar\": {\"outlinewidth\": 0, \"ticks\": \"\"}}, \"type\": \"parcoords\"}], \"pie\": [{\"automargin\": true, \"type\": \"pie\"}], \"scatter\": [{\"marker\": {\"colorbar\": {\"outlinewidth\": 0, \"ticks\": \"\"}}, \"type\": \"scatter\"}], \"scatter3d\": [{\"line\": {\"colorbar\": {\"outlinewidth\": 0, \"ticks\": \"\"}}, \"marker\": {\"colorbar\": {\"outlinewidth\": 0, \"ticks\": \"\"}}, \"type\": \"scatter3d\"}], \"scattercarpet\": [{\"marker\": {\"colorbar\": {\"outlinewidth\": 0, \"ticks\": \"\"}}, \"type\": \"scattercarpet\"}], \"scattergeo\": [{\"marker\": {\"colorbar\": {\"outlinewidth\": 0, \"ticks\": \"\"}}, \"type\": \"scattergeo\"}], \"scattergl\": [{\"marker\": {\"colorbar\": {\"outlinewidth\": 0, \"ticks\": \"\"}}, \"type\": \"scattergl\"}], \"scattermapbox\": [{\"marker\": {\"colorbar\": {\"outlinewidth\": 0, \"ticks\": \"\"}}, \"type\": \"scattermapbox\"}], \"scatterpolar\": [{\"marker\": {\"colorbar\": {\"outlinewidth\": 0, \"ticks\": \"\"}}, \"type\": \"scatterpolar\"}], \"scatterpolargl\": [{\"marker\": {\"colorbar\": {\"outlinewidth\": 0, \"ticks\": \"\"}}, \"type\": \"scatterpolargl\"}], \"scatterternary\": [{\"marker\": {\"colorbar\": {\"outlinewidth\": 0, \"ticks\": \"\"}}, \"type\": \"scatterternary\"}], \"surface\": [{\"colorbar\": {\"outlinewidth\": 0, \"ticks\": \"\"}, \"colorscale\": [[0.0, \"#0d0887\"], [0.1111111111111111, \"#46039f\"], [0.2222222222222222, \"#7201a8\"], [0.3333333333333333, \"#9c179e\"], [0.4444444444444444, \"#bd3786\"], [0.5555555555555556, \"#d8576b\"], [0.6666666666666666, \"#ed7953\"], [0.7777777777777778, \"#fb9f3a\"], [0.8888888888888888, \"#fdca26\"], [1.0, \"#f0f921\"]], \"type\": \"surface\"}], \"table\": [{\"cells\": {\"fill\": {\"color\": \"#EBF0F8\"}, \"line\": {\"color\": \"white\"}}, \"header\": {\"fill\": {\"color\": \"#C8D4E3\"}, \"line\": {\"color\": \"white\"}}, \"type\": \"table\"}]}, \"layout\": {\"annotationdefaults\": {\"arrowcolor\": \"#2a3f5f\", \"arrowhead\": 0, \"arrowwidth\": 1}, \"coloraxis\": {\"colorbar\": {\"outlinewidth\": 0, \"ticks\": \"\"}}, \"colorscale\": {\"diverging\": [[0, \"#8e0152\"], [0.1, \"#c51b7d\"], [0.2, \"#de77ae\"], [0.3, \"#f1b6da\"], [0.4, \"#fde0ef\"], [0.5, \"#f7f7f7\"], [0.6, \"#e6f5d0\"], [0.7, \"#b8e186\"], [0.8, \"#7fbc41\"], [0.9, \"#4d9221\"], [1, \"#276419\"]], \"sequential\": [[0.0, \"#0d0887\"], [0.1111111111111111, \"#46039f\"], [0.2222222222222222, \"#7201a8\"], [0.3333333333333333, \"#9c179e\"], [0.4444444444444444, \"#bd3786\"], [0.5555555555555556, \"#d8576b\"], [0.6666666666666666, \"#ed7953\"], [0.7777777777777778, \"#fb9f3a\"], [0.8888888888888888, \"#fdca26\"], [1.0, \"#f0f921\"]], \"sequentialminus\": [[0.0, \"#0d0887\"], [0.1111111111111111, \"#46039f\"], [0.2222222222222222, \"#7201a8\"], [0.3333333333333333, \"#9c179e\"], [0.4444444444444444, \"#bd3786\"], [0.5555555555555556, \"#d8576b\"], [0.6666666666666666, \"#ed7953\"], [0.7777777777777778, \"#fb9f3a\"], [0.8888888888888888, \"#fdca26\"], [1.0, \"#f0f921\"]]}, \"colorway\": [\"#636efa\", \"#EF553B\", \"#00cc96\", \"#ab63fa\", \"#FFA15A\", \"#19d3f3\", \"#FF6692\", \"#B6E880\", \"#FF97FF\", \"#FECB52\"], \"font\": {\"color\": \"#2a3f5f\"}, \"geo\": {\"bgcolor\": \"white\", \"lakecolor\": \"white\", \"landcolor\": \"#E5ECF6\", \"showlakes\": true, \"showland\": true, \"subunitcolor\": \"white\"}, \"hoverlabel\": {\"align\": \"left\"}, \"hovermode\": \"closest\", \"mapbox\": {\"style\": \"light\"}, \"paper_bgcolor\": \"white\", \"plot_bgcolor\": \"#E5ECF6\", \"polar\": {\"angularaxis\": {\"gridcolor\": \"white\", \"linecolor\": \"white\", \"ticks\": \"\"}, \"bgcolor\": \"#E5ECF6\", \"radialaxis\": {\"gridcolor\": \"white\", \"linecolor\": \"white\", \"ticks\": \"\"}}, \"scene\": {\"xaxis\": {\"backgroundcolor\": \"#E5ECF6\", \"gridcolor\": \"white\", \"gridwidth\": 2, \"linecolor\": \"white\", \"showbackground\": true, \"ticks\": \"\", \"zerolinecolor\": \"white\"}, \"yaxis\": {\"backgroundcolor\": \"#E5ECF6\", \"gridcolor\": \"white\", \"gridwidth\": 2, \"linecolor\": \"white\", \"showbackground\": true, \"ticks\": \"\", \"zerolinecolor\": \"white\"}, \"zaxis\": {\"backgroundcolor\": \"#E5ECF6\", \"gridcolor\": \"white\", \"gridwidth\": 2, \"linecolor\": \"white\", \"showbackground\": true, \"ticks\": \"\", \"zerolinecolor\": \"white\"}}, \"shapedefaults\": {\"line\": {\"color\": \"#2a3f5f\"}}, \"ternary\": {\"aaxis\": {\"gridcolor\": \"white\", \"linecolor\": \"white\", \"ticks\": \"\"}, \"baxis\": {\"gridcolor\": \"white\", \"linecolor\": \"white\", \"ticks\": \"\"}, \"bgcolor\": \"#E5ECF6\", \"caxis\": {\"gridcolor\": \"white\", \"linecolor\": \"white\", \"ticks\": \"\"}}, \"title\": {\"x\": 0.05}, \"xaxis\": {\"automargin\": true, \"gridcolor\": \"white\", \"linecolor\": \"white\", \"ticks\": \"\", \"title\": {\"standoff\": 15}, \"zerolinecolor\": \"white\", \"zerolinewidth\": 2}, \"yaxis\": {\"automargin\": true, \"gridcolor\": \"white\", \"linecolor\": \"white\", \"ticks\": \"\", \"title\": {\"standoff\": 15}, \"zerolinecolor\": \"white\", \"zerolinewidth\": 2}}}, \"title\": {\"text\": \"Highest Overall Player Rating\"}, \"xaxis\": {\"title\": {\"text\": \"Players\"}}, \"yaxis\": {\"title\": {\"text\": \"Rating\"}}},                        {\"responsive\": true}                    ).then(function(){\n",
       "                            \n",
       "var gd = document.getElementById('200f63ba-b5de-499c-8556-3a2876a7e4f5');\n",
       "var x = new MutationObserver(function (mutations, observer) {{\n",
       "        var display = window.getComputedStyle(gd).display;\n",
       "        if (!display || display === 'none') {{\n",
       "            console.log([gd, 'removed!']);\n",
       "            Plotly.purge(gd);\n",
       "            observer.disconnect();\n",
       "        }}\n",
       "}});\n",
       "\n",
       "// Listen for the removal of the full notebook cells\n",
       "var notebookContainer = gd.closest('#notebook-container');\n",
       "if (notebookContainer) {{\n",
       "    x.observe(notebookContainer, {childList: true});\n",
       "}}\n",
       "\n",
       "// Listen for the clearing of the current output cell\n",
       "var outputEl = gd.closest('.output');\n",
       "if (outputEl) {{\n",
       "    x.observe(outputEl, {childList: true});\n",
       "}}\n",
       "\n",
       "                        })                };                });            </script>        </div>"
      ]
     },
     "metadata": {},
     "output_type": "display_data"
    }
   ],
   "source": [
    "df3=df2[df2['Reviews Count']!='Unknown']\n",
    "x1=df3.groupby('Genres')['Reviews Count'].sum().sort_values(ascending=False)\n",
    "\n",
    "data=[\n",
    "    go.Scatter(\n",
    "    x=x1.index,\n",
    "    y=x1.values,\n",
    "    mode='markers+lines'\n",
    "    )\n",
    "]\n",
    "\n",
    "layout=go.Layout(\n",
    "title='Highest Overall Player Rating',\n",
    "xaxis=dict(title='Players'),\n",
    "yaxis=dict(title='Rating'),\n",
    "hovermode='closest'\n",
    ")\n",
    "\n",
    "fig = go.Figure(data=data,layout=layout)\n",
    "iplot(fig)"
   ]
  },
  {
   "cell_type": "markdown",
   "metadata": {},
   "source": [
    "## Genres Sentiment Count"
   ]
  },
  {
   "cell_type": "code",
   "execution_count": 73,
   "metadata": {},
   "outputs": [
    {
     "data": {
      "text/plain": [
       "Genres       Sentiment\n",
       "Action       Positive     2\n",
       "Adventure    Positive     2\n",
       "Animation    Positive     2\n",
       "Biography    Positive     1\n",
       "Comedy       Positive     4\n",
       "Documentary  Positive     5\n",
       "Drama        Positive     4\n",
       "Family       Positive     1\n",
       "Fantasy      Positive     1\n",
       "History      Positive     1\n",
       "Mystery      Positive     1\n",
       "Romance      Positive     1\n",
       "Sci-Fi       Positive     3\n",
       "Thriller     Positive     4\n",
       "Name: Sentiment, dtype: int64"
      ]
     },
     "execution_count": 73,
     "metadata": {},
     "output_type": "execute_result"
    }
   ],
   "source": [
    "df3=df2[df2['Sentiment']!='Unknown']\n",
    "df3.groupby(['Genres','Sentiment'])['Sentiment'].count()"
   ]
  },
  {
   "cell_type": "markdown",
   "metadata": {},
   "source": [
    "# Clustering"
   ]
  },
  {
   "cell_type": "code",
   "execution_count": 74,
   "metadata": {},
   "outputs": [
    {
     "data": {
      "text/html": [
       "<div>\n",
       "<style scoped>\n",
       "    .dataframe tbody tr th:only-of-type {\n",
       "        vertical-align: middle;\n",
       "    }\n",
       "\n",
       "    .dataframe tbody tr th {\n",
       "        vertical-align: top;\n",
       "    }\n",
       "\n",
       "    .dataframe thead th {\n",
       "        text-align: right;\n",
       "    }\n",
       "</style>\n",
       "<table border=\"1\" class=\"dataframe\">\n",
       "  <thead>\n",
       "    <tr style=\"text-align: right;\">\n",
       "      <th></th>\n",
       "      <th>Directors, Writers, Main Lead</th>\n",
       "      <th>Genres</th>\n",
       "      <th>Ratings</th>\n",
       "      <th>Reviews Count</th>\n",
       "      <th>Sentiment</th>\n",
       "      <th>Type</th>\n",
       "      <th>Rating Count</th>\n",
       "    </tr>\n",
       "  </thead>\n",
       "  <tbody>\n",
       "    <tr>\n",
       "      <th>0</th>\n",
       "      <td>K.V.R. Mahendra,K.V.R. Mahendra,Joy Badlani</td>\n",
       "      <td>Drama,Romance</td>\n",
       "      <td>5.8</td>\n",
       "      <td>Unknown</td>\n",
       "      <td>Unknown</td>\n",
       "      <td>Series</td>\n",
       "      <td>137</td>\n",
       "    </tr>\n",
       "    <tr>\n",
       "      <th>1</th>\n",
       "      <td>Justin Bare,Justin Bare,Harry Benson</td>\n",
       "      <td>Documentary</td>\n",
       "      <td>7.3</td>\n",
       "      <td>1</td>\n",
       "      <td>Positive</td>\n",
       "      <td>Movie</td>\n",
       "      <td>378</td>\n",
       "    </tr>\n",
       "    <tr>\n",
       "      <th>2</th>\n",
       "      <td>Dan Milano,Ricardo Hurtado</td>\n",
       "      <td>Animation,Action,Adventure,Comedy,Family,Sci-F...</td>\n",
       "      <td>7.9</td>\n",
       "      <td>26</td>\n",
       "      <td>Positive</td>\n",
       "      <td>Series</td>\n",
       "      <td>637</td>\n",
       "    </tr>\n",
       "    <tr>\n",
       "      <th>3</th>\n",
       "      <td>Richard Hickey</td>\n",
       "      <td>Animation,Family,Musical</td>\n",
       "      <td>Unknown</td>\n",
       "      <td>Unknown</td>\n",
       "      <td>Unknown</td>\n",
       "      <td>Unknown</td>\n",
       "      <td>0</td>\n",
       "    </tr>\n",
       "    <tr>\n",
       "      <th>4</th>\n",
       "      <td>Ike Barinholtz,Ike Barinholtz,Ike Barinholtz</td>\n",
       "      <td>Comedy,Thriller</td>\n",
       "      <td>5.5</td>\n",
       "      <td>119</td>\n",
       "      <td>Positive</td>\n",
       "      <td>Series</td>\n",
       "      <td>4181</td>\n",
       "    </tr>\n",
       "  </tbody>\n",
       "</table>\n",
       "</div>"
      ],
      "text/plain": [
       "                  Directors, Writers, Main Lead  \\\n",
       "0   K.V.R. Mahendra,K.V.R. Mahendra,Joy Badlani   \n",
       "1          Justin Bare,Justin Bare,Harry Benson   \n",
       "2                    Dan Milano,Ricardo Hurtado   \n",
       "3                                Richard Hickey   \n",
       "4  Ike Barinholtz,Ike Barinholtz,Ike Barinholtz   \n",
       "\n",
       "                                              Genres  Ratings Reviews Count  \\\n",
       "0                                      Drama,Romance      5.8       Unknown   \n",
       "1                                        Documentary      7.3             1   \n",
       "2  Animation,Action,Adventure,Comedy,Family,Sci-F...      7.9            26   \n",
       "3                           Animation,Family,Musical  Unknown       Unknown   \n",
       "4                                    Comedy,Thriller      5.5           119   \n",
       "\n",
       "  Sentiment     Type  Rating Count  \n",
       "0   Unknown   Series           137  \n",
       "1  Positive    Movie           378  \n",
       "2  Positive   Series           637  \n",
       "3   Unknown  Unknown             0  \n",
       "4  Positive   Series          4181  "
      ]
     },
     "execution_count": 74,
     "metadata": {},
     "output_type": "execute_result"
    }
   ],
   "source": [
    "df2=df.loc[:,['Directors, Writers, Main Lead','Genres','Ratings','Reviews Count','Sentiment','Type','Rating Count']]\n",
    "df2['Directors, Writers, Main Lead']=df2['Directors, Writers, Main Lead'].apply(lambda x:\",\".join(x))\n",
    "df2['Genres']=df2['Genres'].apply(lambda x:\",\".join(x))\n",
    "df2.head()"
   ]
  },
  {
   "cell_type": "code",
   "execution_count": 75,
   "metadata": {},
   "outputs": [],
   "source": [
    "from sklearn.preprocessing import LabelEncoder\n",
    "le1=LabelEncoder()\n",
    "le2=LabelEncoder()\n",
    "le3=LabelEncoder()\n",
    "le4=LabelEncoder()"
   ]
  },
  {
   "cell_type": "code",
   "execution_count": 76,
   "metadata": {},
   "outputs": [],
   "source": [
    "df2['Directors, Writers, Main Lead']=le1.fit_transform(df2['Directors, Writers, Main Lead'])\n",
    "df2['Genres']=le2.fit_transform(df2['Genres'])\n",
    "df2['Sentiment']=le3.fit_transform(df2['Sentiment'])\n",
    "df2['Type']=le4.fit_transform(df2['Type'])"
   ]
  },
  {
   "cell_type": "code",
   "execution_count": 77,
   "metadata": {},
   "outputs": [],
   "source": [
    "df2['Ratings']=df2['Ratings'].apply(lambda x:0 if x=='Unknown' else x)\n",
    "df2['Reviews Count']=df2['Reviews Count'].apply(lambda x:0 if x=='Unknown' else x)"
   ]
  },
  {
   "cell_type": "code",
   "execution_count": 78,
   "metadata": {},
   "outputs": [],
   "source": [
    "from sklearn.datasets.samples_generator import make_blobs\n",
    "from sklearn.cluster import KMeans"
   ]
  },
  {
   "cell_type": "code",
   "execution_count": 79,
   "metadata": {},
   "outputs": [
    {
     "data": {
      "image/png": "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\n",
      "text/plain": [
       "<Figure size 432x288 with 1 Axes>"
      ]
     },
     "metadata": {},
     "output_type": "display_data"
    }
   ],
   "source": [
    "wcss = []\n",
    "for i in range(1, 11):\n",
    "    kmeans = KMeans(n_clusters=i, init='k-means++', max_iter=300, n_init=10, random_state=0)\n",
    "    kmeans.fit(df2)\n",
    "    wcss.append(kmeans.inertia_)\n",
    "plt.plot(range(1, 11), wcss)\n",
    "plt.title('Elbow Method')\n",
    "plt.xlabel('Number of clusters')\n",
    "plt.ylabel('WCSS')\n",
    "plt.show()"
   ]
  },
  {
   "cell_type": "code",
   "execution_count": 80,
   "metadata": {},
   "outputs": [],
   "source": [
    "kmeans = KMeans(n_clusters=2, random_state=0).fit(df2)\n",
    "labels = kmeans.labels_\n",
    "df2['clusters'] = labels"
   ]
  },
  {
   "cell_type": "code",
   "execution_count": 81,
   "metadata": {},
   "outputs": [
    {
     "data": {
      "text/plain": [
       "0    14\n",
       "1     1\n",
       "Name: clusters, dtype: int64"
      ]
     },
     "execution_count": 81,
     "metadata": {},
     "output_type": "execute_result"
    }
   ],
   "source": [
    "df2['clusters'].value_counts()"
   ]
  },
  {
   "cell_type": "markdown",
   "metadata": {},
   "source": [
    "# Cluster Analysis"
   ]
  },
  {
   "cell_type": "code",
   "execution_count": 82,
   "metadata": {},
   "outputs": [],
   "source": [
    "df2['Directors, Writers, Main Lead']=le1.inverse_transform(df2['Directors, Writers, Main Lead'])\n",
    "df2['Genres']=le2.inverse_transform(df2['Genres'])\n",
    "df2['Sentiment']=le3.inverse_transform(df2['Sentiment'])\n",
    "df2['Type']=le4.inverse_transform(df2['Type'])"
   ]
  },
  {
   "cell_type": "code",
   "execution_count": 83,
   "metadata": {},
   "outputs": [],
   "source": [
    "df_1=df2[df2['clusters']==0]\n",
    "df_2=df2[df2['clusters']==1]"
   ]
  },
  {
   "cell_type": "markdown",
   "metadata": {},
   "source": [
    "## Genres "
   ]
  },
  {
   "cell_type": "code",
   "execution_count": 101,
   "metadata": {},
   "outputs": [
    {
     "data": {
      "text/plain": [
       "Text(0.5, 1.0, 'Group 2')"
      ]
     },
     "execution_count": 101,
     "metadata": {},
     "output_type": "execute_result"
    },
    {
     "data": {
      "image/png": "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\n",
      "text/plain": [
       "<Figure size 1080x360 with 2 Axes>"
      ]
     },
     "metadata": {},
     "output_type": "display_data"
    }
   ],
   "source": [
    "x1=df_1['Genres'].value_counts()\n",
    "x2=df_2['Genres'].value_counts()\n",
    "\n",
    "fig, ax = plt.subplots(2, 1)\n",
    "# Setting height and width of subplots\n",
    "fig.set_figheight(5)\n",
    "fig.set_figwidth(15)\n",
    "sns.barplot(x1.index,x1.values, ax=ax[0])\n",
    "sns.boxplot(x2.index,x2.values, ax=ax[1])\n",
    "plt.tight_layout(h_pad=2.0)\n",
    "ax[0].set_title('Group 1')\n",
    "ax[1].set_title('Group 2')"
   ]
  },
  {
   "cell_type": "markdown",
   "metadata": {},
   "source": [
    "## Average Ratings"
   ]
  },
  {
   "cell_type": "code",
   "execution_count": 104,
   "metadata": {},
   "outputs": [
    {
     "data": {
      "text/plain": [
       "<matplotlib.axes._subplots.AxesSubplot at 0x1e4a1835a60>"
      ]
     },
     "execution_count": 104,
     "metadata": {},
     "output_type": "execute_result"
    },
    {
     "data": {
      "image/png": "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\n",
      "text/plain": [
       "<Figure size 432x288 with 1 Axes>"
      ]
     },
     "metadata": {},
     "output_type": "display_data"
    }
   ],
   "source": [
    "labels = ['Group 1','Group 2']\n",
    "values = [df_1[df_1['Ratings']!='Unknown']['Ratings'].mean(),df_2[df_2['Ratings']!='Unknown']['Ratings'].mean()]\n",
    "\n",
    "sns.barplot(labels,values)"
   ]
  },
  {
   "cell_type": "markdown",
   "metadata": {},
   "source": [
    "## Total Review Counts"
   ]
  },
  {
   "cell_type": "code",
   "execution_count": 105,
   "metadata": {},
   "outputs": [
    {
     "data": {
      "text/plain": [
       "<matplotlib.axes._subplots.AxesSubplot at 0x1e4a1893490>"
      ]
     },
     "execution_count": 105,
     "metadata": {},
     "output_type": "execute_result"
    },
    {
     "data": {
      "image/png": "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\n",
      "text/plain": [
       "<Figure size 432x288 with 1 Axes>"
      ]
     },
     "metadata": {},
     "output_type": "display_data"
    }
   ],
   "source": [
    "labels = ['Group 1','Group 2']\n",
    "values = [df_1[df_1['Reviews Count']!='Unknown']['Reviews Count'].sum(),df_2[df_2['Ratings']!='Unknown']['Ratings'].sum()]\n",
    "sns.barplot(labels,values)"
   ]
  },
  {
   "cell_type": "markdown",
   "metadata": {},
   "source": [
    "## Sentiment "
   ]
  },
  {
   "cell_type": "code",
   "execution_count": 106,
   "metadata": {},
   "outputs": [
    {
     "data": {
      "text/plain": [
       "Text(0.5, 1.0, 'Negative')"
      ]
     },
     "execution_count": 106,
     "metadata": {},
     "output_type": "execute_result"
    },
    {
     "data": {
      "image/png": "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\n",
      "text/plain": [
       "<Figure size 1080x360 with 2 Axes>"
      ]
     },
     "metadata": {},
     "output_type": "display_data"
    }
   ],
   "source": [
    "labels = ['Group 1','Group 2']\n",
    "vals1 = [df_1[df_1['Sentiment']=='Positive'].shape[0],df_2[df_2['Sentiment']=='Positive'].shape[0]]\n",
    "vals2 = [df_1[df_1['Sentiment']=='Negative'].shape[0],df_2[df_2['Sentiment']=='Negative'].shape[0]]\n",
    "\n",
    "\n",
    "fig, ax = plt.subplots(2, 1)\n",
    "# Setting height and width of subplots\n",
    "fig.set_figheight(5)\n",
    "fig.set_figwidth(15)\n",
    "sns.barplot(labels,vals1, ax=ax[0])\n",
    "sns.boxplot(labels,vals2, ax=ax[1])\n",
    "plt.tight_layout(h_pad=2.0)\n",
    "ax[0].set_title('Positive')\n",
    "ax[1].set_title('Negative')"
   ]
  },
  {
   "cell_type": "code",
   "execution_count": null,
   "metadata": {},
   "outputs": [],
   "source": []
  }
 ],
 "metadata": {
  "kernelspec": {
   "display_name": "Python 3",
   "language": "python",
   "name": "python3"
  },
  "language_info": {
   "codemirror_mode": {
    "name": "ipython",
    "version": 3
   },
   "file_extension": ".py",
   "mimetype": "text/x-python",
   "name": "python",
   "nbconvert_exporter": "python",
   "pygments_lexer": "ipython3",
   "version": "3.8.3"
  }
 },
 "nbformat": 4,
 "nbformat_minor": 4
}
